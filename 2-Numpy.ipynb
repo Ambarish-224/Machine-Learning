{
 "cells": [
  {
   "cell_type": "markdown",
   "id": "fdf36255-13df-40bd-9d10-a2c0c88d24f3",
   "metadata": {},
   "source": [
    "## NumPy is a general-purpose array-processing package. It provides a high-performance multidimensional array object, and tools for working with these arrays. It is the fundamental package for scientific computing with Python"
   ]
  },
  {
   "cell_type": "code",
   "execution_count": 2,
   "id": "a6aac27d-67d3-49e7-b2a0-984fed10f8a3",
   "metadata": {},
   "outputs": [],
   "source": [
    "import numpy as np"
   ]
  },
  {
   "cell_type": "code",
   "execution_count": 3,
   "id": "50c6ff31-543d-4a1e-80bf-cf1390d2d800",
   "metadata": {},
   "outputs": [],
   "source": [
    "my_lst=[1,2,3,4,5]\n",
    "\n",
    "arr=np.array(my_lst)"
   ]
  },
  {
   "cell_type": "code",
   "execution_count": 4,
   "id": "1e58a73a-055a-42bf-9b82-ffe0bf58d977",
   "metadata": {},
   "outputs": [
    {
     "name": "stdout",
     "output_type": "stream",
     "text": [
      "[1 2 3 4 5]\n"
     ]
    },
    {
     "data": {
      "text/plain": [
       "numpy.ndarray"
      ]
     },
     "execution_count": 4,
     "metadata": {},
     "output_type": "execute_result"
    }
   ],
   "source": [
    "print(arr)\n",
    "type(arr)"
   ]
  },
  {
   "cell_type": "code",
   "execution_count": 5,
   "id": "b571b965-b87c-47f2-8b8b-06993dc74ae8",
   "metadata": {},
   "outputs": [
    {
     "data": {
      "text/plain": [
       "(5,)"
      ]
     },
     "execution_count": 5,
     "metadata": {},
     "output_type": "execute_result"
    }
   ],
   "source": [
    "arr.shape #rows,cols"
   ]
  },
  {
   "cell_type": "code",
   "execution_count": 7,
   "id": "5a41b768-8276-4480-9c69-127d86a94ca0",
   "metadata": {},
   "outputs": [
    {
     "name": "stdout",
     "output_type": "stream",
     "text": [
      "[[1 2 3 4 5]\n",
      " [6 7 8 9 1]]\n"
     ]
    }
   ],
   "source": [
    "arr1=np.array([[1,2,3,4,5],[6,7,8,9,1]])\n",
    "print(arr1)"
   ]
  },
  {
   "cell_type": "code",
   "execution_count": 47,
   "id": "490a1850-3ae3-4fa0-8286-846a5bc2df45",
   "metadata": {},
   "outputs": [
    {
     "name": "stdout",
     "output_type": "stream",
     "text": [
      "[[1 2 3 4 5]\n",
      " [2 3 4 5 6]\n",
      " [9 7 6 8 9]]\n"
     ]
    }
   ],
   "source": [
    "## Multinested array\n",
    "my_lst1=[1,2,3,4,5]\n",
    "my_lst2=[2,3,4,5,6]\n",
    "my_lst3=[9,7,6,8,9]\n",
    "\n",
    "arr=np.array([my_lst1,my_lst2,my_lst3])\n",
    "print(arr)"
   ]
  },
  {
   "cell_type": "code",
   "execution_count": 48,
   "id": "b4502789-b44c-4bf5-b70f-730bf063faf1",
   "metadata": {},
   "outputs": [
    {
     "data": {
      "text/plain": [
       "(3, 5)"
      ]
     },
     "execution_count": 48,
     "metadata": {},
     "output_type": "execute_result"
    }
   ],
   "source": [
    "arr.shape #rows,cols"
   ]
  },
  {
   "cell_type": "code",
   "execution_count": 49,
   "id": "1d363c89-4bd2-42c3-b7ad-f7b450e652e6",
   "metadata": {},
   "outputs": [
    {
     "data": {
      "text/plain": [
       "array([[1, 2, 3],\n",
       "       [4, 5, 2],\n",
       "       [3, 4, 5],\n",
       "       [6, 9, 7],\n",
       "       [6, 8, 9]])"
      ]
     },
     "execution_count": 49,
     "metadata": {},
     "output_type": "execute_result"
    }
   ],
   "source": [
    "arr.reshape(5,3)"
   ]
  },
  {
   "cell_type": "code",
   "execution_count": 50,
   "id": "d6d6ef0f-7470-432c-a148-dff5017b6fa0",
   "metadata": {},
   "outputs": [
    {
     "ename": "ValueError",
     "evalue": "cannot reshape array of size 15 into shape (5,4)",
     "output_type": "error",
     "traceback": [
      "\u001b[1;31m---------------------------------------------------------------------------\u001b[0m",
      "\u001b[1;31mValueError\u001b[0m                                Traceback (most recent call last)",
      "\u001b[1;32m<ipython-input-50-1607bede7833>\u001b[0m in \u001b[0;36m<module>\u001b[1;34m\u001b[0m\n\u001b[1;32m----> 1\u001b[1;33m \u001b[0marr\u001b[0m\u001b[1;33m.\u001b[0m\u001b[0mreshape\u001b[0m\u001b[1;33m(\u001b[0m\u001b[1;36m5\u001b[0m\u001b[1;33m,\u001b[0m\u001b[1;36m4\u001b[0m\u001b[1;33m)\u001b[0m \u001b[1;31m#won't happen\u001b[0m\u001b[1;33m\u001b[0m\u001b[1;33m\u001b[0m\u001b[0m\n\u001b[0m",
      "\u001b[1;31mValueError\u001b[0m: cannot reshape array of size 15 into shape (5,4)"
     ]
    }
   ],
   "source": [
    "arr.reshape(5,4) #won't happen"
   ]
  },
  {
   "cell_type": "code",
   "execution_count": 54,
   "id": "25471dbe-ff47-4fd4-966d-7329cab03ee8",
   "metadata": {},
   "outputs": [
    {
     "data": {
      "text/plain": [
       "array([[1, 2, 3, 4, 5],\n",
       "       [2, 3, 4, 5, 6],\n",
       "       [9, 7, 6, 8, 9]])"
      ]
     },
     "execution_count": 54,
     "metadata": {},
     "output_type": "execute_result"
    }
   ],
   "source": [
    "arr"
   ]
  },
  {
   "cell_type": "code",
   "execution_count": 55,
   "id": "9459db89-0762-4855-b9b7-4631f528b5a0",
   "metadata": {},
   "outputs": [
    {
     "data": {
      "text/plain": [
       "array([[1, 2, 3, 4, 5],\n",
       "       [2, 3, 4, 5, 6],\n",
       "       [9, 7, 6, 8, 9]])"
      ]
     },
     "execution_count": 55,
     "metadata": {},
     "output_type": "execute_result"
    }
   ],
   "source": [
    "arr[:,:] #row [start:stop] , col [start:stop]"
   ]
  },
  {
   "cell_type": "code",
   "execution_count": 57,
   "id": "173b4863-3552-454d-bec5-aeb18a8bf83e",
   "metadata": {},
   "outputs": [
    {
     "data": {
      "text/plain": [
       "array([[2, 3],\n",
       "       [9, 7]])"
      ]
     },
     "execution_count": 57,
     "metadata": {},
     "output_type": "execute_result"
    }
   ],
   "source": [
    "arr[1:,:2]\n"
   ]
  },
  {
   "cell_type": "code",
   "execution_count": 58,
   "id": "7214eb8f-a074-46ed-b710-5780bac87273",
   "metadata": {},
   "outputs": [
    {
     "data": {
      "text/plain": [
       "array([[4, 5],\n",
       "       [5, 6],\n",
       "       [8, 9]])"
      ]
     },
     "execution_count": 58,
     "metadata": {},
     "output_type": "execute_result"
    }
   ],
   "source": [
    "arr[:,3:]"
   ]
  },
  {
   "cell_type": "code",
   "execution_count": 61,
   "id": "ed73b046-b768-4350-837c-4f957672c36a",
   "metadata": {},
   "outputs": [
    {
     "name": "stdout",
     "output_type": "stream",
     "text": [
      "[0 1 2 3 4 5 6 7 8 9]\n"
     ]
    }
   ],
   "source": [
    "arr=np.arange(0,10)\n",
    "print(arr)"
   ]
  },
  {
   "cell_type": "code",
   "execution_count": 12,
   "id": "3a74a5d2-d164-4231-837d-00a9409cc420",
   "metadata": {},
   "outputs": [
    {
     "name": "stdout",
     "output_type": "stream",
     "text": [
      "[1 3 5 7 9]\n"
     ]
    }
   ],
   "source": [
    "arr=np.arange(1,10,2)\n",
    "print(arr)"
   ]
  },
  {
   "cell_type": "code",
   "execution_count": 13,
   "id": "7ddece63-ace0-48c7-9200-b318ae01a2ff",
   "metadata": {},
   "outputs": [
    {
     "data": {
      "text/plain": [
       "array([1.        , 0.33333333, 0.2       , 0.14285714, 0.11111111])"
      ]
     },
     "execution_count": 13,
     "metadata": {},
     "output_type": "execute_result"
    }
   ],
   "source": [
    "1/arr"
   ]
  },
  {
   "cell_type": "code",
   "execution_count": 63,
   "id": "3d65480d-4840-4b04-b2b3-cc07d87a7648",
   "metadata": {},
   "outputs": [
    {
     "data": {
      "text/plain": [
       "array([ 1.        ,  1.47368421,  1.94736842,  2.42105263,  2.89473684,\n",
       "        3.36842105,  3.84210526,  4.31578947,  4.78947368,  5.26315789,\n",
       "        5.73684211,  6.21052632,  6.68421053,  7.15789474,  7.63157895,\n",
       "        8.10526316,  8.57894737,  9.05263158,  9.52631579, 10.        ])"
      ]
     },
     "execution_count": 63,
     "metadata": {},
     "output_type": "execute_result"
    }
   ],
   "source": [
    "np.linspace(1,10,20) #starting:ending:no. of points -- produces equally spaced points"
   ]
  },
  {
   "cell_type": "code",
   "execution_count": 65,
   "id": "3775e4b2-bef9-43d7-aecf-2bc1b3cd3d91",
   "metadata": {},
   "outputs": [
    {
     "name": "stdout",
     "output_type": "stream",
     "text": [
      "[0 1 2 3 4 5 6 7 8 9]\n",
      "[  0   1   2 100 100 100 100 100 100 100]\n"
     ]
    }
   ],
   "source": [
    "arr=np.arange(0,10)\n",
    "print(arr)\n",
    "arr[3:]=100\n",
    "print(arr)"
   ]
  },
  {
   "cell_type": "code",
   "execution_count": 66,
   "id": "3650bf53-2ccc-4fd8-852f-72a85459b6a3",
   "metadata": {},
   "outputs": [
    {
     "name": "stdout",
     "output_type": "stream",
     "text": [
      "[  0   1   2 100 500 500 500 500 500 500]\n"
     ]
    }
   ],
   "source": [
    "arr1=arr\n",
    "arr1[4:]=500  #changes original one as they point to the same objects\n",
    "print(arr) "
   ]
  },
  {
   "cell_type": "code",
   "execution_count": 68,
   "id": "9eb0f0d1-6b98-424c-bd3d-c38aac3cbdcd",
   "metadata": {},
   "outputs": [
    {
     "name": "stdout",
     "output_type": "stream",
     "text": [
      "[0 1 2 3 4 5 6 7 8 9]\n",
      "[0 1 2 3 4 5 6 7 8 9]\n",
      "[  0   1   2   3 500 500 500 500 500 500]\n"
     ]
    }
   ],
   "source": [
    "#to avoid this\n",
    "arr=np.arange(0,10)\n",
    "print(arr)\n",
    "arr1=arr.copy()\n",
    "arr1[4:]=500  #doesnt change original as it makes its own copy\n",
    "print(arr)\n",
    "print(arr1)  #only makes changes in its own copy"
   ]
  },
  {
   "cell_type": "code",
   "execution_count": 71,
   "id": "10ac1707-13e5-4620-9ee8-863751b1494f",
   "metadata": {},
   "outputs": [
    {
     "data": {
      "text/plain": [
       "array([ True,  True,  True,  True,  True, False, False, False, False,\n",
       "       False])"
      ]
     },
     "execution_count": 71,
     "metadata": {},
     "output_type": "execute_result"
    }
   ],
   "source": [
    "val=5\n",
    "arr<val"
   ]
  },
  {
   "cell_type": "code",
   "execution_count": 72,
   "id": "6e53e8de-f393-461a-a1eb-87a6035a0703",
   "metadata": {},
   "outputs": [
    {
     "name": "stdout",
     "output_type": "stream",
     "text": [
      "[0 1 2 3 4]\n"
     ]
    }
   ],
   "source": [
    "print(arr[arr<val])"
   ]
  },
  {
   "cell_type": "code",
   "execution_count": 73,
   "id": "8cd62dec-44ff-4dfa-af82-0e66d8c8db09",
   "metadata": {},
   "outputs": [
    {
     "data": {
      "text/plain": [
       "array([ 0,  2,  4,  6,  8, 10, 12, 14, 16, 18])"
      ]
     },
     "execution_count": 73,
     "metadata": {},
     "output_type": "execute_result"
    }
   ],
   "source": [
    "arr*2"
   ]
  },
  {
   "cell_type": "code",
   "execution_count": 74,
   "id": "ec6cc58a-aeb6-41e1-9b92-1467c592ed63",
   "metadata": {},
   "outputs": [
    {
     "data": {
      "text/plain": [
       "array([[ 0,  1,  2,  3],\n",
       "       [ 4,  5,  6,  7],\n",
       "       [ 8,  9, 10, 11],\n",
       "       [12, 13, 14, 15],\n",
       "       [16, 17, 18, 19]])"
      ]
     },
     "execution_count": 74,
     "metadata": {},
     "output_type": "execute_result"
    }
   ],
   "source": [
    "np.arange(0,20).reshape(5,4)"
   ]
  },
  {
   "cell_type": "code",
   "execution_count": 75,
   "id": "4b1f4635-4d05-4219-8d67-e6329d01000a",
   "metadata": {},
   "outputs": [],
   "source": [
    "arr1=np.arange(0,10).reshape(2,5)\n",
    "arr2=np.arange(0,10).reshape(2,5)"
   ]
  },
  {
   "cell_type": "code",
   "execution_count": 76,
   "id": "04a39c21-4c7f-41d6-9e1d-3a52923e1e65",
   "metadata": {},
   "outputs": [
    {
     "data": {
      "text/plain": [
       "array([[ 0,  1,  4,  9, 16],\n",
       "       [25, 36, 49, 64, 81]])"
      ]
     },
     "execution_count": 76,
     "metadata": {},
     "output_type": "execute_result"
    }
   ],
   "source": [
    "arr1*arr2 #element wise multiplication not matrix can be same for arr1-arr2 etc"
   ]
  },
  {
   "cell_type": "code",
   "execution_count": 77,
   "id": "33e0a993-f432-40bf-8dc4-b36d376422da",
   "metadata": {},
   "outputs": [
    {
     "data": {
      "text/plain": [
       "array([[1, 1, 1, 1, 1],\n",
       "       [1, 1, 1, 1, 1]])"
      ]
     },
     "execution_count": 77,
     "metadata": {},
     "output_type": "execute_result"
    }
   ],
   "source": [
    "np.ones((2,5),dtype=int) # row,column shape of type int (default is float) - creates rown-cols of 1"
   ]
  },
  {
   "cell_type": "code",
   "execution_count": 9,
   "id": "a6ee2dce-f000-4df5-8562-d9cf1db19458",
   "metadata": {},
   "outputs": [
    {
     "data": {
      "text/plain": [
       "array([[0, 0, 0, 0, 0, 0],\n",
       "       [0, 0, 0, 0, 0, 0],\n",
       "       [0, 0, 0, 0, 0, 0],\n",
       "       [0, 0, 0, 0, 0, 0]])"
      ]
     },
     "execution_count": 9,
     "metadata": {},
     "output_type": "execute_result"
    }
   ],
   "source": [
    "np.zeros((4,6),dtype=int) #not same as np.empty as np.empty can pick up garbage value"
   ]
  },
  {
   "cell_type": "code",
   "execution_count": 78,
   "id": "0e814387-caef-4658-9dbc-5013f0d24bf2",
   "metadata": {},
   "outputs": [
    {
     "data": {
      "text/plain": [
       "array([[0.00805411, 0.57756259, 0.97830344],\n",
       "       [0.02661363, 0.74200654, 0.26352927],\n",
       "       [0.57888124, 0.28002797, 0.1948329 ]])"
      ]
     },
     "execution_count": 78,
     "metadata": {},
     "output_type": "execute_result"
    }
   ],
   "source": [
    "## random distribution \n",
    "np.random.rand(3,3) #0-1 random distribution samples"
   ]
  },
  {
   "cell_type": "code",
   "execution_count": 79,
   "id": "1b2fe442-b1ca-4d82-a8aa-dea790301834",
   "metadata": {},
   "outputs": [
    {
     "name": "stdout",
     "output_type": "stream",
     "text": [
      "[[-0.30803285  0.43805911 -0.09664975  0.95998616]\n",
      " [-0.76254398  0.64760846  2.03306403 -0.19868541]\n",
      " [-0.70507334  1.11782437 -0.73136549  0.2097826 ]\n",
      " [ 1.43276391 -0.90818176  0.83934391 -0.92463368]]\n"
     ]
    }
   ],
   "source": [
    "arr_ex=np.random.randn(4,4)  #based on std normal distribution\n",
    "print(arr_ex)"
   ]
  },
  {
   "cell_type": "code",
   "execution_count": 82,
   "id": "787c2d45-aff6-4cfb-9f50-9d9920d8d96c",
   "metadata": {},
   "outputs": [],
   "source": [
    "import seaborn as sns\n",
    "import pandas as pd"
   ]
  },
  {
   "cell_type": "code",
   "execution_count": 83,
   "id": "0be4ab21-00db-4790-a06a-b3a1e5b44155",
   "metadata": {},
   "outputs": [
    {
     "name": "stderr",
     "output_type": "stream",
     "text": [
      "C:\\Users\\Vanshika Mishra\\anaconda3\\lib\\site-packages\\seaborn\\distributions.py:2557: FutureWarning: `distplot` is a deprecated function and will be removed in a future version. Please adapt your code to use either `displot` (a figure-level function with similar flexibility) or `histplot` (an axes-level function for histograms).\n",
      "  warnings.warn(msg, FutureWarning)\n"
     ]
    },
    {
     "data": {
      "text/plain": [
       "<AxesSubplot:ylabel='Density'>"
      ]
     },
     "execution_count": 83,
     "metadata": {},
     "output_type": "execute_result"
    },
    {
     "data": {
      "image/png": "[encoded data removed]",
      "text/plain": [
       "<Figure size 432x288 with 1 Axes>"
      ]
     },
     "metadata": {
      "needs_background": "light"
     },
     "output_type": "display_data"
    }
   ],
   "source": [
    "sns.distplot(pd.DataFrame(arr_ex.reshape(16,1)))"
   ]
  },
  {
   "cell_type": "code",
   "execution_count": 84,
   "id": "989c0ebd-d1b3-43e0-b9c8-bb8078de3f45",
   "metadata": {},
   "outputs": [
    {
     "data": {
      "text/plain": [
       "array([[12, 46],\n",
       "       [14, 13],\n",
       "       [71, 15],\n",
       "       [39, 27]])"
      ]
     },
     "execution_count": 84,
     "metadata": {},
     "output_type": "execute_result"
    }
   ],
   "source": [
    "np.random.randint(0,100,8).reshape(4,2) #0,100 interval 8 no.s"
   ]
  },
  {
   "cell_type": "code",
   "execution_count": 85,
   "id": "05412e9b-e5bd-4356-a8f5-d0fdb21a8361",
   "metadata": {},
   "outputs": [
    {
     "data": {
      "text/plain": [
       "array([[0.76350682, 0.14214694, 0.10475837, 0.78215411, 0.74237485]])"
      ]
     },
     "execution_count": 85,
     "metadata": {},
     "output_type": "execute_result"
    }
   ],
   "source": [
    "np.random.random_sample((1,5)) #0-1 interval no. of points"
   ]
  },
  {
   "cell_type": "code",
   "execution_count": 15,
   "id": "3150f023-712c-48a4-8168-3326904d561b",
   "metadata": {},
   "outputs": [
    {
     "name": "stdout",
     "output_type": "stream",
     "text": [
      "[[1 2 3 4 5]\n",
      " [2 3 4 5 6]]\n"
     ]
    }
   ],
   "source": [
    "ar1=np.array([[1,2,3,4,5],[2,3,4,5,6]])\n",
    "print(ar1)"
   ]
  },
  {
   "cell_type": "code",
   "execution_count": 16,
   "id": "922ca03b-5611-4a49-b9e9-d4dece76672f",
   "metadata": {},
   "outputs": [
    {
     "data": {
      "text/plain": [
       "array([ 3,  5,  7,  9, 11])"
      ]
     },
     "execution_count": 16,
     "metadata": {},
     "output_type": "execute_result"
    }
   ],
   "source": [
    "ar1.sum(axis=0)"
   ]
  },
  {
   "cell_type": "code",
   "execution_count": 22,
   "id": "e1c5d06a-347e-4057-994b-1daa4fb525ee",
   "metadata": {},
   "outputs": [
    {
     "name": "stdout",
     "output_type": "stream",
     "text": [
      "[[1 2 3 4 5 6]\n",
      " [2 3 4 5 6 1]]\n"
     ]
    }
   ],
   "source": [
    "ar1=np.array([[1,2,3,4,5,6],[2,3,4,5,6,1]]) # 2 x 6\n",
    "print(ar1)"
   ]
  },
  {
   "cell_type": "code",
   "execution_count": 23,
   "id": "e0e484a7-0feb-42e3-ae95-cd00fd22d2c0",
   "metadata": {},
   "outputs": [
    {
     "name": "stdout",
     "output_type": "stream",
     "text": [
      "[[2 3 4 5 2 7]\n",
      " [7 8 9 6 5 4]]\n"
     ]
    }
   ],
   "source": [
    "ar2=np.array([[2,3,4,5,2,7],[7,8,9,6,5,4]]) #2 x 6\n",
    "print(ar2)"
   ]
  },
  {
   "cell_type": "code",
   "execution_count": 24,
   "id": "77d97706-1064-4a53-b246-0483b87b02c6",
   "metadata": {},
   "outputs": [
    {
     "data": {
      "text/plain": [
       "array([[ 92, 123],\n",
       "       [ 73, 138]])"
      ]
     },
     "execution_count": 24,
     "metadata": {},
     "output_type": "execute_result"
    }
   ],
   "source": [
    "ar1.dot(ar2.transpose())  # 2x6   X 6x2= 2x2"
   ]
  },
  {
   "cell_type": "code",
   "execution_count": 30,
   "id": "7a56f672-e604-4011-b748-c7de3a420fce",
   "metadata": {},
   "outputs": [
    {
     "data": {
      "text/plain": [
       "array([[1, 2, 3, 4, 5, 1],\n",
       "       [2, 3, 4, 5, 6, 6]])"
      ]
     },
     "execution_count": 30,
     "metadata": {},
     "output_type": "execute_result"
    }
   ],
   "source": [
    "np.sort(ar1,axis=0)"
   ]
  },
  {
   "cell_type": "code",
   "execution_count": 33,
   "id": "64047e17-475d-4a22-a9ed-9dc807885c2d",
   "metadata": {},
   "outputs": [],
   "source": [
    "b=np.array([1,2,3,4,5,6,7,8,9,2,3,4,5,6,7,8,1,2,3,7,8,9])"
   ]
  },
  {
   "cell_type": "code",
   "execution_count": 34,
   "id": "28a30ad7-a661-4e10-9429-622d00e24257",
   "metadata": {},
   "outputs": [
    {
     "data": {
      "text/plain": [
       "array([ 0, 16,  1, 17,  9, 18, 10,  2, 11,  3, 12,  4,  5, 13, 14, 19,  6,\n",
       "        7, 20, 15,  8, 21], dtype=int64)"
      ]
     },
     "execution_count": 34,
     "metadata": {},
     "output_type": "execute_result"
    }
   ],
   "source": [
    "b.argsort() #this shows on which index is the next term placed in ascending order"
   ]
  },
  {
   "cell_type": "code",
   "execution_count": 35,
   "id": "f7c4b9e6-46ef-403e-aa63-349b614c5280",
   "metadata": {},
   "outputs": [
    {
     "data": {
      "text/plain": [
       "8"
      ]
     },
     "execution_count": 35,
     "metadata": {},
     "output_type": "execute_result"
    }
   ],
   "source": [
    "np.argmax(b) # returns index"
   ]
  },
  {
   "cell_type": "code",
   "execution_count": null,
   "id": "f15fbf32-c4d5-45a7-bd5c-046ed441a704",
   "metadata": {},
   "outputs": [],
   "source": []
  }
 ],
 "metadata": {
  "kernelspec": {
   "display_name": "Python 3",
   "language": "python",
   "name": "python3"
  },
  "language_info": {
   "codemirror_mode": {
    "name": "ipython",
    "version": 3
   },
   "file_extension": ".py",
   "mimetype": "text/x-python",
   "name": "python",
   "nbconvert_exporter": "python",
   "pygments_lexer": "ipython3",
   "version": "3.8.8"
  }
 },
 "nbformat": 4,
 "nbformat_minor": 5
}
