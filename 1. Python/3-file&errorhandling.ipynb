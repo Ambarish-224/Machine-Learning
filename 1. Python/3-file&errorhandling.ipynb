{
 "cells": [
  {
   "cell_type": "markdown",
   "id": "67e5f460-fa9f-457a-8283-88ae2651cda6",
   "metadata": {},
   "source": [
    "### Text File"
   ]
  },
  {
   "cell_type": "markdown",
   "id": "4953dfba-2ea7-40b4-9c92-690f79f8609e",
   "metadata": {},
   "source": [
    "#### 1. Opening a file"
   ]
  },
  {
   "cell_type": "code",
   "execution_count": 1,
   "id": "991d10b8-db77-483c-9151-1e2b7659542c",
   "metadata": {},
   "outputs": [],
   "source": [
    "file=open(\"hello.txt\",\"r\")"
   ]
  },
  {
   "cell_type": "code",
   "execution_count": 2,
   "id": "e7d9d845-1889-4589-88d6-4d90cdd9b0ea",
   "metadata": {},
   "outputs": [
    {
     "data": {
      "text/plain": [
       "'hello once\\nhello twice\\nhello thrice'"
      ]
     },
     "execution_count": 2,
     "metadata": {},
     "output_type": "execute_result"
    }
   ],
   "source": [
    "file.read()"
   ]
  },
  {
   "cell_type": "code",
   "execution_count": 3,
   "id": "c7c115a5-3ca0-45de-bba5-69f9bebd4600",
   "metadata": {},
   "outputs": [],
   "source": [
    "file.close()"
   ]
  },
  {
   "cell_type": "markdown",
   "id": "2b93098a-ebba-4a9b-88b8-a6e185f9a8e4",
   "metadata": {},
   "source": [
    "### 2. Writing File"
   ]
  },
  {
   "cell_type": "code",
   "execution_count": 4,
   "id": "b7f073d9-10b8-4b10-b3da-edfd5ca3f5d3",
   "metadata": {},
   "outputs": [],
   "source": [
    "file=open(\"something.txt\",\"w\")"
   ]
  },
  {
   "cell_type": "code",
   "execution_count": 5,
   "id": "beed7eaa-3236-44c4-b93c-ebf91a824b5e",
   "metadata": {},
   "outputs": [
    {
     "data": {
      "text/plain": [
       "24"
      ]
     },
     "execution_count": 5,
     "metadata": {},
     "output_type": "execute_result"
    }
   ],
   "source": [
    "file.write(\"hello girl! How are you?\")"
   ]
  },
  {
   "cell_type": "code",
   "execution_count": 6,
   "id": "31bd1602-bbe1-47b5-ad5a-adbd82d6747e",
   "metadata": {},
   "outputs": [],
   "source": [
    "file.close()"
   ]
  },
  {
   "cell_type": "markdown",
   "id": "08891096-14a5-4610-93a4-3b90014ad909",
   "metadata": {},
   "source": [
    "### 3. Reading line and lines"
   ]
  },
  {
   "cell_type": "code",
   "execution_count": 7,
   "id": "4609afb6-3073-4c0b-b6de-35023a396113",
   "metadata": {},
   "outputs": [],
   "source": [
    "file=open(\"hello.txt\",\"r\")"
   ]
  },
  {
   "cell_type": "code",
   "execution_count": 8,
   "id": "911cb5b1-d009-40be-b001-c9c990047874",
   "metadata": {},
   "outputs": [
    {
     "data": {
      "text/plain": [
       "'hello once\\n'"
      ]
     },
     "execution_count": 8,
     "metadata": {},
     "output_type": "execute_result"
    }
   ],
   "source": [
    "file.readline() #reads lines one by one"
   ]
  },
  {
   "cell_type": "code",
   "execution_count": 9,
   "id": "d83913a0-1894-4450-8945-eb26b545ab62",
   "metadata": {},
   "outputs": [],
   "source": [
    "file.close()"
   ]
  },
  {
   "cell_type": "code",
   "execution_count": 10,
   "id": "b68ae373-d545-4fc2-8eba-6e23b6f43722",
   "metadata": {},
   "outputs": [],
   "source": [
    "file=open(\"hello.txt\",\"r\")"
   ]
  },
  {
   "cell_type": "code",
   "execution_count": 11,
   "id": "184f5c42-3136-44ee-8b3d-fff45b2b6233",
   "metadata": {},
   "outputs": [
    {
     "data": {
      "text/plain": [
       "['hello once\\n', 'hello twice\\n', 'hello thrice']"
      ]
     },
     "execution_count": 11,
     "metadata": {},
     "output_type": "execute_result"
    }
   ],
   "source": [
    "file.readlines()"
   ]
  },
  {
   "cell_type": "code",
   "execution_count": 12,
   "id": "df03725e-e882-4061-a527-b353f7e7d0fd",
   "metadata": {},
   "outputs": [],
   "source": [
    "file.close()"
   ]
  },
  {
   "cell_type": "code",
   "execution_count": 13,
   "id": "2250a8b0-c97e-42ba-a894-9ebd367bd94a",
   "metadata": {},
   "outputs": [
    {
     "name": "stdout",
     "output_type": "stream",
     "text": [
      "hello once\n",
      "hello twice\n",
      "hello thrice\n",
      " once\n",
      "hello twice\n",
      "hello thrice\n"
     ]
    },
    {
     "ename": "ValueError",
     "evalue": "I/O operation on closed file.",
     "output_type": "error",
     "traceback": [
      "\u001b[1;31m---------------------------------------------------------------------------\u001b[0m",
      "\u001b[1;31mValueError\u001b[0m                                Traceback (most recent call last)",
      "\u001b[1;32m<ipython-input-13-47b341ca6d0b>\u001b[0m in \u001b[0;36m<module>\u001b[1;34m\u001b[0m\n\u001b[0;32m      4\u001b[0m     \u001b[0mprint\u001b[0m\u001b[1;33m(\u001b[0m\u001b[0mfile\u001b[0m\u001b[1;33m.\u001b[0m\u001b[0mread\u001b[0m\u001b[1;33m(\u001b[0m\u001b[1;33m)\u001b[0m\u001b[1;33m)\u001b[0m \u001b[1;31m#it closes the file automatically\u001b[0m\u001b[1;33m\u001b[0m\u001b[1;33m\u001b[0m\u001b[0m\n\u001b[0;32m      5\u001b[0m \u001b[1;33m\u001b[0m\u001b[0m\n\u001b[1;32m----> 6\u001b[1;33m \u001b[0mfile\u001b[0m\u001b[1;33m.\u001b[0m\u001b[0mread\u001b[0m\u001b[1;33m(\u001b[0m\u001b[1;33m)\u001b[0m \u001b[1;31m#this flags an error because its trying to work on a closed file\u001b[0m\u001b[1;33m\u001b[0m\u001b[1;33m\u001b[0m\u001b[0m\n\u001b[0m",
      "\u001b[1;31mValueError\u001b[0m: I/O operation on closed file."
     ]
    }
   ],
   "source": [
    "with open(\"hello.txt\",\"r\") as file:\n",
    "    print(file.read())\n",
    "    file.seek(5) #moves the cursor to  the mentioned no\n",
    "    print(file.read()) #it closes the file automatically\n",
    "    \n",
    "file.read() #this flags an error because its trying to work on a closed file"
   ]
  },
  {
   "cell_type": "markdown",
   "id": "c93d5135-6913-4142-86ad-ae0752c92d1e",
   "metadata": {},
   "source": [
    "### JSON \n",
    "Javascript object notation"
   ]
  },
  {
   "cell_type": "code",
   "execution_count": 14,
   "id": "5b4aeb1f-2bff-43a0-a41d-4c9d32ceeb4f",
   "metadata": {},
   "outputs": [],
   "source": [
    "import json"
   ]
  },
  {
   "cell_type": "code",
   "execution_count": 15,
   "id": "e7d99150-4a67-4ad4-9445-fe91ef168a18",
   "metadata": {},
   "outputs": [
    {
     "name": "stdout",
     "output_type": "stream",
     "text": [
      "Vanshika Mishra\n",
      "95\n",
      "eng\n"
     ]
    }
   ],
   "source": [
    "with open(\"data.json\",\"r\") as file:\n",
    "    d=json.load(file) #de-serializes Json file to Python object\n",
    "    print(d[\"name\"])\n",
    "    print(d[\"marks\"])\n",
    "    print(d[\"subjects\"][0])"
   ]
  },
  {
   "cell_type": "code",
   "execution_count": 16,
   "id": "f4666178-e665-464d-aebe-2855ca2bcf56",
   "metadata": {},
   "outputs": [],
   "source": [
    "d={\n",
    "    \"name\":\"Vanshika\",\n",
    "    \"age\":19,\n",
    "    \"nationality\":\"Indian\"\n",
    "}"
   ]
  },
  {
   "cell_type": "code",
   "execution_count": 17,
   "id": "a853a6ef-1b9d-4273-8e66-754e6fb16874",
   "metadata": {},
   "outputs": [],
   "source": [
    "with open(\"created.json\",\"w\") as file: #converting dictionary to json file\n",
    "    json.dump(d,file)"
   ]
  },
  {
   "cell_type": "markdown",
   "id": "54b2c637-cb0e-470d-9655-6ff5532510be",
   "metadata": {},
   "source": [
    "### Errors and Exceptions"
   ]
  },
  {
   "cell_type": "code",
   "execution_count": 18,
   "id": "7cdb30cc-73a0-4617-854e-9d22050262bb",
   "metadata": {},
   "outputs": [
    {
     "ename": "SyntaxError",
     "evalue": "invalid syntax (<ipython-input-18-da192d97fe89>, line 2)",
     "output_type": "error",
     "traceback": [
      "\u001b[1;36m  File \u001b[1;32m\"<ipython-input-18-da192d97fe89>\"\u001b[1;36m, line \u001b[1;32m2\u001b[0m\n\u001b[1;33m    fore i in range(10):\u001b[0m\n\u001b[1;37m         ^\u001b[0m\n\u001b[1;31mSyntaxError\u001b[0m\u001b[1;31m:\u001b[0m invalid syntax\n"
     ]
    }
   ],
   "source": [
    "# Error\n",
    "fore i in range(10):\n",
    "    print(i)"
   ]
  },
  {
   "cell_type": "code",
   "execution_count": 19,
   "id": "28e8d35e-e938-43c9-aa87-a9df7010a2ac",
   "metadata": {},
   "outputs": [
    {
     "name": "stdout",
     "output_type": "stream",
     "text": [
      "Hello\n"
     ]
    },
    {
     "ename": "ZeroDivisionError",
     "evalue": "division by zero",
     "output_type": "error",
     "traceback": [
      "\u001b[1;31m---------------------------------------------------------------------------\u001b[0m",
      "\u001b[1;31mZeroDivisionError\u001b[0m                         Traceback (most recent call last)",
      "\u001b[1;32m<ipython-input-19-773539344cfc>\u001b[0m in \u001b[0;36m<module>\u001b[1;34m\u001b[0m\n\u001b[0;32m      1\u001b[0m \u001b[1;31m#Exception\u001b[0m\u001b[1;33m\u001b[0m\u001b[1;33m\u001b[0m\u001b[1;33m\u001b[0m\u001b[0m\n\u001b[0;32m      2\u001b[0m \u001b[0mprint\u001b[0m\u001b[1;33m(\u001b[0m\u001b[1;34m\"Hello\"\u001b[0m\u001b[1;33m)\u001b[0m\u001b[1;33m\u001b[0m\u001b[1;33m\u001b[0m\u001b[0m\n\u001b[1;32m----> 3\u001b[1;33m \u001b[0mprint\u001b[0m\u001b[1;33m(\u001b[0m\u001b[1;36m10\u001b[0m\u001b[1;33m/\u001b[0m\u001b[1;36m0\u001b[0m\u001b[1;33m)\u001b[0m\u001b[1;33m\u001b[0m\u001b[1;33m\u001b[0m\u001b[0m\n\u001b[0m\u001b[0;32m      4\u001b[0m \u001b[0mprint\u001b[0m\u001b[1;33m(\u001b[0m\u001b[1;34m\"world\"\u001b[0m\u001b[1;33m)\u001b[0m\u001b[1;33m\u001b[0m\u001b[1;33m\u001b[0m\u001b[0m\n",
      "\u001b[1;31mZeroDivisionError\u001b[0m: division by zero"
     ]
    }
   ],
   "source": [
    "#Exception\n",
    "print(\"Hello\")\n",
    "print(10/0)\n",
    "print(\"world\")"
   ]
  },
  {
   "cell_type": "code",
   "execution_count": 21,
   "id": "9e8770ff-3ed6-490b-94a2-cbf0d8ed482b",
   "metadata": {},
   "outputs": [],
   "source": [
    "def div(a,b):\n",
    "    print(a/b)"
   ]
  },
  {
   "cell_type": "code",
   "execution_count": 22,
   "id": "faa97bd1-cf81-4758-a367-9bb3e1c74fb1",
   "metadata": {},
   "outputs": [
    {
     "name": "stdout",
     "output_type": "stream",
     "text": [
      "5.0\n"
     ]
    }
   ],
   "source": [
    "div(10,2)"
   ]
  },
  {
   "cell_type": "code",
   "execution_count": 23,
   "id": "727217f1-d7fa-4394-917b-20f5757a5387",
   "metadata": {},
   "outputs": [
    {
     "ename": "ZeroDivisionError",
     "evalue": "division by zero",
     "output_type": "error",
     "traceback": [
      "\u001b[1;31m---------------------------------------------------------------------------\u001b[0m",
      "\u001b[1;31mZeroDivisionError\u001b[0m                         Traceback (most recent call last)",
      "\u001b[1;32m<ipython-input-23-62aa15fadd90>\u001b[0m in \u001b[0;36m<module>\u001b[1;34m\u001b[0m\n\u001b[0;32m      1\u001b[0m \u001b[1;31m#edge case\u001b[0m\u001b[1;33m\u001b[0m\u001b[1;33m\u001b[0m\u001b[1;33m\u001b[0m\u001b[0m\n\u001b[1;32m----> 2\u001b[1;33m \u001b[0mdiv\u001b[0m\u001b[1;33m(\u001b[0m\u001b[1;36m10\u001b[0m\u001b[1;33m,\u001b[0m\u001b[1;36m0\u001b[0m\u001b[1;33m)\u001b[0m\u001b[1;33m\u001b[0m\u001b[1;33m\u001b[0m\u001b[0m\n\u001b[0m",
      "\u001b[1;32m<ipython-input-21-338f0144455e>\u001b[0m in \u001b[0;36mdiv\u001b[1;34m(a, b)\u001b[0m\n\u001b[0;32m      1\u001b[0m \u001b[1;32mdef\u001b[0m \u001b[0mdiv\u001b[0m\u001b[1;33m(\u001b[0m\u001b[0ma\u001b[0m\u001b[1;33m,\u001b[0m\u001b[0mb\u001b[0m\u001b[1;33m)\u001b[0m\u001b[1;33m:\u001b[0m\u001b[1;33m\u001b[0m\u001b[1;33m\u001b[0m\u001b[0m\n\u001b[1;32m----> 2\u001b[1;33m     \u001b[0mprint\u001b[0m\u001b[1;33m(\u001b[0m\u001b[0ma\u001b[0m\u001b[1;33m/\u001b[0m\u001b[0mb\u001b[0m\u001b[1;33m)\u001b[0m\u001b[1;33m\u001b[0m\u001b[1;33m\u001b[0m\u001b[0m\n\u001b[0m",
      "\u001b[1;31mZeroDivisionError\u001b[0m: division by zero"
     ]
    }
   ],
   "source": [
    "#edge case\n",
    "div(10,0)"
   ]
  },
  {
   "cell_type": "code",
   "execution_count": 24,
   "id": "a91cb1a7-37b1-420f-ab0f-cacc9c3c2e21",
   "metadata": {},
   "outputs": [],
   "source": [
    "#better version\n",
    "def div(a,b):\n",
    "    try:\n",
    "        print(a/b)\n",
    "    except:\n",
    "        pass"
   ]
  },
  {
   "cell_type": "code",
   "execution_count": 26,
   "id": "06903a6b-4f86-477d-ade2-23f73f865501",
   "metadata": {},
   "outputs": [
    {
     "name": "stdout",
     "output_type": "stream",
     "text": [
      "5.0\n"
     ]
    }
   ],
   "source": [
    "div(10,2)"
   ]
  },
  {
   "cell_type": "code",
   "execution_count": 27,
   "id": "5fa200d5-3c7f-47f4-9a1e-e23c6c4662a5",
   "metadata": {},
   "outputs": [],
   "source": [
    "div(10,0)"
   ]
  },
  {
   "cell_type": "code",
   "execution_count": 28,
   "id": "4cde6284-2cdc-406c-8428-a348354bdb23",
   "metadata": {},
   "outputs": [],
   "source": [
    "def div(a,b):\n",
    "    try:\n",
    "        print(a/b)\n",
    "    except ZeroDivisionError:\n",
    "        print(\"yo dividing by 0 huh?learn math\")"
   ]
  },
  {
   "cell_type": "code",
   "execution_count": 29,
   "id": "8d1e2722-f5e4-4c0a-a87b-e44c7516d885",
   "metadata": {},
   "outputs": [
    {
     "name": "stdout",
     "output_type": "stream",
     "text": [
      "yo dividing by 0 huh?learn math\n"
     ]
    }
   ],
   "source": [
    "div(6,0)"
   ]
  },
  {
   "cell_type": "code",
   "execution_count": 31,
   "id": "734ccb1c-25b2-444a-a5a5-fb3f5198ebbf",
   "metadata": {},
   "outputs": [
    {
     "ename": "ValueError",
     "evalue": "invalid literal for int() with base 10: 'vanshika'",
     "output_type": "error",
     "traceback": [
      "\u001b[1;31m---------------------------------------------------------------------------\u001b[0m",
      "\u001b[1;31mValueError\u001b[0m                                Traceback (most recent call last)",
      "\u001b[1;32m<ipython-input-31-10ee8c653dac>\u001b[0m in \u001b[0;36m<module>\u001b[1;34m\u001b[0m\n\u001b[1;32m----> 1\u001b[1;33m \u001b[0ma\u001b[0m\u001b[1;33m=\u001b[0m\u001b[0mint\u001b[0m\u001b[1;33m(\u001b[0m\u001b[1;34m\"vanshika\"\u001b[0m\u001b[1;33m)\u001b[0m\u001b[1;33m\u001b[0m\u001b[1;33m\u001b[0m\u001b[0m\n\u001b[0m\u001b[0;32m      2\u001b[0m \u001b[1;32mtry\u001b[0m\u001b[1;33m:\u001b[0m\u001b[1;33m\u001b[0m\u001b[1;33m\u001b[0m\u001b[0m\n\u001b[0;32m      3\u001b[0m         \u001b[0mprint\u001b[0m\u001b[1;33m(\u001b[0m\u001b[0ma\u001b[0m\u001b[1;33m)\u001b[0m\u001b[1;33m\u001b[0m\u001b[1;33m\u001b[0m\u001b[0m\n\u001b[0;32m      4\u001b[0m \u001b[1;32mexcept\u001b[0m \u001b[0mZeroDivisionError\u001b[0m\u001b[1;33m:\u001b[0m\u001b[1;33m\u001b[0m\u001b[1;33m\u001b[0m\u001b[0m\n\u001b[0;32m      5\u001b[0m         \u001b[0mprint\u001b[0m\u001b[1;33m(\u001b[0m\u001b[1;34m\"yo dividing by 0 huh? learn math\"\u001b[0m\u001b[1;33m)\u001b[0m\u001b[1;33m\u001b[0m\u001b[1;33m\u001b[0m\u001b[0m\n",
      "\u001b[1;31mValueError\u001b[0m: invalid literal for int() with base 10: 'vanshika'"
     ]
    }
   ],
   "source": [
    "a=int(\"vanshika\")  \n",
    "try:\n",
    "        print(a)\n",
    "except ZeroDivisionError:\n",
    "        print(\"yo dividing by 0 huh? learn math\")\n",
    "except:\n",
    "        print(\"something's wrong\")"
   ]
  },
  {
   "cell_type": "code",
   "execution_count": 32,
   "id": "9f540275-9928-432d-8456-aa606ea3cc3c",
   "metadata": {},
   "outputs": [
    {
     "name": "stdout",
     "output_type": "stream",
     "text": [
      "division by zero\n",
      "<class 'ZeroDivisionError'>\n"
     ]
    }
   ],
   "source": [
    "try:\n",
    "    print(10/0)\n",
    "except Exception as e:\n",
    "    print(e)  \n",
    "    print(type(e))"
   ]
  },
  {
   "cell_type": "code",
   "execution_count": 33,
   "id": "5892a0ea-6e35-41f6-8841-283e23d573fe",
   "metadata": {},
   "outputs": [
    {
     "name": "stdout",
     "output_type": "stream",
     "text": [
      "Hello guys!\n",
      "Bye guys!\n",
      "Bye girls!\n"
     ]
    }
   ],
   "source": [
    "try:\n",
    "    print(\"Hello guys!\")\n",
    "except:\n",
    "    print(\"hello girls!\")\n",
    "else:\n",
    "    print(\"Bye guys!\") #executes if try doesnt throw any error\n",
    "finally:\n",
    "    print(\"Bye girls!\") #execute always\n",
    "    "
   ]
  },
  {
   "cell_type": "code",
   "execution_count": 34,
   "id": "d2c57fe5-dc69-41ee-b2b5-3431b15506dd",
   "metadata": {},
   "outputs": [
    {
     "name": "stdout",
     "output_type": "stream",
     "text": [
      "Hello guys!\n",
      "hello girls!\n",
      "Bye girls!\n"
     ]
    }
   ],
   "source": [
    "try:\n",
    "    print(\"Hello guys!\")\n",
    "    print(8/0) #throws an error\n",
    "except:\n",
    "    print(\"hello girls!\")\n",
    "else:\n",
    "    print(\"Bye guys!\") #executes if try doesnt throw any error- doesnt get executed this time\n",
    "finally:\n",
    "    #cleanup code \n",
    "    print(\"Bye girls!\") #execute always "
   ]
  },
  {
   "cell_type": "code",
   "execution_count": 35,
   "id": "ca0c4be1-9650-4ef2-90a1-f02aeaf4d042",
   "metadata": {},
   "outputs": [],
   "source": [
    "def func():\n",
    "    try:\n",
    "        return 1\n",
    "    except:\n",
    "        return 2\n",
    "    else:\n",
    "        return 3\n",
    "    finally:\n",
    "        return 4"
   ]
  },
  {
   "cell_type": "code",
   "execution_count": 36,
   "id": "2e6e1b44-33b4-40d8-8d45-ed5e3141cad4",
   "metadata": {},
   "outputs": [
    {
     "data": {
      "text/plain": [
       "4"
      ]
     },
     "execution_count": 36,
     "metadata": {},
     "output_type": "execute_result"
    }
   ],
   "source": [
    "func() #finally truncates all the return statements"
   ]
  }
 ],
 "metadata": {
  "kernelspec": {
   "display_name": "Python 3",
   "language": "python",
   "name": "python3"
  },
  "language_info": {
   "codemirror_mode": {
    "name": "ipython",
    "version": 3
   },
   "file_extension": ".py",
   "mimetype": "text/x-python",
   "name": "python",
   "nbconvert_exporter": "python",
   "pygments_lexer": "ipython3",
   "version": "3.8.8"
  }
 },
 "nbformat": 4,
 "nbformat_minor": 5
}
