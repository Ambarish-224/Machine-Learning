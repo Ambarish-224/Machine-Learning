{
 "cells": [
  {
   "cell_type": "markdown",
   "id": "a9907b92-df54-4f6f-a1df-537d2ea9f3e9",
   "metadata": {},
   "source": [
    "Theory:-\n",
    "    - Three types:- markup(HTML,XML,YAML), Scripting(JS,Perl),Programming language(python,java,c++ etc)\n",
    "    \n",
    "    - In Dynamic languages typecheck happens at run time whereas in Static languages it occurs at compile time.\n",
    "    \n",
    "    - a(reference variable in stack)=10(object in heap)\n",
    "    \n",
    "    - if a new object is created with the same ref variable name, the reference variable starts pointing to the new object and the previous one is cleared by the garbage collection.\n",
    "    \n",
    "    - In strictly typed languages like python typecheck is strictly enforced whereas in loosely typed its not.\n",
    "    \n",
    "    -Data types are of two types- mutable(list,set,dictionaries) and immutable(tuple).\n",
    "    \n",
    "    - In python 0 means false, any other number means true(even -ves or decimals. Empty lists,tuples etc are also considered false.\n",
    "    \n",
    "    - In python blocks are identified using indentations.\n",
    "    \n",
    "    - '''  xyz  '''  should not be used as comments"
   ]
  },
  {
   "cell_type": "markdown",
   "id": "271f8016-c51a-426a-9a00-2d7e51d37ce7",
   "metadata": {},
   "source": [
    "### Variables"
   ]
  },
  {
   "cell_type": "code",
   "execution_count": 1,
   "id": "0e2899af-c55f-46a4-8859-958950b59ec2",
   "metadata": {},
   "outputs": [
    {
     "data": {
      "text/plain": [
       "10"
      ]
     },
     "execution_count": 1,
     "metadata": {},
     "output_type": "execute_result"
    }
   ],
   "source": [
    "a=10\n",
    "a"
   ]
  },
  {
   "cell_type": "code",
   "execution_count": 2,
   "id": "4b6e9774-8268-4a34-96a0-1310e9bd131a",
   "metadata": {},
   "outputs": [
    {
     "data": {
      "text/plain": [
       "True"
      ]
     },
     "execution_count": 2,
     "metadata": {},
     "output_type": "execute_result"
    }
   ],
   "source": [
    "isinstance(a,object)  #everything is an object in python"
   ]
  },
  {
   "cell_type": "code",
   "execution_count": 3,
   "id": "81b82c84-871d-44b8-86a4-855ebabc5cc0",
   "metadata": {},
   "outputs": [
    {
     "data": {
      "text/plain": [
       "'vanshika'"
      ]
     },
     "execution_count": 3,
     "metadata": {},
     "output_type": "execute_result"
    }
   ],
   "source": [
    "a=\"vanshika\"  #shows dynamic allocation - previous object which was pointed by a is cleared by garbage collection\n",
    "a"
   ]
  },
  {
   "cell_type": "code",
   "execution_count": 4,
   "id": "76298beb-f398-452e-b9a6-a5341dfe71be",
   "metadata": {},
   "outputs": [
    {
     "data": {
      "text/plain": [
       "True"
      ]
     },
     "execution_count": 4,
     "metadata": {},
     "output_type": "execute_result"
    }
   ],
   "source": [
    "a=True\n",
    "isinstance(a,int) #bool is derived from int"
   ]
  },
  {
   "cell_type": "code",
   "execution_count": 5,
   "id": "97cd409c-4373-4f5c-bdc3-6c7c36fd66fd",
   "metadata": {},
   "outputs": [
    {
     "data": {
      "text/plain": [
       "True"
      ]
     },
     "execution_count": 5,
     "metadata": {},
     "output_type": "execute_result"
    }
   ],
   "source": [
    "isinstance(a,bool)"
   ]
  },
  {
   "cell_type": "code",
   "execution_count": 5,
   "id": "4a767704-6b98-482e-9739-ae8f2c42f044",
   "metadata": {},
   "outputs": [
    {
     "data": {
      "text/plain": [
       "False"
      ]
     },
     "execution_count": 5,
     "metadata": {},
     "output_type": "execute_result"
    }
   ],
   "source": [
    "a=100000    #points to diff objects\n",
    "b=100000\n",
    "a is b"
   ]
  },
  {
   "cell_type": "code",
   "execution_count": 6,
   "id": "de26f34c-aaca-4ea9-a729-3b62719d509e",
   "metadata": {},
   "outputs": [
    {
     "data": {
      "text/plain": [
       "True"
      ]
     },
     "execution_count": 6,
     "metadata": {},
     "output_type": "execute_result"
    }
   ],
   "source": [
    "a=10        #points to same object  -6 to 256 is reserved in python for better memory management\n",
    "b=10\n",
    "a is b"
   ]
  },
  {
   "cell_type": "code",
   "execution_count": 6,
   "id": "b9382c71-f3ee-491f-8c27-ef091ff67298",
   "metadata": {},
   "outputs": [
    {
     "name": "stdout",
     "output_type": "stream",
     "text": [
      "woah\n"
     ]
    }
   ],
   "source": [
    "if (2,3):\n",
    "    print(\"woah\")"
   ]
  },
  {
   "cell_type": "code",
   "execution_count": 7,
   "id": "4e64019b-6313-46cd-8e93-8362fbaf0dfa",
   "metadata": {},
   "outputs": [
    {
     "data": {
      "text/plain": [
       "int"
      ]
     },
     "execution_count": 7,
     "metadata": {},
     "output_type": "execute_result"
    }
   ],
   "source": [
    "a=2**33    #size of int is same as size of RAM of computer hence python is slow\n",
    "type(a)"
   ]
  },
  {
   "cell_type": "markdown",
   "id": "3c37233e-c235-4eaf-853b-0f101e97764e",
   "metadata": {},
   "source": [
    "### Strings"
   ]
  },
  {
   "cell_type": "code",
   "execution_count": 8,
   "id": "ed4c6d07-7884-4286-9973-a3ffd16c5175",
   "metadata": {},
   "outputs": [],
   "source": [
    "my_str='Vanshika123'"
   ]
  },
  {
   "cell_type": "code",
   "execution_count": 3,
   "id": "360c23c5-304c-4304-b948-23fd96ca1a65",
   "metadata": {},
   "outputs": [
    {
     "name": "stdout",
     "output_type": "stream",
     "text": [
      "11\n"
     ]
    }
   ],
   "source": [
    "print(len(my_str))"
   ]
  },
  {
   "cell_type": "code",
   "execution_count": 3,
   "id": "bce5ff3d-a906-453e-b7c9-e5ff71d0a486",
   "metadata": {},
   "outputs": [
    {
     "name": "stdout",
     "output_type": "stream",
     "text": [
      "True\n",
      "False\n",
      "False\n",
      "True\n",
      "False\n",
      "False\n",
      "False\n",
      "True\n",
      "False\n"
     ]
    }
   ],
   "source": [
    "print(my_str.isalnum()) #check if all char are numbers and alphabets\n",
    "print(my_str.isalpha()) #check if all char in the string are alphabetic\n",
    "print(my_str.isdigit()) #test if string has only digits\n",
    "print(my_str.istitle()) #test if string contains title words\n",
    "print(my_str.isupper()) #test if string contains upper case\n",
    "print(my_str.islower()) #test if string contains lower case\n",
    "print(my_str.isspace()) #test if string contains spaces\n",
    "print(my_str.endswith('3')) #test if string ends with a 3\n",
    "print(my_str.startswith('A')) #test if string starts with A"
   ]
  },
  {
   "cell_type": "markdown",
   "id": "409ea686-fb77-4c76-963d-a75680c15948",
   "metadata": {},
   "source": [
    "### Lists"
   ]
  },
  {
   "cell_type": "code",
   "execution_count": 9,
   "id": "8808050e-ba2d-4816-a0e5-ff0280e2b933",
   "metadata": {},
   "outputs": [
    {
     "data": {
      "text/plain": [
       "True"
      ]
     },
     "execution_count": 9,
     "metadata": {},
     "output_type": "execute_result"
    }
   ],
   "source": [
    "a=[2,34,56.2,\"vanshika\"]\n",
    "isinstance(a,object)   # shows list is an object too"
   ]
  },
  {
   "cell_type": "code",
   "execution_count": 10,
   "id": "bc72e44d-ad34-44a8-a18d-0a94157da741",
   "metadata": {},
   "outputs": [
    {
     "data": {
      "text/plain": [
       "34"
      ]
     },
     "execution_count": 10,
     "metadata": {},
     "output_type": "execute_result"
    }
   ],
   "source": [
    "a[1]"
   ]
  },
  {
   "cell_type": "code",
   "execution_count": 11,
   "id": "f0b6bcbd-b7d8-490b-98e8-52a2573143ee",
   "metadata": {},
   "outputs": [
    {
     "data": {
      "text/plain": [
       "56.2"
      ]
     },
     "execution_count": 11,
     "metadata": {},
     "output_type": "execute_result"
    }
   ],
   "source": [
    "a[-2]  # gives me 2nd elemenet from behind"
   ]
  },
  {
   "cell_type": "code",
   "execution_count": 12,
   "id": "4a1c11cd-7290-4e8f-814f-f09c086a3548",
   "metadata": {},
   "outputs": [],
   "source": [
    "lst=['Mathematics', 'chemistry', 100, 200, 300, 204]"
   ]
  },
  {
   "cell_type": "code",
   "execution_count": 13,
   "id": "01702876-481c-44ca-85b8-025c5fd91c6d",
   "metadata": {},
   "outputs": [],
   "source": [
    "lst.append(\"Vanshika\") #adds at end"
   ]
  },
  {
   "cell_type": "code",
   "execution_count": 14,
   "id": "0489ab32-72d4-437b-905e-1e6774577f59",
   "metadata": {},
   "outputs": [
    {
     "data": {
      "text/plain": [
       "['Mathematics', 'chemistry', 100, 200, 300, 204, 'Vanshika', ['John', 'Bala']]"
      ]
     },
     "execution_count": 14,
     "metadata": {},
     "output_type": "execute_result"
    }
   ],
   "source": [
    "lst.append([\"John\",\"Bala\"]) #adds as a list at the end\n",
    "lst"
   ]
  },
  {
   "cell_type": "code",
   "execution_count": 15,
   "id": "84706a0f-27e5-41e1-8c42-7eae8ca31420",
   "metadata": {},
   "outputs": [
    {
     "data": {
      "text/plain": [
       "['chemistry', 100, 200, 300, 204]"
      ]
     },
     "execution_count": 15,
     "metadata": {},
     "output_type": "execute_result"
    }
   ],
   "source": [
    "lst[1:6]"
   ]
  },
  {
   "cell_type": "code",
   "execution_count": 16,
   "id": "17c01c7d-06dc-47c1-988b-b17d52ce2763",
   "metadata": {},
   "outputs": [
    {
     "data": {
      "text/plain": [
       "['Mathematics',\n",
       " 'chemistry',\n",
       " 'Tom',\n",
       " 100,\n",
       " 200,\n",
       " 300,\n",
       " 204,\n",
       " 'Vanshika',\n",
       " ['John', 'Bala']]"
      ]
     },
     "execution_count": 16,
     "metadata": {},
     "output_type": "execute_result"
    }
   ],
   "source": [
    "lst.insert(2,\"Tom\")\n",
    "lst"
   ]
  },
  {
   "cell_type": "code",
   "execution_count": 17,
   "id": "07c24a5a-e8d0-4520-bd76-0ec46d038deb",
   "metadata": {},
   "outputs": [
    {
     "data": {
      "text/plain": [
       "['Mathematics',\n",
       " 'chemistry',\n",
       " 'Tom',\n",
       " 100,\n",
       " 200,\n",
       " 300,\n",
       " 204,\n",
       " 'Vanshika',\n",
       " ['John', 'Bala'],\n",
       " 8,\n",
       " 9]"
      ]
     },
     "execution_count": 17,
     "metadata": {},
     "output_type": "execute_result"
    }
   ],
   "source": [
    "lst.extend([8,9]) #adds content to list \n",
    "lst"
   ]
  },
  {
   "cell_type": "code",
   "execution_count": 18,
   "id": "b9ebaa6c-e2a1-400c-a1f1-76bf59f3edfa",
   "metadata": {},
   "outputs": [
    {
     "data": {
      "text/plain": [
       "['Mathematics',\n",
       " 'chemistry',\n",
       " 100,\n",
       " 200,\n",
       " 300,\n",
       " 204,\n",
       " 'Vanshika',\n",
       " ['John', 'Bala'],\n",
       " 8,\n",
       " 9]"
      ]
     },
     "execution_count": 18,
     "metadata": {},
     "output_type": "execute_result"
    }
   ],
   "source": [
    "lst.remove(\"Tom\")\n",
    "lst"
   ]
  },
  {
   "cell_type": "code",
   "execution_count": 19,
   "id": "cf8ed6eb-ccdb-44b5-9c28-f75105d2b302",
   "metadata": {},
   "outputs": [],
   "source": [
    "A=[23,34,56]\n",
    "B=A\n",
    "B[1]=100"
   ]
  },
  {
   "cell_type": "code",
   "execution_count": 20,
   "id": "9455005a-121f-4b4a-8508-c47d6785b462",
   "metadata": {},
   "outputs": [
    {
     "data": {
      "text/plain": [
       "[23, 100, 56]"
      ]
     },
     "execution_count": 20,
     "metadata": {},
     "output_type": "execute_result"
    }
   ],
   "source": [
    "A  # as they point to the same object, changes made will show in both"
   ]
  },
  {
   "cell_type": "code",
   "execution_count": 21,
   "id": "920fdbab-ffd7-4378-91f5-1042fb47025c",
   "metadata": {},
   "outputs": [
    {
     "name": "stdout",
     "output_type": "stream",
     "text": [
      "3\n",
      "1\n",
      "6\n"
     ]
    }
   ],
   "source": [
    "lst=[1,2,3,4,4,4,4,5,6,6,6]\n",
    "print(lst.index(4,1,6)) #no.to find: start: end \n",
    "print(min(lst))\n",
    "print(max(lst))"
   ]
  },
  {
   "cell_type": "code",
   "execution_count": 22,
   "id": "deef317e-31ef-4bc4-a1a3-3b6dd4f4c2ef",
   "metadata": {},
   "outputs": [
    {
     "data": {
      "text/plain": [
       "[1, 2, 3, 4, 4, 4, 4, 5, 6, 6, 6, 1, 2, 3, 4, 4, 4, 4, 5, 6, 6, 6]"
      ]
     },
     "execution_count": 22,
     "metadata": {},
     "output_type": "execute_result"
    }
   ],
   "source": [
    "lst*2"
   ]
  },
  {
   "cell_type": "code",
   "execution_count": 23,
   "id": "3e7465b6-56a3-4ce7-9530-918c7b508755",
   "metadata": {},
   "outputs": [
    {
     "data": {
      "text/plain": [
       "[9, 8, 7, 6, 5, 4, 3, 2, 1]"
      ]
     },
     "execution_count": 23,
     "metadata": {},
     "output_type": "execute_result"
    }
   ],
   "source": [
    "a=[1,2,3,4,5,6,7,8,9]\n",
    "a[-1::-1] #start:stop:step"
   ]
  },
  {
   "cell_type": "code",
   "execution_count": 24,
   "id": "4ff71622-8bff-470f-a9b9-68ceefd2e217",
   "metadata": {},
   "outputs": [
    {
     "data": {
      "text/plain": [
       "7"
      ]
     },
     "execution_count": 24,
     "metadata": {},
     "output_type": "execute_result"
    }
   ],
   "source": [
    "a=[1,4,6,7,1,2,1,2,1,1,1,1,3,6,8,3,7,2]\n",
    "a.count(1) #occurence count"
   ]
  },
  {
   "cell_type": "code",
   "execution_count": 25,
   "id": "09b42d9f-9303-4063-98a7-e8a5af031612",
   "metadata": {},
   "outputs": [
    {
     "data": {
      "text/plain": [
       "[1, 4, 6, 7, 1, 2, 1, 2, 1, 1, 1, 1, 6, 8, 3, 7, 2]"
      ]
     },
     "execution_count": 25,
     "metadata": {},
     "output_type": "execute_result"
    }
   ],
   "source": [
    "a.remove(3)#removes first occurence\n",
    "a"
   ]
  },
  {
   "cell_type": "markdown",
   "id": "e19f5532-6b5f-488b-85af-f6c0efa8bb91",
   "metadata": {},
   "source": [
    "### Set"
   ]
  },
  {
   "cell_type": "code",
   "execution_count": 26,
   "id": "d98d9ba4-dcc7-4ac6-8f3b-86a905cabf68",
   "metadata": {},
   "outputs": [
    {
     "data": {
      "text/plain": [
       "{1, 2, 3, 4}"
      ]
     },
     "execution_count": 26,
     "metadata": {},
     "output_type": "execute_result"
    }
   ],
   "source": [
    "a={2,1,2,3,4,2}\n",
    "a  #no repeats shown,unordered pairs, based on hash table,doesnt support indexing"
   ]
  },
  {
   "cell_type": "code",
   "execution_count": 27,
   "id": "4ab799d4-50b7-42dc-8cdb-1f72a54bdca7",
   "metadata": {},
   "outputs": [
    {
     "data": {
      "text/plain": [
       "{1, 2, 3, 4, 9}"
      ]
     },
     "execution_count": 27,
     "metadata": {},
     "output_type": "execute_result"
    }
   ],
   "source": [
    "a.add(9)\n",
    "a"
   ]
  },
  {
   "cell_type": "code",
   "execution_count": 28,
   "id": "16d3232a-46ec-484e-b046-133e46bc8442",
   "metadata": {},
   "outputs": [],
   "source": [
    "a={1,2,3,4,5}\n",
    "b={2,4,5,2,4,3,3,7,8}"
   ]
  },
  {
   "cell_type": "code",
   "execution_count": 29,
   "id": "4b499ef3-1aa7-4973-aee5-c93b511fd5b8",
   "metadata": {},
   "outputs": [
    {
     "data": {
      "text/plain": [
       "{2, 3, 4, 5}"
      ]
     },
     "execution_count": 29,
     "metadata": {},
     "output_type": "execute_result"
    }
   ],
   "source": [
    "a.intersection(b)"
   ]
  },
  {
   "cell_type": "code",
   "execution_count": 30,
   "id": "4229a371-e044-4a23-b0fd-d85c799f9c92",
   "metadata": {},
   "outputs": [
    {
     "data": {
      "text/plain": [
       "{1}"
      ]
     },
     "execution_count": 30,
     "metadata": {},
     "output_type": "execute_result"
    }
   ],
   "source": [
    "a-b"
   ]
  },
  {
   "cell_type": "code",
   "execution_count": 31,
   "id": "e29d1ce2-83af-48d4-8a3b-a436a83864f7",
   "metadata": {},
   "outputs": [
    {
     "data": {
      "text/plain": [
       "{1, 2, 3, 4, 5, 7, 8}"
      ]
     },
     "execution_count": 31,
     "metadata": {},
     "output_type": "execute_result"
    }
   ],
   "source": [
    "b.union(a)"
   ]
  },
  {
   "cell_type": "markdown",
   "id": "1beab100-160c-4a53-8d3a-c176a7269156",
   "metadata": {},
   "source": [
    "### Loops"
   ]
  },
  {
   "cell_type": "code",
   "execution_count": 32,
   "id": "51e19616-43d6-45c8-8468-2c5f58ffa241",
   "metadata": {
    "tags": []
   },
   "outputs": [
    {
     "name": "stdout",
     "output_type": "stream",
     "text": [
      "2\n",
      "4\n",
      "2\n",
      "5\n",
      "7\n",
      "2\n",
      "8\n",
      "4\n"
     ]
    }
   ],
   "source": [
    "b=[2,4,2,5,7,2,8,4]\n",
    "for x in b:\n",
    "    print(x)   #iterationg through list items"
   ]
  },
  {
   "cell_type": "code",
   "execution_count": 33,
   "id": "c75879de-53b1-42cb-8f58-99b698004ef0",
   "metadata": {},
   "outputs": [
    {
     "name": "stdout",
     "output_type": "stream",
     "text": [
      "0 2\n",
      "1 4\n",
      "2 2\n",
      "3 5\n",
      "4 7\n",
      "5 2\n",
      "6 8\n",
      "7 4\n"
     ]
    }
   ],
   "source": [
    "for index,ch in enumerate(b):  #iterating through list using indexes\n",
    "    print(index,ch) # can be replaced as ch=b[index]"
   ]
  },
  {
   "cell_type": "code",
   "execution_count": 34,
   "id": "e336c601-4f23-4fe5-a104-299744503030",
   "metadata": {},
   "outputs": [
    {
     "name": "stdout",
     "output_type": "stream",
     "text": [
      "10 20\n",
      "20 10\n"
     ]
    }
   ],
   "source": [
    "a=10\n",
    "b=20\n",
    "print(a,b)\n",
    "a,b=b,a #these are basically tuples\n",
    "print(a,b)"
   ]
  },
  {
   "cell_type": "code",
   "execution_count": 35,
   "id": "a2996eac-c690-4e60-a98e-5cd72a77f43c",
   "metadata": {},
   "outputs": [
    {
     "name": "stdout",
     "output_type": "stream",
     "text": [
      "5\n",
      "4\n",
      "3\n",
      "2\n",
      "1\n"
     ]
    }
   ],
   "source": [
    "a=5\n",
    "while a>0:\n",
    "    print(a)\n",
    "    a=a-1"
   ]
  },
  {
   "cell_type": "code",
   "execution_count": 36,
   "id": "cdaebcdd-7409-4cbc-af14-226a0a30d895",
   "metadata": {},
   "outputs": [
    {
     "name": "stdout",
     "output_type": "stream",
     "text": [
      "1\n",
      "3\n",
      "5\n",
      "7\n",
      "9\n"
     ]
    }
   ],
   "source": [
    "for num in range(1,10,2):\n",
    "    print(num)"
   ]
  },
  {
   "cell_type": "markdown",
   "id": "131c46da-06dc-4605-ba6b-7c928a82d7c2",
   "metadata": {},
   "source": [
    "### List comprehension"
   ]
  },
  {
   "cell_type": "code",
   "execution_count": 37,
   "id": "e2e32aa3-6067-4828-ab49-4f4d841585e9",
   "metadata": {},
   "outputs": [
    {
     "data": {
      "text/plain": [
       "[1, 2, 3, 4, 5]"
      ]
     },
     "execution_count": 37,
     "metadata": {},
     "output_type": "execute_result"
    }
   ],
   "source": [
    "a=[i for i in range(1,6)]    #list of first 5 natural no.s\n",
    "a"
   ]
  },
  {
   "cell_type": "code",
   "execution_count": 38,
   "id": "4d708c48-d1f8-44c9-9d12-36a6fe62304b",
   "metadata": {},
   "outputs": [
    {
     "data": {
      "text/plain": [
       "[4, 8, 12, 16, 20]"
      ]
     },
     "execution_count": 38,
     "metadata": {},
     "output_type": "execute_result"
    }
   ],
   "source": [
    "t=[2*i for i in range(1,11) if i%2==0]   #table of 2\n",
    "t"
   ]
  },
  {
   "cell_type": "code",
   "execution_count": 39,
   "id": "59d9758a-6137-4f16-b6b1-4358c555817f",
   "metadata": {},
   "outputs": [
    {
     "data": {
      "text/plain": [
       "[[1, 2, 3, 4, 5, 6, 7, 8, 9, 10],\n",
       " [2, 4, 6, 8, 10, 12, 14, 16, 18, 20],\n",
       " [3, 6, 9, 12, 15, 18, 21, 24, 27, 30],\n",
       " [4, 8, 12, 16, 20, 24, 28, 32, 36, 40],\n",
       " [5, 10, 15, 20, 25, 30, 35, 40, 45, 50],\n",
       " [6, 12, 18, 24, 30, 36, 42, 48, 54, 60],\n",
       " [7, 14, 21, 28, 35, 42, 49, 56, 63, 70],\n",
       " [8, 16, 24, 32, 40, 48, 56, 64, 72, 80],\n",
       " [9, 18, 27, 36, 45, 54, 63, 72, 81, 90],\n",
       " [10, 20, 30, 40, 50, 60, 70, 80, 90, 100]]"
      ]
     },
     "execution_count": 39,
     "metadata": {},
     "output_type": "execute_result"
    }
   ],
   "source": [
    "b=[[i*n for i in range(1,11)] for n in range(1,11)]\n",
    "b"
   ]
  },
  {
   "cell_type": "markdown",
   "id": "47a99261-6b66-4eed-a94c-c7e4cb7cecb9",
   "metadata": {},
   "source": [
    "### Dictionary comprehension"
   ]
  },
  {
   "cell_type": "code",
   "execution_count": 40,
   "id": "61175c7c-5700-4980-948f-e201fcf370f6",
   "metadata": {},
   "outputs": [
    {
     "data": {
      "text/plain": [
       "{0: 0, 2: 4, 4: 16, 6: 36, 8: 64}"
      ]
     },
     "execution_count": 40,
     "metadata": {},
     "output_type": "execute_result"
    }
   ],
   "source": [
    "{i: i**2 for i in range(10) if i%2==0}"
   ]
  },
  {
   "cell_type": "markdown",
   "id": "a6474558-ca19-4a3f-a17d-969ece594237",
   "metadata": {},
   "source": [
    "### Set comprehension"
   ]
  },
  {
   "cell_type": "code",
   "execution_count": 41,
   "id": "35cc530b-1c52-438c-bf34-e70d944c0acb",
   "metadata": {},
   "outputs": [
    {
     "data": {
      "text/plain": [
       "{0, 4, 16, 36, 64}"
      ]
     },
     "execution_count": 41,
     "metadata": {},
     "output_type": "execute_result"
    }
   ],
   "source": [
    "{ i**2 for i in range(10) if i%2==0}"
   ]
  },
  {
   "cell_type": "markdown",
   "id": "d0b92bbc-5a43-4421-ae8a-06dfa49e2891",
   "metadata": {},
   "source": [
    "### Functions"
   ]
  },
  {
   "cell_type": "code",
   "execution_count": 42,
   "id": "afb43647-7dff-471c-82bb-28c3cd47e630",
   "metadata": {},
   "outputs": [
    {
     "name": "stdout",
     "output_type": "stream",
     "text": [
      "hellooo\n"
     ]
    }
   ],
   "source": [
    "def fun():\n",
    "    print(\"hellooo\")\n",
    "fun()    "
   ]
  },
  {
   "cell_type": "code",
   "execution_count": 43,
   "id": "ce67b9c8-af7e-4de4-be69-f8ca13b95f96",
   "metadata": {},
   "outputs": [
    {
     "name": "stdout",
     "output_type": "stream",
     "text": [
      "hellooo\n",
      "None\n"
     ]
    }
   ],
   "source": [
    "a=fun()\n",
    "print(a)"
   ]
  },
  {
   "cell_type": "code",
   "execution_count": 44,
   "id": "24656375-dfc1-4bc5-a4dd-66af57222a34",
   "metadata": {},
   "outputs": [
    {
     "data": {
      "text/plain": [
       "9"
      ]
     },
     "execution_count": 44,
     "metadata": {},
     "output_type": "execute_result"
    }
   ],
   "source": [
    "def add(a,b):\n",
    "    return a+b\n",
    "add(5,4)"
   ]
  },
  {
   "cell_type": "code",
   "execution_count": 45,
   "id": "c17015f2-2229-4938-bb86-7821b6944d88",
   "metadata": {},
   "outputs": [],
   "source": [
    "def sheldon_knock(name,no=3):\n",
    "    for i in range(no):\n",
    "     print(\"knock knock {}\".format(name))"
   ]
  },
  {
   "cell_type": "code",
   "execution_count": 46,
   "id": "cd889de0-de5e-4462-996b-cba4cb66ae81",
   "metadata": {},
   "outputs": [
    {
     "name": "stdout",
     "output_type": "stream",
     "text": [
      "knock knock penny\n",
      "knock knock penny\n",
      "knock knock penny\n",
      "knock knock penny\n",
      "knock knock penny\n",
      "knock knock penny\n"
     ]
    }
   ],
   "source": [
    "sheldon_knock(\"penny\",6)"
   ]
  },
  {
   "cell_type": "code",
   "execution_count": 47,
   "id": "732e0eed-34d0-41ef-8b63-525098b84d8c",
   "metadata": {},
   "outputs": [],
   "source": [
    "def div(a,b):\n",
    "    try:\n",
    "        return a/b\n",
    "    except:\n",
    "        print(\"Error\")\n",
    "    finally:\n",
    "        print(\"Wrapping up\")"
   ]
  },
  {
   "cell_type": "code",
   "execution_count": 48,
   "id": "863aa42a-7440-468f-91c9-3d462bf0f911",
   "metadata": {},
   "outputs": [
    {
     "name": "stdout",
     "output_type": "stream",
     "text": [
      "Wrapping up\n"
     ]
    },
    {
     "data": {
      "text/plain": [
       "5.0"
      ]
     },
     "execution_count": 48,
     "metadata": {},
     "output_type": "execute_result"
    }
   ],
   "source": [
    "div(10,2) #wrapping up will always get printed"
   ]
  },
  {
   "cell_type": "code",
   "execution_count": 49,
   "id": "a9178006-9e70-4be6-ad3c-dfce8f78e9e4",
   "metadata": {},
   "outputs": [
    {
     "name": "stdout",
     "output_type": "stream",
     "text": [
      "Error\n",
      "Wrapping up\n"
     ]
    }
   ],
   "source": [
    "div(10,0) #wrapping up will always get printed"
   ]
  },
  {
   "cell_type": "code",
   "execution_count": 50,
   "id": "5ae1ab51-a5ec-4e3d-bdc9-2723d3d87b18",
   "metadata": {},
   "outputs": [],
   "source": [
    "x=10 #global\n",
    "def show():\n",
    "    x=5 #local\n",
    "    print(x)"
   ]
  },
  {
   "cell_type": "code",
   "execution_count": 51,
   "id": "284e2fe6-7851-4446-899a-12141de0a985",
   "metadata": {},
   "outputs": [
    {
     "name": "stdout",
     "output_type": "stream",
     "text": [
      "5\n",
      "10\n"
     ]
    }
   ],
   "source": [
    "show()\n",
    "print(x)"
   ]
  },
  {
   "cell_type": "code",
   "execution_count": 52,
   "id": "0c633871-6053-47d6-936b-757965a88e70",
   "metadata": {},
   "outputs": [],
   "source": [
    "x=10\n",
    "def show():\n",
    "    x+=5 #cant find local x\n",
    "    print(x)"
   ]
  },
  {
   "cell_type": "code",
   "execution_count": 53,
   "id": "bf90834d-4860-484b-bd79-8faf966a6645",
   "metadata": {},
   "outputs": [
    {
     "ename": "UnboundLocalError",
     "evalue": "local variable 'x' referenced before assignment",
     "output_type": "error",
     "traceback": [
      "\u001b[1;31m---------------------------------------------------------------------------\u001b[0m",
      "\u001b[1;31mUnboundLocalError\u001b[0m                         Traceback (most recent call last)",
      "\u001b[1;32m<ipython-input-53-3ef17965202a>\u001b[0m in \u001b[0;36m<module>\u001b[1;34m\u001b[0m\n\u001b[1;32m----> 1\u001b[1;33m \u001b[0mshow\u001b[0m\u001b[1;33m(\u001b[0m\u001b[1;33m)\u001b[0m \u001b[1;31m#unable to find local x\u001b[0m\u001b[1;33m\u001b[0m\u001b[1;33m\u001b[0m\u001b[0m\n\u001b[0m\u001b[0;32m      2\u001b[0m \u001b[0mprint\u001b[0m\u001b[1;33m(\u001b[0m\u001b[0mx\u001b[0m\u001b[1;33m)\u001b[0m\u001b[1;33m\u001b[0m\u001b[1;33m\u001b[0m\u001b[0m\n",
      "\u001b[1;32m<ipython-input-52-6fa883eec38c>\u001b[0m in \u001b[0;36mshow\u001b[1;34m()\u001b[0m\n\u001b[0;32m      1\u001b[0m \u001b[0mx\u001b[0m\u001b[1;33m=\u001b[0m\u001b[1;36m10\u001b[0m\u001b[1;33m\u001b[0m\u001b[1;33m\u001b[0m\u001b[0m\n\u001b[0;32m      2\u001b[0m \u001b[1;32mdef\u001b[0m \u001b[0mshow\u001b[0m\u001b[1;33m(\u001b[0m\u001b[1;33m)\u001b[0m\u001b[1;33m:\u001b[0m\u001b[1;33m\u001b[0m\u001b[1;33m\u001b[0m\u001b[0m\n\u001b[1;32m----> 3\u001b[1;33m     \u001b[0mx\u001b[0m\u001b[1;33m+=\u001b[0m\u001b[1;36m5\u001b[0m\u001b[1;33m\u001b[0m\u001b[1;33m\u001b[0m\u001b[0m\n\u001b[0m\u001b[0;32m      4\u001b[0m     \u001b[0mprint\u001b[0m\u001b[1;33m(\u001b[0m\u001b[0mx\u001b[0m\u001b[1;33m)\u001b[0m\u001b[1;33m\u001b[0m\u001b[1;33m\u001b[0m\u001b[0m\n",
      "\u001b[1;31mUnboundLocalError\u001b[0m: local variable 'x' referenced before assignment"
     ]
    }
   ],
   "source": [
    "show() #unable to find local x\n",
    "print(x)"
   ]
  },
  {
   "cell_type": "code",
   "execution_count": 54,
   "id": "7f4f567d-af7b-4485-9e67-5b986e35fdcc",
   "metadata": {},
   "outputs": [],
   "source": [
    "x=10\n",
    "def show():\n",
    "    global x\n",
    "    x+=5\n",
    "    print(x)"
   ]
  },
  {
   "cell_type": "code",
   "execution_count": 55,
   "id": "28913755-9321-4c46-b956-0bc51620f664",
   "metadata": {},
   "outputs": [
    {
     "name": "stdout",
     "output_type": "stream",
     "text": [
      "15\n",
      "15\n"
     ]
    }
   ],
   "source": [
    "show()\n",
    "print(x)"
   ]
  },
  {
   "cell_type": "code",
   "execution_count": 56,
   "id": "a9655fb8-5ad9-4dad-b29b-6de846ae76e6",
   "metadata": {},
   "outputs": [],
   "source": [
    "def outer():\n",
    "    x=10\n",
    "    \n",
    "    def inner():\n",
    "        x+=5\n",
    "        print(x)\n",
    "    \n",
    "    inner()\n",
    "    print(x)"
   ]
  },
  {
   "cell_type": "code",
   "execution_count": 57,
   "id": "d4b89e0f-8251-442f-ab6e-78b73082d049",
   "metadata": {},
   "outputs": [
    {
     "ename": "UnboundLocalError",
     "evalue": "local variable 'x' referenced before assignment",
     "output_type": "error",
     "traceback": [
      "\u001b[1;31m---------------------------------------------------------------------------\u001b[0m",
      "\u001b[1;31mUnboundLocalError\u001b[0m                         Traceback (most recent call last)",
      "\u001b[1;32m<ipython-input-57-fefcd6c569a1>\u001b[0m in \u001b[0;36m<module>\u001b[1;34m\u001b[0m\n\u001b[1;32m----> 1\u001b[1;33m \u001b[0mouter\u001b[0m\u001b[1;33m(\u001b[0m\u001b[1;33m)\u001b[0m \u001b[1;31m#cant find x in local in inner\u001b[0m\u001b[1;33m\u001b[0m\u001b[1;33m\u001b[0m\u001b[0m\n\u001b[0m",
      "\u001b[1;32m<ipython-input-56-eb1e2fcd95c3>\u001b[0m in \u001b[0;36mouter\u001b[1;34m()\u001b[0m\n\u001b[0;32m      6\u001b[0m         \u001b[0mprint\u001b[0m\u001b[1;33m(\u001b[0m\u001b[0mx\u001b[0m\u001b[1;33m)\u001b[0m\u001b[1;33m\u001b[0m\u001b[1;33m\u001b[0m\u001b[0m\n\u001b[0;32m      7\u001b[0m \u001b[1;33m\u001b[0m\u001b[0m\n\u001b[1;32m----> 8\u001b[1;33m     \u001b[0minner\u001b[0m\u001b[1;33m(\u001b[0m\u001b[1;33m)\u001b[0m\u001b[1;33m\u001b[0m\u001b[1;33m\u001b[0m\u001b[0m\n\u001b[0m\u001b[0;32m      9\u001b[0m     \u001b[0mprint\u001b[0m\u001b[1;33m(\u001b[0m\u001b[0mx\u001b[0m\u001b[1;33m)\u001b[0m\u001b[1;33m\u001b[0m\u001b[1;33m\u001b[0m\u001b[0m\n",
      "\u001b[1;32m<ipython-input-56-eb1e2fcd95c3>\u001b[0m in \u001b[0;36minner\u001b[1;34m()\u001b[0m\n\u001b[0;32m      3\u001b[0m \u001b[1;33m\u001b[0m\u001b[0m\n\u001b[0;32m      4\u001b[0m     \u001b[1;32mdef\u001b[0m \u001b[0minner\u001b[0m\u001b[1;33m(\u001b[0m\u001b[1;33m)\u001b[0m\u001b[1;33m:\u001b[0m\u001b[1;33m\u001b[0m\u001b[1;33m\u001b[0m\u001b[0m\n\u001b[1;32m----> 5\u001b[1;33m         \u001b[0mx\u001b[0m\u001b[1;33m+=\u001b[0m\u001b[1;36m5\u001b[0m\u001b[1;33m\u001b[0m\u001b[1;33m\u001b[0m\u001b[0m\n\u001b[0m\u001b[0;32m      6\u001b[0m         \u001b[0mprint\u001b[0m\u001b[1;33m(\u001b[0m\u001b[0mx\u001b[0m\u001b[1;33m)\u001b[0m\u001b[1;33m\u001b[0m\u001b[1;33m\u001b[0m\u001b[0m\n\u001b[0;32m      7\u001b[0m \u001b[1;33m\u001b[0m\u001b[0m\n",
      "\u001b[1;31mUnboundLocalError\u001b[0m: local variable 'x' referenced before assignment"
     ]
    }
   ],
   "source": [
    "outer() #cant find x in local in inner"
   ]
  },
  {
   "cell_type": "code",
   "execution_count": 58,
   "id": "a297cbf4-3b0a-4fda-abca-6605a81ddb5e",
   "metadata": {},
   "outputs": [],
   "source": [
    "def outer():\n",
    "    x=10\n",
    "    \n",
    "    def inner():\n",
    "        nonlocal x\n",
    "        x+=5\n",
    "        print(x)\n",
    "    \n",
    "    inner()\n",
    "    print(x)"
   ]
  },
  {
   "cell_type": "code",
   "execution_count": 59,
   "id": "9474df02-fe48-4d35-adf1-b6b5d661d7c4",
   "metadata": {},
   "outputs": [
    {
     "name": "stdout",
     "output_type": "stream",
     "text": [
      "15\n",
      "15\n"
     ]
    }
   ],
   "source": [
    "outer() "
   ]
  },
  {
   "cell_type": "code",
   "execution_count": 60,
   "id": "5a72fccb-145f-4e29-8698-00bd92ea8c33",
   "metadata": {},
   "outputs": [],
   "source": [
    "def show(*args):\n",
    "    print(args)"
   ]
  },
  {
   "cell_type": "code",
   "execution_count": 61,
   "id": "97ed824f-eb29-46b5-baf2-3597e3821833",
   "metadata": {},
   "outputs": [
    {
     "name": "stdout",
     "output_type": "stream",
     "text": [
      "()\n"
     ]
    }
   ],
   "source": [
    "show()"
   ]
  },
  {
   "cell_type": "code",
   "execution_count": 62,
   "id": "1d4acff4-0baf-4d0e-85f3-b52b2d7957fc",
   "metadata": {},
   "outputs": [
    {
     "name": "stdout",
     "output_type": "stream",
     "text": [
      "(1, 2, 3, 'vanshika')\n"
     ]
    }
   ],
   "source": [
    "show(1,2,3,\"vanshika\")"
   ]
  },
  {
   "cell_type": "code",
   "execution_count": 63,
   "id": "2fac5e18-7f09-4943-b23c-83426f556a85",
   "metadata": {},
   "outputs": [],
   "source": [
    "def show(a,b,c,*args):\n",
    "    print(args)"
   ]
  },
  {
   "cell_type": "code",
   "execution_count": 64,
   "id": "6099bd1f-d192-47c3-8896-5fe3780f4e2e",
   "metadata": {},
   "outputs": [
    {
     "name": "stdout",
     "output_type": "stream",
     "text": [
      "('vanshika',)\n"
     ]
    }
   ],
   "source": [
    "show(1,2,3,\"vanshika\") #packed arguements"
   ]
  },
  {
   "cell_type": "code",
   "execution_count": 65,
   "id": "c655b0fe-0ac6-452a-8382-27e388538fe8",
   "metadata": {},
   "outputs": [],
   "source": [
    "def show(a,b,c,*args,d=10, e=20, **kwargs):\n",
    "    print(a)\n",
    "    print(args)\n",
    "    print(d)\n",
    "    print(e)\n",
    "    print(kwargs)"
   ]
  },
  {
   "cell_type": "code",
   "execution_count": 66,
   "id": "70c29e6d-6d9c-46a3-9d05-7dd4e8c721ab",
   "metadata": {},
   "outputs": [
    {
     "name": "stdout",
     "output_type": "stream",
     "text": [
      "1\n",
      "('vanshika', 'mishra', 100)\n",
      "10\n",
      "20\n",
      "{'name': 'Vanshika'}\n"
     ]
    }
   ],
   "source": [
    "show(1,2,3,\"vanshika\",\"mishra\",100,name=\"Vanshika\")"
   ]
  },
  {
   "cell_type": "code",
   "execution_count": 67,
   "id": "d9382d74-9fed-49c9-b571-46db86003313",
   "metadata": {},
   "outputs": [
    {
     "name": "stdout",
     "output_type": "stream",
     "text": [
      "hey\n"
     ]
    }
   ],
   "source": [
    "fun= lambda a:print(a) \n",
    "fun(\"hey\")"
   ]
  },
  {
   "cell_type": "code",
   "execution_count": 68,
   "id": "da058abb-ad76-46f1-899f-53ade76b4cfa",
   "metadata": {},
   "outputs": [
    {
     "name": "stdout",
     "output_type": "stream",
     "text": [
      "9\n"
     ]
    }
   ],
   "source": [
    "fun= lambda a,b: print(a+b)\n",
    "fun(5,4)"
   ]
  },
  {
   "cell_type": "markdown",
   "id": "b0afdd6c-e8e1-4f8c-822d-56d7828f2f0a",
   "metadata": {},
   "source": [
    "## map function\n",
    "- applies a given function to each element of iterable "
   ]
  },
  {
   "cell_type": "code",
   "execution_count": 69,
   "id": "959cca10-a483-4f6e-97d1-cfe7af76cbf9",
   "metadata": {},
   "outputs": [
    {
     "data": {
      "text/plain": [
       "[3, 4, 3, 4]"
      ]
     },
     "execution_count": 69,
     "metadata": {},
     "output_type": "execute_result"
    }
   ],
   "source": [
    "a=[3,4]\n",
    "a*2 #wont multiply elements by 2"
   ]
  },
  {
   "cell_type": "code",
   "execution_count": 70,
   "id": "8bb599aa-8440-4dae-b1bf-cc69c3552e4d",
   "metadata": {},
   "outputs": [
    {
     "data": {
      "text/plain": [
       "[2, 4, 6, 8, 10]"
      ]
     },
     "execution_count": 70,
     "metadata": {},
     "output_type": "execute_result"
    }
   ],
   "source": [
    "a=[1,2,3,4,5]\n",
    "def multiply(x):\n",
    "    return 2*x\n",
    "\n",
    "list(map(multiply,a))"
   ]
  },
  {
   "cell_type": "code",
   "execution_count": 71,
   "id": "625c18f1-8112-4c49-a7ff-ebda0426cd1e",
   "metadata": {},
   "outputs": [
    {
     "data": {
      "text/plain": [
       "[2, 4, 6, 8, 10, 12]"
      ]
     },
     "execution_count": 71,
     "metadata": {},
     "output_type": "execute_result"
    }
   ],
   "source": [
    "a=[1,2,3,4,5,6]\n",
    "list(map(lambda x:2*x,a))"
   ]
  },
  {
   "cell_type": "code",
   "execution_count": 72,
   "id": "467d37a1-9327-435c-afc3-afe010199054",
   "metadata": {},
   "outputs": [
    {
     "data": {
      "text/plain": [
       "True"
      ]
     },
     "execution_count": 72,
     "metadata": {},
     "output_type": "execute_result"
    }
   ],
   "source": [
    "def multiply(x):\n",
    "    return x*2\n",
    "isinstance(multiply,object)  #function is an object"
   ]
  },
  {
   "cell_type": "markdown",
   "id": "99e036fb-e4e5-4a53-83bf-b72c3e64e052",
   "metadata": {},
   "source": [
    "### Filter function:-  returns only true or false"
   ]
  },
  {
   "cell_type": "code",
   "execution_count": 73,
   "id": "a22e71e0-e1b9-43f2-a27a-1010cf085a7c",
   "metadata": {},
   "outputs": [
    {
     "data": {
      "text/plain": [
       "[2, 4, 6, 8, 10, 12]"
      ]
     },
     "execution_count": 73,
     "metadata": {},
     "output_type": "execute_result"
    }
   ],
   "source": [
    "b=[1,2,3,4,5,6,7,8,9,10,11,12]\n",
    "def isEven(x):\n",
    "    if x%2==0:\n",
    "        return True\n",
    "    else:\n",
    "        return False   \n",
    "    \n",
    "list(filter(isEven,b))"
   ]
  },
  {
   "cell_type": "code",
   "execution_count": 74,
   "id": "fc86fb47-e2be-4314-8042-01cb9a9d2e94",
   "metadata": {},
   "outputs": [
    {
     "data": {
      "text/plain": [
       "[2, 4, 6, 8, 10, 12]"
      ]
     },
     "execution_count": 74,
     "metadata": {},
     "output_type": "execute_result"
    }
   ],
   "source": [
    "list(filter(lambda x:x%2==0,b))"
   ]
  },
  {
   "cell_type": "markdown",
   "id": "94d22425-f45a-4b70-a8d6-56b4d235a8c1",
   "metadata": {},
   "source": [
    "## Input"
   ]
  },
  {
   "cell_type": "code",
   "execution_count": 76,
   "id": "e49f2369-409a-4536-abbc-117b3ffe212c",
   "metadata": {},
   "outputs": [
    {
     "name": "stdin",
     "output_type": "stream",
     "text": [
      " 23\n",
      " 42\n"
     ]
    }
   ],
   "source": [
    "a=input()\n",
    "b=input()"
   ]
  },
  {
   "cell_type": "code",
   "execution_count": 77,
   "id": "ffa15ca7-b46b-4290-a4c5-82216ebcbb72",
   "metadata": {},
   "outputs": [
    {
     "name": "stdout",
     "output_type": "stream",
     "text": [
      "2342\n"
     ]
    }
   ],
   "source": [
    "print(a+b)  #input by default is string type"
   ]
  },
  {
   "cell_type": "code",
   "execution_count": 78,
   "id": "6145c21d-8592-4616-8196-49836dcfaf92",
   "metadata": {},
   "outputs": [
    {
     "data": {
      "text/plain": [
       "(str, str)"
      ]
     },
     "execution_count": 78,
     "metadata": {},
     "output_type": "execute_result"
    }
   ],
   "source": [
    "type(a),type(b)"
   ]
  },
  {
   "cell_type": "code",
   "execution_count": 79,
   "id": "c1c9439d-220a-404f-a1c4-a73dd9e0964c",
   "metadata": {},
   "outputs": [
    {
     "name": "stdout",
     "output_type": "stream",
     "text": [
      "65\n"
     ]
    }
   ],
   "source": [
    "ans=int(a)+int(b)\n",
    "print(ans)"
   ]
  },
  {
   "cell_type": "code",
   "execution_count": 80,
   "id": "a3ba2aee-09be-42dd-908d-68c2ecfd036a",
   "metadata": {},
   "outputs": [
    {
     "name": "stdout",
     "output_type": "stream",
     "text": [
      "2342\n"
     ]
    }
   ],
   "source": [
    "ans2=int(a+b) #wrong\n",
    "print(ans2)"
   ]
  },
  {
   "cell_type": "code",
   "execution_count": 81,
   "id": "0debc4e4-05dd-48e9-8076-2a0e1c200436",
   "metadata": {},
   "outputs": [
    {
     "data": {
      "text/plain": [
       "int"
      ]
     },
     "execution_count": 81,
     "metadata": {},
     "output_type": "execute_result"
    }
   ],
   "source": [
    "type(ans2)"
   ]
  },
  {
   "cell_type": "code",
   "execution_count": 82,
   "id": "9f9572ee-6658-4a9d-8eb3-7568f791662e",
   "metadata": {},
   "outputs": [
    {
     "data": {
      "text/plain": [
       "[1, 2, 4]"
      ]
     },
     "execution_count": 82,
     "metadata": {},
     "output_type": "execute_result"
    }
   ],
   "source": [
    "list({1,2,4}) #typecasting"
   ]
  },
  {
   "cell_type": "code",
   "execution_count": 85,
   "id": "4b144063-dc8c-4aff-bbbf-8e87311d818a",
   "metadata": {},
   "outputs": [
    {
     "name": "stdin",
     "output_type": "stream",
     "text": [
      "give input 1 43\n",
      "give input 2 56\n"
     ]
    }
   ],
   "source": [
    "a=int(input(\"give input 1\"))\n",
    "b=int(input(\"give input 2\"))"
   ]
  },
  {
   "cell_type": "code",
   "execution_count": 86,
   "id": "769a857d-d314-4d04-91c9-b3accb477f9b",
   "metadata": {},
   "outputs": [
    {
     "data": {
      "text/plain": [
       "99"
      ]
     },
     "execution_count": 86,
     "metadata": {},
     "output_type": "execute_result"
    }
   ],
   "source": [
    "a+b"
   ]
  },
  {
   "cell_type": "code",
   "execution_count": 87,
   "id": "0cf8442c-5138-4ee8-9e60-65d32df13fa3",
   "metadata": {},
   "outputs": [
    {
     "data": {
      "text/plain": [
       "'      1 2     35        4    2    6          '"
      ]
     },
     "execution_count": 87,
     "metadata": {},
     "output_type": "execute_result"
    }
   ],
   "source": [
    "a=\"      1 2     35        4    2    6          \"\n",
    "a"
   ]
  },
  {
   "cell_type": "code",
   "execution_count": 88,
   "id": "0fea9e83-f171-4cc6-9c42-e287097ca0d3",
   "metadata": {},
   "outputs": [
    {
     "data": {
      "text/plain": [
       "'1 2     35        4    2    6'"
      ]
     },
     "execution_count": 88,
     "metadata": {},
     "output_type": "execute_result"
    }
   ],
   "source": [
    "a.strip() #strips away starting and ending spaces only"
   ]
  },
  {
   "cell_type": "code",
   "execution_count": 89,
   "id": "5c73e5d0-4dc3-4184-9346-cfc95919c770",
   "metadata": {},
   "outputs": [
    {
     "data": {
      "text/plain": [
       "['1', '2', '3', '4', '5', '6', '7', '8', '9']"
      ]
     },
     "execution_count": 89,
     "metadata": {},
     "output_type": "execute_result"
    }
   ],
   "source": [
    "b=\"1 2 3 4 5 6 7 8 9\"\n",
    "b.split(' ')"
   ]
  },
  {
   "cell_type": "code",
   "execution_count": 90,
   "id": "5cb00798-7647-41b0-9a36-f18ffc3db3df",
   "metadata": {},
   "outputs": [
    {
     "data": {
      "text/plain": [
       "'1- -2- -3- -4- -5- -6- -7- -8- -9'"
      ]
     },
     "execution_count": 90,
     "metadata": {},
     "output_type": "execute_result"
    }
   ],
   "source": [
    "'-'.join(b)"
   ]
  },
  {
   "cell_type": "code",
   "execution_count": 91,
   "id": "d890a551-1a89-44a7-a94a-8aa2023df7dd",
   "metadata": {},
   "outputs": [
    {
     "data": {
      "text/plain": [
       "['1', '2', '3', '4', '5', '6', '7', '8', '9']"
      ]
     },
     "execution_count": 91,
     "metadata": {},
     "output_type": "execute_result"
    }
   ],
   "source": [
    "b=\"1 2 3 4 5 6 7 8 9\"\n",
    "b.split(' ')"
   ]
  },
  {
   "cell_type": "code",
   "execution_count": 92,
   "id": "757af8de-a976-44ba-838f-4300877c5815",
   "metadata": {},
   "outputs": [
    {
     "data": {
      "text/plain": [
       "'2 3 4 5 6'"
      ]
     },
     "execution_count": 92,
     "metadata": {},
     "output_type": "execute_result"
    }
   ],
   "source": [
    "new=\"  2 3 4 5 6  \"\n",
    "new=new.strip()\n",
    "new"
   ]
  },
  {
   "cell_type": "code",
   "execution_count": 93,
   "id": "342fa0ff-e240-4a81-8c9b-5333245ab35b",
   "metadata": {},
   "outputs": [],
   "source": [
    "li=new.split(\" \")"
   ]
  },
  {
   "cell_type": "code",
   "execution_count": 94,
   "id": "604a4bd6-6770-4f46-89b7-781a34ec1580",
   "metadata": {
    "tags": []
   },
   "outputs": [
    {
     "data": {
      "text/plain": [
       "['2', '3', '4', '5', '6']"
      ]
     },
     "execution_count": 94,
     "metadata": {},
     "output_type": "execute_result"
    }
   ],
   "source": [
    "li"
   ]
  },
  {
   "cell_type": "code",
   "execution_count": 95,
   "id": "fa394fe1-66c6-4535-9330-e0c57e0cc683",
   "metadata": {},
   "outputs": [],
   "source": [
    "li=list(map(int,li))"
   ]
  },
  {
   "cell_type": "code",
   "execution_count": 96,
   "id": "8c7d1677-baaf-48c1-ad64-df98bead787d",
   "metadata": {},
   "outputs": [
    {
     "data": {
      "text/plain": [
       "[2, 3, 4, 5, 6]"
      ]
     },
     "execution_count": 96,
     "metadata": {},
     "output_type": "execute_result"
    }
   ],
   "source": [
    "li"
   ]
  },
  {
   "cell_type": "code",
   "execution_count": 97,
   "id": "be29e179-0b0f-46cb-93c9-7e88d2146747",
   "metadata": {},
   "outputs": [
    {
     "data": {
      "text/plain": [
       "20"
      ]
     },
     "execution_count": 97,
     "metadata": {},
     "output_type": "execute_result"
    }
   ],
   "source": [
    "sum(li)"
   ]
  },
  {
   "cell_type": "code",
   "execution_count": 98,
   "id": "5e46fbc8-52af-4ad8-a8cd-2fd85119c1ee",
   "metadata": {},
   "outputs": [],
   "source": [
    "a=[2,4]\n",
    "n1,n2=a"
   ]
  },
  {
   "cell_type": "code",
   "execution_count": 99,
   "id": "8eeab6c8-36fb-4268-8260-ddb64a171cce",
   "metadata": {},
   "outputs": [
    {
     "data": {
      "text/plain": [
       "(2, 4)"
      ]
     },
     "execution_count": 99,
     "metadata": {},
     "output_type": "execute_result"
    }
   ],
   "source": [
    "n1,n2"
   ]
  },
  {
   "cell_type": "code",
   "execution_count": 100,
   "id": "d7ae1f82-2fee-413c-83b7-1aa4be5c6f5e",
   "metadata": {},
   "outputs": [
    {
     "name": "stdout",
     "output_type": "stream",
     "text": [
      "34-56\n"
     ]
    }
   ],
   "source": [
    "print(34,56, sep=\"-\")"
   ]
  },
  {
   "cell_type": "markdown",
   "id": "ab8329cf-0de3-44c6-adbf-2843d0a81582",
   "metadata": {},
   "source": [
    "## F strings"
   ]
  },
  {
   "cell_type": "code",
   "execution_count": 101,
   "id": "96d16d9a-11c8-44ee-95a4-bb80d40622ef",
   "metadata": {},
   "outputs": [],
   "source": [
    "a=30\n",
    "b=45\n",
    "c=34\n",
    "d=23\n",
    "e=23\n",
    "f=34\n",
    "g=23\n",
    "h=23"
   ]
  },
  {
   "cell_type": "code",
   "execution_count": 102,
   "id": "9769921a-00cf-4435-8f0b-f995600b39b2",
   "metadata": {},
   "outputs": [
    {
     "name": "stdout",
     "output_type": "stream",
     "text": [
      "The eight numbers are  30  and  45 and 34  and  23\n"
     ]
    }
   ],
   "source": [
    "print(\"The eight numbers are \",a,\" and \",b,\"and\",c,\" and \",d) #boring"
   ]
  },
  {
   "cell_type": "code",
   "execution_count": 103,
   "id": "f57bacff-7aeb-44df-98a8-665ee0541fb1",
   "metadata": {},
   "outputs": [
    {
     "name": "stdout",
     "output_type": "stream",
     "text": [
      "The numbers are 30 and 45 and 34\n",
      "and 23   and 23\n",
      "                       and34\n"
     ]
    }
   ],
   "source": [
    "print('''The numbers are {} and {} and {}\n",
    "and {}   and {}\n",
    "                       and{}'''.format(a,b,c,d,e,f)) #bad"
   ]
  },
  {
   "cell_type": "code",
   "execution_count": 104,
   "id": "db05409a-0e1d-44f7-819f-d264947db59f",
   "metadata": {},
   "outputs": [
    {
     "name": "stdout",
     "output_type": "stream",
     "text": [
      "The numbers are 30 and 45\n",
      "and 34 and 23\n",
      "and 23 and 34 and 23\n"
     ]
    }
   ],
   "source": [
    "print(f'''The numbers are {a} and {b}\n",
    "and {c} and {d}\n",
    "and {e} and {f} and {g}''' ) #better"
   ]
  },
  {
   "cell_type": "markdown",
   "id": "1da52dd8-81cd-4cc9-a610-8f657d1dde76",
   "metadata": {},
   "source": [
    "## Dictionaries"
   ]
  },
  {
   "cell_type": "code",
   "execution_count": 106,
   "id": "7157c3f3-a0dc-4908-94fc-8097bdb30237",
   "metadata": {},
   "outputs": [],
   "source": [
    "my_dict={\"Car1\": \"Audi\",\n",
    "         \"Car2\":\"BMW\",\n",
    "         \"Car3\":\"Mercidies Benz\"}"
   ]
  },
  {
   "cell_type": "code",
   "execution_count": 107,
   "id": "bb518a64-2b1f-42ac-bca1-87131c7f8716",
   "metadata": {},
   "outputs": [
    {
     "name": "stdout",
     "output_type": "stream",
     "text": [
      "Car1 ==> Audi\n",
      "Car2 ==> BMW\n",
      "Car3 ==> Mercidies Benz\n"
     ]
    }
   ],
   "source": [
    "for key,value in my_dict.items():\n",
    "    print(key, \"==>\", value)"
   ]
  },
  {
   "cell_type": "code",
   "execution_count": 108,
   "id": "345ceec4-3b32-4063-9cf6-7cc6d9aeccc7",
   "metadata": {},
   "outputs": [
    {
     "name": "stdout",
     "output_type": "stream",
     "text": [
      "Audi\n",
      "BMW\n",
      "Mercidies Benz\n"
     ]
    }
   ],
   "source": [
    "for val in my_dict.values():\n",
    "    print(val)"
   ]
  },
  {
   "cell_type": "code",
   "execution_count": 109,
   "id": "260d570a-4ed5-4522-9f8f-787d6310e60c",
   "metadata": {},
   "outputs": [
    {
     "name": "stdout",
     "output_type": "stream",
     "text": [
      "Car1\n",
      "Car2\n",
      "Car3\n"
     ]
    }
   ],
   "source": [
    "for key in my_dict.keys():\n",
    "    print(key)"
   ]
  },
  {
   "cell_type": "code",
   "execution_count": 110,
   "id": "381f5cc2-d043-4d64-8dfd-f7d3cd7adac1",
   "metadata": {},
   "outputs": [
    {
     "data": {
      "text/plain": [
       "'BMW'"
      ]
     },
     "execution_count": 110,
     "metadata": {},
     "output_type": "execute_result"
    }
   ],
   "source": [
    "my_dict[\"Car2\"]"
   ]
  },
  {
   "cell_type": "code",
   "execution_count": 111,
   "id": "293cddb3-7dfb-4108-82d3-c92020699b8a",
   "metadata": {},
   "outputs": [
    {
     "data": {
      "text/plain": [
       "'Mercidies Benz'"
      ]
     },
     "execution_count": 111,
     "metadata": {},
     "output_type": "execute_result"
    }
   ],
   "source": [
    "my_dict.get(\"Car3\") #doesnt throw error if key is wrong"
   ]
  },
  {
   "cell_type": "code",
   "execution_count": 114,
   "id": "d49fab21-3601-4cf5-91cf-92cfec9000ce",
   "metadata": {},
   "outputs": [
    {
     "data": {
      "text/plain": [
       "'Audi'"
      ]
     },
     "execution_count": 114,
     "metadata": {},
     "output_type": "execute_result"
    }
   ],
   "source": [
    "##Access the item values based on keys\n",
    "\n",
    "my_dict['Car1']"
   ]
  },
  {
   "cell_type": "code",
   "execution_count": 115,
   "id": "fe570bd4-d658-452e-902d-f2e622feaa90",
   "metadata": {},
   "outputs": [
    {
     "name": "stdout",
     "output_type": "stream",
     "text": [
      "Car1\n",
      "Car2\n",
      "Car3\n"
     ]
    }
   ],
   "source": [
    "# We can even loop throught the dictionaries keys\n",
    "for x in my_dict:\n",
    "    print(x)"
   ]
  },
  {
   "cell_type": "code",
   "execution_count": 116,
   "id": "fcdaea6d-6d7a-4f2d-a7b0-2295d41db80a",
   "metadata": {},
   "outputs": [
    {
     "name": "stdout",
     "output_type": "stream",
     "text": [
      "Audi\n",
      "BMW\n",
      "Mercidies Benz\n"
     ]
    }
   ],
   "source": [
    "# We can even loop throught the dictionaries values\n",
    "\n",
    "for x in my_dict.values():\n",
    "    print(x)"
   ]
  },
  {
   "cell_type": "code",
   "execution_count": 117,
   "id": "83b3074c-402b-41fa-9674-dfa41cc8d7c5",
   "metadata": {},
   "outputs": [
    {
     "name": "stdout",
     "output_type": "stream",
     "text": [
      "('Car1', 'Audi')\n",
      "('Car2', 'BMW')\n",
      "('Car3', 'Mercidies Benz')\n"
     ]
    }
   ],
   "source": [
    "# We can also check both keys and values\n",
    "for x in my_dict.items():\n",
    "    print(x)"
   ]
  },
  {
   "cell_type": "code",
   "execution_count": 118,
   "id": "41494033-59eb-458d-a003-498553f71223",
   "metadata": {},
   "outputs": [
    {
     "data": {
      "text/plain": [
       "{'Car1': 'Audi', 'Car2': 'BMW', 'Car3': 'Mercidies Benz', 'car4': 'Audi 2.0'}"
      ]
     },
     "execution_count": 118,
     "metadata": {},
     "output_type": "execute_result"
    }
   ],
   "source": [
    "my_dict['car4']='Audi 2.0'\n",
    "my_dict"
   ]
  },
  {
   "cell_type": "code",
   "execution_count": 119,
   "id": "8ef010d5-b6a5-49e9-8f25-f50c93492de2",
   "metadata": {},
   "outputs": [
    {
     "data": {
      "text/plain": [
       "{'Car1': 'Maruti', 'Car2': 'BMW', 'Car3': 'Mercidies Benz', 'car4': 'Audi 2.0'}"
      ]
     },
     "execution_count": 119,
     "metadata": {},
     "output_type": "execute_result"
    }
   ],
   "source": [
    "my_dict['Car1']='Maruti'\n",
    "my_dict"
   ]
  },
  {
   "cell_type": "code",
   "execution_count": 120,
   "id": "03a9b9af-05f8-47b9-a494-443c30e183e0",
   "metadata": {},
   "outputs": [],
   "source": [
    "car1_model={'Mercedes':1960}\n",
    "car2_model={'Audi':1970}\n",
    "car3_model={'Ambassador':1980}\n",
    "\n",
    "car_type={'car1':car1_model,'car2':car2_model,'car3':car3_model}"
   ]
  },
  {
   "cell_type": "code",
   "execution_count": 121,
   "id": "62358cde-e6ca-445c-9821-5733bdc8138f",
   "metadata": {},
   "outputs": [
    {
     "name": "stdout",
     "output_type": "stream",
     "text": [
      "{'car1': {'Mercedes': 1960}, 'car2': {'Audi': 1970}, 'car3': {'Ambassador': 1980}}\n"
     ]
    }
   ],
   "source": [
    "print(car_type)"
   ]
  },
  {
   "cell_type": "code",
   "execution_count": 122,
   "id": "c43d1f4c-1fa5-4403-8d64-cdd4d039fe9d",
   "metadata": {},
   "outputs": [
    {
     "name": "stdout",
     "output_type": "stream",
     "text": [
      "{'Mercedes': 1960}\n",
      "1960\n"
     ]
    }
   ],
   "source": [
    "print(car_type['car1'])\n",
    "print(car_type['car1']['Mercedes'])"
   ]
  }
 ],
 "metadata": {
  "kernelspec": {
   "display_name": "Python 3",
   "language": "python",
   "name": "python3"
  },
  "language_info": {
   "codemirror_mode": {
    "name": "ipython",
    "version": 3
   },
   "file_extension": ".py",
   "mimetype": "text/x-python",
   "name": "python",
   "nbconvert_exporter": "python",
   "pygments_lexer": "ipython3",
   "version": "3.8.8"
  }
 },
 "nbformat": 4,
 "nbformat_minor": 5
}
