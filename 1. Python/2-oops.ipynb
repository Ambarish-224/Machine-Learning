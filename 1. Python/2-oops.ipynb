{
 "cells": [
  {
   "cell_type": "markdown",
   "id": "d7f72bfb-3792-4600-9c8f-1c307f6dcc5a",
   "metadata": {},
   "source": [
    "### Notes\n",
    "Class :- Wrapper of different variables and data structures.\n",
    "\n",
    "Object:- Instance of a class used to access class members.\n",
    "\n",
    "Encapsulation:-Collection of attributes of common class\n",
    "\n",
    "Abstraction:- Hiding complexity and working of features from users.\n",
    "\n",
    "Inheritance:- inhereting properties of some other class.\n",
    "\n",
    "Polymorphism:- Many forms of the same object."
   ]
  },
  {
   "cell_type": "markdown",
   "id": "de5ea561-ef10-46c2-ae68-1ded0ba1ab97",
   "metadata": {},
   "source": [
    "### Class and objects"
   ]
  },
  {
   "cell_type": "code",
   "execution_count": 1,
   "id": "1daae0eb-a97b-42ef-aca1-be4957ff4c31",
   "metadata": {},
   "outputs": [],
   "source": [
    "class Human:\n",
    "    age=0\n",
    "    name=\"gumnam\""
   ]
  },
  {
   "cell_type": "code",
   "execution_count": 2,
   "id": "dcb9b230-aa0a-4972-8d21-4c25777a57ec",
   "metadata": {},
   "outputs": [],
   "source": [
    "vanshika =Human() #vanshika is an object"
   ]
  },
  {
   "cell_type": "code",
   "execution_count": 3,
   "id": "81b8f6e7-615f-43c7-9867-a0881487ae34",
   "metadata": {},
   "outputs": [
    {
     "data": {
      "text/plain": [
       "0"
      ]
     },
     "execution_count": 3,
     "metadata": {},
     "output_type": "execute_result"
    }
   ],
   "source": [
    "vanshika.age"
   ]
  },
  {
   "cell_type": "code",
   "execution_count": 4,
   "id": "58890861-b49c-459f-a217-9fa3a098d1e8",
   "metadata": {},
   "outputs": [],
   "source": [
    "nutan=Human()  # Nutan is an Object"
   ]
  },
  {
   "cell_type": "code",
   "execution_count": 6,
   "id": "b800ac8b-8ba1-483c-b5c4-717602be89ee",
   "metadata": {},
   "outputs": [
    {
     "data": {
      "text/plain": [
       "(0, 0)"
      ]
     },
     "execution_count": 6,
     "metadata": {},
     "output_type": "execute_result"
    }
   ],
   "source": [
    "vanshika.age,nutan.age "
   ]
  },
  {
   "cell_type": "code",
   "execution_count": 7,
   "id": "53896c24-42ba-4d3d-a718-34b54e472b96",
   "metadata": {},
   "outputs": [],
   "source": [
    "vanshika.age=19\n",
    "nutan.age=46"
   ]
  },
  {
   "cell_type": "code",
   "execution_count": 8,
   "id": "3ef29c9e-c6bf-4c43-9922-8763fd80c21b",
   "metadata": {},
   "outputs": [],
   "source": [
    "Human.salary=30000"
   ]
  },
  {
   "cell_type": "code",
   "execution_count": 9,
   "id": "2868e4d9-6dff-4953-9907-63aac328255d",
   "metadata": {},
   "outputs": [
    {
     "data": {
      "text/plain": [
       "30000"
      ]
     },
     "execution_count": 9,
     "metadata": {},
     "output_type": "execute_result"
    }
   ],
   "source": [
    "vanshika.salary #Vanshika gets the salary of Human as it doesnt have any in Vanshika objects"
   ]
  },
  {
   "cell_type": "code",
   "execution_count": 10,
   "id": "b34088b5-9239-418e-9460-462201592f9f",
   "metadata": {},
   "outputs": [
    {
     "data": {
      "text/plain": [
       "30000"
      ]
     },
     "execution_count": 10,
     "metadata": {},
     "output_type": "execute_result"
    }
   ],
   "source": [
    "nutan.salary #Nutan gets the salary of Human as it doesnt have any in Vanshika objects"
   ]
  },
  {
   "cell_type": "code",
   "execution_count": 11,
   "id": "21cb8369-cef7-453b-9a7b-9b72753cb68c",
   "metadata": {},
   "outputs": [],
   "source": [
    "nutan.salary=50000 #changing only nutan's salary"
   ]
  },
  {
   "cell_type": "code",
   "execution_count": 15,
   "id": "69553369-62bd-4427-9c1c-de199385f9bf",
   "metadata": {},
   "outputs": [
    {
     "data": {
      "text/plain": [
       "(30000, 30000, 50000)"
      ]
     },
     "execution_count": 15,
     "metadata": {},
     "output_type": "execute_result"
    }
   ],
   "source": [
    "vanshika.salary,Human.salary,nutan.salary"
   ]
  },
  {
   "cell_type": "markdown",
   "id": "344ec567-fbc7-44fb-881d-091960242823",
   "metadata": {},
   "source": [
    "### functions in class"
   ]
  },
  {
   "cell_type": "code",
   "execution_count": 16,
   "id": "1b6679de-13eb-4fa9-bbfd-e613bcd48b77",
   "metadata": {},
   "outputs": [],
   "source": [
    "class Human:\n",
    "    def fun(): #should have one parameter atleast\n",
    "        pront(\"hola amigos\")   "
   ]
  },
  {
   "cell_type": "code",
   "execution_count": 17,
   "id": "76f80558-acfa-491c-a212-49efe1c89739",
   "metadata": {},
   "outputs": [],
   "source": [
    "vanshika=Human()"
   ]
  },
  {
   "cell_type": "code",
   "execution_count": 18,
   "id": "5a9354c3-785d-4913-8d0b-ce6f3cc3a7e7",
   "metadata": {},
   "outputs": [
    {
     "ename": "TypeError",
     "evalue": "fun() takes 0 positional arguments but 1 was given",
     "output_type": "error",
     "traceback": [
      "\u001b[1;31m---------------------------------------------------------------------------\u001b[0m",
      "\u001b[1;31mTypeError\u001b[0m                                 Traceback (most recent call last)",
      "\u001b[1;32m<ipython-input-18-eda1d73b74a3>\u001b[0m in \u001b[0;36m<module>\u001b[1;34m\u001b[0m\n\u001b[1;32m----> 1\u001b[1;33m \u001b[0mvanshika\u001b[0m\u001b[1;33m.\u001b[0m\u001b[0mfun\u001b[0m\u001b[1;33m(\u001b[0m\u001b[1;33m)\u001b[0m\u001b[1;33m\u001b[0m\u001b[1;33m\u001b[0m\u001b[0m\n\u001b[0m",
      "\u001b[1;31mTypeError\u001b[0m: fun() takes 0 positional arguments but 1 was given"
     ]
    }
   ],
   "source": [
    "vanshika.fun() #by default it passes a parameter"
   ]
  },
  {
   "cell_type": "code",
   "execution_count": 31,
   "id": "19604802-da19-4dc2-9c31-fb8b58abfa8c",
   "metadata": {},
   "outputs": [],
   "source": [
    "class Human:\n",
    "    def fun(something):#should have one parameter atleast\n",
    "        print(something) #let's see what it is\n",
    "        print(\"hola amigos\")   "
   ]
  },
  {
   "cell_type": "code",
   "execution_count": 32,
   "id": "b5075f7b-7348-4eef-adc3-f2c76d3753e7",
   "metadata": {},
   "outputs": [],
   "source": [
    "vanshika=Human()"
   ]
  },
  {
   "cell_type": "code",
   "execution_count": 33,
   "id": "2d29fe62-353e-473f-9c2b-0983c4b600ef",
   "metadata": {},
   "outputs": [
    {
     "name": "stdout",
     "output_type": "stream",
     "text": [
      "<__main__.Human object at 0x000002204D2411C0>\n",
      "hola amigos\n"
     ]
    }
   ],
   "source": [
    "vanshika.fun() #what it does is it passes vanshika as parameter above "
   ]
  },
  {
   "cell_type": "markdown",
   "id": "f98ddd66-6436-429a-9163-0d709da041ae",
   "metadata": {},
   "source": [
    "### Methods"
   ]
  },
  {
   "cell_type": "code",
   "execution_count": 34,
   "id": "05b081ed-eb55-4051-aff3-5442e0b3f97a",
   "metadata": {},
   "outputs": [],
   "source": [
    "class Human:\n",
    "    age=10\n",
    "    def getage(self):\n",
    "        print(self.age)"
   ]
  },
  {
   "cell_type": "code",
   "execution_count": 39,
   "id": "a0e386e9-d62b-43ea-a5ca-c569d53afa1f",
   "metadata": {},
   "outputs": [],
   "source": [
    "vanshika=Human()\n",
    "nutan=Human()\n",
    "vinay=Human()\n",
    "archana=Human()"
   ]
  },
  {
   "cell_type": "code",
   "execution_count": 40,
   "id": "435b9873-881e-4192-b0c3-fc64c1ac27d2",
   "metadata": {},
   "outputs": [],
   "source": [
    "vanshika.age=18\n",
    "nutan.age=46\n",
    "vinay.age=50"
   ]
  },
  {
   "cell_type": "code",
   "execution_count": 41,
   "id": "4da020be-bf17-4581-88de-2c41764526a9",
   "metadata": {},
   "outputs": [
    {
     "name": "stdout",
     "output_type": "stream",
     "text": [
      "18\n"
     ]
    }
   ],
   "source": [
    "vanshika.getage()"
   ]
  },
  {
   "cell_type": "code",
   "execution_count": 43,
   "id": "fd5b2d14-7b55-41b6-aafe-0888669769c0",
   "metadata": {},
   "outputs": [
    {
     "name": "stdout",
     "output_type": "stream",
     "text": [
      "46\n",
      "50\n",
      "10\n"
     ]
    },
    {
     "data": {
      "text/plain": [
       "(None, None, None)"
      ]
     },
     "execution_count": 43,
     "metadata": {},
     "output_type": "execute_result"
    }
   ],
   "source": [
    "nutan.getage(),vinay.getage(),archana.getage()"
   ]
  },
  {
   "cell_type": "markdown",
   "id": "3247c15e-a362-45d2-b1bd-4d51af499f2f",
   "metadata": {},
   "source": [
    "### Dunders and Magic Methods"
   ]
  },
  {
   "cell_type": "markdown",
   "id": "fb991550-14da-4448-8c88-0c5f536e5829",
   "metadata": {},
   "source": [
    "Lifecycle of the object :- \n",
    "1. Created__init__(self)\n",
    "2. Deleted__del__(self)\n",
    "3. Add__add__(self,other)\n",
    "4. Subtract\n",
    "5. String\n",
    "6. equal__eq__(self,other)"
   ]
  },
  {
   "cell_type": "code",
   "execution_count": 1,
   "id": "f33c52b5-761e-43f3-8aa7-07f8fccc56f0",
   "metadata": {},
   "outputs": [],
   "source": [
    "class Car:\n",
    "    def __init__(self,model,mileage):\n",
    "        self.model=model\n",
    "        self.mileage=mileage\n",
    "    \n",
    "    def __str__(self):\n",
    "        return \"{} {}\".format(self.model,self.mileage)\n",
    "    \n",
    "    def __repr(self):\n",
    "        return self.mileage==other.mileage\n",
    "    \n",
    "    def __add__(self,other):\n",
    "        return self.mileage+other.mileage"
   ]
  },
  {
   "cell_type": "code",
   "execution_count": 2,
   "id": "1b14b892-0020-4403-80bd-3a123076222d",
   "metadata": {},
   "outputs": [],
   "source": [
    "c1=Car('a',2)\n",
    "c2=Car('b',6)"
   ]
  },
  {
   "cell_type": "code",
   "execution_count": 3,
   "id": "506a2f17-91de-45a8-a671-4bba02169c11",
   "metadata": {},
   "outputs": [
    {
     "data": {
      "text/plain": [
       "8"
      ]
     },
     "execution_count": 3,
     "metadata": {},
     "output_type": "execute_result"
    }
   ],
   "source": [
    "c1+c2"
   ]
  },
  {
   "cell_type": "code",
   "execution_count": 4,
   "id": "18a897b5-d4e9-47f6-9722-8483ac41d731",
   "metadata": {},
   "outputs": [
    {
     "data": {
      "text/plain": [
       "False"
      ]
     },
     "execution_count": 4,
     "metadata": {},
     "output_type": "execute_result"
    }
   ],
   "source": [
    "c1==c2"
   ]
  },
  {
   "cell_type": "code",
   "execution_count": 44,
   "id": "7377bafe-f636-46d4-a20d-fcbd70c796c3",
   "metadata": {},
   "outputs": [],
   "source": [
    "class Human:\n",
    "    #overriding\n",
    "    def __init__(self,age,name): #not a constructor\n",
    "        self.age=age\n",
    "        self.name=name"
   ]
  },
  {
   "cell_type": "code",
   "execution_count": 45,
   "id": "fadad274-29c6-47a0-96d5-6a1a450c74cf",
   "metadata": {},
   "outputs": [],
   "source": [
    "vanshika=Human(19,\"vanshika\")"
   ]
  },
  {
   "cell_type": "code",
   "execution_count": 46,
   "id": "aaaecc6e-eac4-4681-8c24-4d17fe081d9d",
   "metadata": {},
   "outputs": [
    {
     "data": {
      "text/plain": [
       "19"
      ]
     },
     "execution_count": 46,
     "metadata": {},
     "output_type": "execute_result"
    }
   ],
   "source": [
    "vanshika.age"
   ]
  },
  {
   "cell_type": "code",
   "execution_count": 47,
   "id": "76e64a61-1496-40a7-b29d-a96c663970eb",
   "metadata": {},
   "outputs": [],
   "source": [
    "vanshika.age=23"
   ]
  },
  {
   "cell_type": "code",
   "execution_count": 48,
   "id": "7e722c00-b990-45ac-a5d0-119d91a6c40a",
   "metadata": {},
   "outputs": [
    {
     "data": {
      "text/plain": [
       "23"
      ]
     },
     "execution_count": 48,
     "metadata": {},
     "output_type": "execute_result"
    }
   ],
   "source": [
    "vanshika.age"
   ]
  },
  {
   "cell_type": "code",
   "execution_count": 49,
   "id": "e29e0cbe-a738-42e3-a0d3-139b0e674c50",
   "metadata": {},
   "outputs": [],
   "source": [
    "Human.salary=20000"
   ]
  },
  {
   "cell_type": "code",
   "execution_count": 50,
   "id": "0114b523-ec2e-4761-8cba-db9d5e47986b",
   "metadata": {},
   "outputs": [
    {
     "data": {
      "text/plain": [
       "20000"
      ]
     },
     "execution_count": 50,
     "metadata": {},
     "output_type": "execute_result"
    }
   ],
   "source": [
    "vanshika.salary"
   ]
  },
  {
   "cell_type": "code",
   "execution_count": 51,
   "id": "2c9360e9-8012-4556-9743-071bada6b647",
   "metadata": {},
   "outputs": [],
   "source": [
    "class Human:\n",
    "    population=0\n",
    "    def __init__(self,name,age):\n",
    "        self.age=age\n",
    "        self.name=name\n",
    "        Human.population+=1\n",
    "        "
   ]
  },
  {
   "cell_type": "code",
   "execution_count": 62,
   "id": "bb1ad831-442e-4228-b2d1-5b20f059cd84",
   "metadata": {},
   "outputs": [
    {
     "data": {
      "text/plain": [
       "2"
      ]
     },
     "execution_count": 62,
     "metadata": {},
     "output_type": "execute_result"
    }
   ],
   "source": [
    "Human.population"
   ]
  },
  {
   "cell_type": "code",
   "execution_count": 53,
   "id": "76131320-9f3e-4135-9b47-34f8c4014583",
   "metadata": {},
   "outputs": [],
   "source": [
    "vanshika=Human(\"vanshika\",19)"
   ]
  },
  {
   "cell_type": "code",
   "execution_count": 54,
   "id": "d0e5eaed-c5e5-4d3e-8fc9-13bc05d1ddeb",
   "metadata": {},
   "outputs": [
    {
     "data": {
      "text/plain": [
       "1"
      ]
     },
     "execution_count": 54,
     "metadata": {},
     "output_type": "execute_result"
    }
   ],
   "source": [
    "vanshika.population"
   ]
  },
  {
   "cell_type": "code",
   "execution_count": 55,
   "id": "76401cd0-6a38-404f-971d-87be500e782b",
   "metadata": {},
   "outputs": [],
   "source": [
    "nutan=Human(\"nutan\",46)"
   ]
  },
  {
   "cell_type": "code",
   "execution_count": 57,
   "id": "94f701fe-27d9-48ae-ba1a-5f8c184f3273",
   "metadata": {},
   "outputs": [
    {
     "data": {
      "text/plain": [
       "(2, 2, 2)"
      ]
     },
     "execution_count": 57,
     "metadata": {},
     "output_type": "execute_result"
    }
   ],
   "source": [
    "nutan.population,vanshika.population,Human.population"
   ]
  },
  {
   "cell_type": "code",
   "execution_count": 63,
   "id": "55817db0-2a3c-4a0f-ae1f-dd567e6b6d4a",
   "metadata": {},
   "outputs": [],
   "source": [
    "vanshika.population+=1"
   ]
  },
  {
   "cell_type": "code",
   "execution_count": 64,
   "id": "505f1115-cd6e-48d3-9527-f6109a2a6dd3",
   "metadata": {},
   "outputs": [
    {
     "data": {
      "text/plain": [
       "(2, 5, 2)"
      ]
     },
     "execution_count": 64,
     "metadata": {},
     "output_type": "execute_result"
    }
   ],
   "source": [
    "nutan.population,vanshika.population,Human.population"
   ]
  },
  {
   "cell_type": "code",
   "execution_count": 66,
   "id": "4741dd7e-fe75-4d2c-b8df-66020c1c5dda",
   "metadata": {},
   "outputs": [],
   "source": [
    "vinay=Human(\"vinay\",50)"
   ]
  },
  {
   "cell_type": "code",
   "execution_count": 68,
   "id": "6bc365fd-f613-49b4-80ef-0b1fd93a9098",
   "metadata": {},
   "outputs": [
    {
     "data": {
      "text/plain": [
       "(3, 5, 3, 3)"
      ]
     },
     "execution_count": 68,
     "metadata": {},
     "output_type": "execute_result"
    }
   ],
   "source": [
    "nutan.population,vanshika.population,Human.population,vinay.population"
   ]
  },
  {
   "cell_type": "markdown",
   "id": "7a4f2b1f-1029-4172-8180-73a951673e6c",
   "metadata": {},
   "source": [
    "### Inheritance"
   ]
  },
  {
   "cell_type": "code",
   "execution_count": 8,
   "id": "1930f7b5-1d59-4ae1-a1c3-67e5a9cca0bf",
   "metadata": {},
   "outputs": [
    {
     "name": "stdout",
     "output_type": "stream",
     "text": [
      "Init School Member: Mr.Alpha \n",
      "Init Teacher : Mr.Alpha\n",
      "Name :Mr.Alpha 30\n",
      "Salary : 45000\n",
      "Init School Member: Xyz \n",
      "Init Student Xyz\n",
      "Name :Xyz 20\n",
      "Marks 90\n"
     ]
    }
   ],
   "source": [
    "class SchoolMember:\n",
    "    def __init__(self,name,age):\n",
    "        self.name = name\n",
    "        self.age = age\n",
    "        print(\"Init School Member: %s \"%self.name)\n",
    "        \n",
    "    def introduce(self):\n",
    "        print(\"Name :%s %d\"%(self.name,self.age))\n",
    "        \n",
    "\n",
    "class Teacher(SchoolMember):\n",
    "       \n",
    "        def __init__(self,name,age,salary):\n",
    "            SchoolMember.__init__(self,name,age)\n",
    "            self.salary = salary\n",
    "            print(\"Init Teacher : %s\"%self.name)\n",
    "\n",
    "        def introduce(self):\n",
    "            SchoolMember.introduce(self)\n",
    "            print(\"Salary : %d\"%(self.salary))\n",
    "            \n",
    "class Student(SchoolMember):\n",
    "    '''Represents a school student'''\n",
    "    def __init__(self,name,age,marks):\n",
    "        SchoolMember.__init__(self,name,age)\n",
    "        self.marks = marks\n",
    "        print(\"Init Student %s\"%(self.name))\n",
    "        \n",
    "    def introduce(self):\n",
    "        SchoolMember.introduce(self)\n",
    "        print(\"Marks %d\"%(self.marks))\n",
    "    \n",
    "\n",
    "t = Teacher(\"Mr.Alpha\",30,45000)\n",
    "t.introduce()\n",
    "\n",
    "s = Student(\"Xyz\",20,90)\n",
    "s.introduce()"
   ]
  },
  {
   "cell_type": "markdown",
   "id": "24c52956-7d93-4a34-ab75-a365028b00c2",
   "metadata": {},
   "source": [
    "### MRO - Method Resolution Order\n",
    "C3 Linearization :- diamond case \n",
    "for searching an attribute - go to left first and to the very depth, if not found backtrack and go to next leaf -- DFS Modified Depth First Search "
   ]
  },
  {
   "cell_type": "code",
   "execution_count": 9,
   "id": "80d591b3-54af-4b44-951e-067077bd6ab4",
   "metadata": {},
   "outputs": [],
   "source": [
    "class A:\n",
    "    x=10\n",
    "class B(A):\n",
    "    pass\n",
    "class C(A):\n",
    "    x=5\n",
    "class D(C):\n",
    "    pass\n",
    "class E(B,D):\n",
    "    pass"
   ]
  },
  {
   "cell_type": "code",
   "execution_count": 10,
   "id": "10aee6c1-f8fd-4ecf-833f-788283b28f33",
   "metadata": {},
   "outputs": [
    {
     "data": {
      "text/plain": [
       "(__main__.E, __main__.B, __main__.D, __main__.C, __main__.A, object)"
      ]
     },
     "execution_count": 10,
     "metadata": {},
     "output_type": "execute_result"
    }
   ],
   "source": [
    "E.__mro__"
   ]
  },
  {
   "cell_type": "markdown",
   "id": "24f884d4-db18-40d6-9b81-dcc70aeb1624",
   "metadata": {},
   "source": [
    "### static methods"
   ]
  },
  {
   "cell_type": "code",
   "execution_count": 77,
   "id": "1b0158cc-81c1-4472-b6ee-412b903b7a7f",
   "metadata": {},
   "outputs": [],
   "source": [
    "class Human:\n",
    "    population=0\n",
    "    def __init__(self,name,age):\n",
    "        self.age=age\n",
    "        self.name=name\n",
    "        Human.population+=1\n",
    "        \n",
    "    @staticmethod #this is a decorator-its used to modify behaviour of a fnx\n",
    "    def fun():\n",
    "            print(Human.population)"
   ]
  },
  {
   "cell_type": "code",
   "execution_count": 78,
   "id": "e78ba4ce-239f-4a33-afae-32dc9c1e2f86",
   "metadata": {},
   "outputs": [],
   "source": [
    "vinay=Human(\"vinay\",50)\n",
    "nutan=Human(\"nutan\",46)"
   ]
  },
  {
   "cell_type": "code",
   "execution_count": 79,
   "id": "a06b66d1-6dd0-4ec2-95c7-f363ba78db1e",
   "metadata": {},
   "outputs": [
    {
     "name": "stdout",
     "output_type": "stream",
     "text": [
      "2\n"
     ]
    }
   ],
   "source": [
    "vinay.fun()"
   ]
  },
  {
   "cell_type": "code",
   "execution_count": 85,
   "id": "471f8a25-b90c-413b-b6b3-e0a433818fe9",
   "metadata": {},
   "outputs": [],
   "source": [
    "class Human:\n",
    "    population=0\n",
    "    def __init__(self,name,age):\n",
    "        self.age=age\n",
    "        self.name=name\n",
    "        Human.population+=1\n",
    "        \n",
    "    @staticmethod #this is a decorator-its used to modify behaviour of a fnx\n",
    "    def fun():\n",
    "            print(Human.population)\n",
    "    def getName(self):\n",
    "        print(self.name)\n",
    "    \n",
    "    @classmethod\n",
    "    def atomBomb(cls):  #the parent class of the object is passed here,can be used to create objects\n",
    "        cls.population=0\n",
    "    \n",
    "    @classmethod\n",
    "    def fromString(cls,string,age):\n",
    "        return cls(string,age)\n",
    "        "
   ]
  },
  {
   "cell_type": "code",
   "execution_count": 86,
   "id": "a160a01d-a383-433d-8b2d-0523de16a43c",
   "metadata": {},
   "outputs": [],
   "source": [
    "vinay=Human(\"vinay\",50)\n",
    "nutan=Human(\"nutan\",46)"
   ]
  },
  {
   "cell_type": "code",
   "execution_count": 87,
   "id": "f1bfb3cb-3869-44c3-a6a7-ba44b1067bf0",
   "metadata": {},
   "outputs": [
    {
     "data": {
      "text/plain": [
       "2"
      ]
     },
     "execution_count": 87,
     "metadata": {},
     "output_type": "execute_result"
    }
   ],
   "source": [
    "vinay.population"
   ]
  },
  {
   "cell_type": "code",
   "execution_count": 83,
   "id": "61ed2e95-922a-4d05-82a9-660472f1e108",
   "metadata": {},
   "outputs": [],
   "source": [
    "nutan.atomBomb() "
   ]
  },
  {
   "cell_type": "code",
   "execution_count": 84,
   "id": "cc97ae09-fa54-4fb4-ae7f-54b1c8d2d260",
   "metadata": {},
   "outputs": [
    {
     "data": {
      "text/plain": [
       "0"
      ]
     },
     "execution_count": 84,
     "metadata": {},
     "output_type": "execute_result"
    }
   ],
   "source": [
    "vinay.population"
   ]
  },
  {
   "cell_type": "code",
   "execution_count": 88,
   "id": "1d62c02b-b99d-43ee-a784-63f66d287fef",
   "metadata": {},
   "outputs": [],
   "source": [
    "vanshika=Human.fromString(\"vanshika\",19)"
   ]
  },
  {
   "cell_type": "code",
   "execution_count": 89,
   "id": "d31d9135-8420-4a03-a929-71bd18a8583c",
   "metadata": {},
   "outputs": [
    {
     "data": {
      "text/plain": [
       "3"
      ]
     },
     "execution_count": 89,
     "metadata": {},
     "output_type": "execute_result"
    }
   ],
   "source": [
    "vinay.population"
   ]
  },
  {
   "cell_type": "code",
   "execution_count": 90,
   "id": "bfa893dc-f197-446b-ad4f-13e1d99265e9",
   "metadata": {},
   "outputs": [
    {
     "data": {
      "text/plain": [
       "19"
      ]
     },
     "execution_count": 90,
     "metadata": {},
     "output_type": "execute_result"
    }
   ],
   "source": [
    "vanshika.age"
   ]
  },
  {
   "cell_type": "code",
   "execution_count": null,
   "id": "cc39943f-cc5e-4548-a8ee-b5f3f5a394f6",
   "metadata": {},
   "outputs": [],
   "source": [
    "#inheritance"
   ]
  },
  {
   "cell_type": "code",
   "execution_count": 91,
   "id": "f4429ee8-4465-4248-a31d-b0bf213d1d29",
   "metadata": {},
   "outputs": [],
   "source": [
    "class Parent:\n",
    "    f=80\n",
    "    def __init__(self,value):\n",
    "        self.value=value"
   ]
  },
  {
   "cell_type": "code",
   "execution_count": 92,
   "id": "07f3384a-2142-4703-85fe-ec8e1814a158",
   "metadata": {},
   "outputs": [],
   "source": [
    "class Child(Parent):\n",
    "    def __init__(self,value):\n",
    "        super().__init__(value)#calls the parent's constructor"
   ]
  },
  {
   "cell_type": "code",
   "execution_count": 93,
   "id": "ad8b232b-2954-4b6c-a808-f668378878ed",
   "metadata": {},
   "outputs": [],
   "source": [
    "obj=Child(45)"
   ]
  },
  {
   "cell_type": "code",
   "execution_count": 95,
   "id": "a6ebd0b8-d0fb-46c1-9257-aa5f64a4c302",
   "metadata": {},
   "outputs": [],
   "source": [
    "obj2=Parent(67)"
   ]
  },
  {
   "cell_type": "code",
   "execution_count": 96,
   "id": "50667d36-dece-43d9-a4e1-1dfbaca6c7d6",
   "metadata": {},
   "outputs": [
    {
     "data": {
      "text/plain": [
       "(80, 45)"
      ]
     },
     "execution_count": 96,
     "metadata": {},
     "output_type": "execute_result"
    }
   ],
   "source": [
    "obj.f,obj.value"
   ]
  },
  {
   "cell_type": "code",
   "execution_count": 97,
   "id": "a21928d8-d01b-4cf3-bbb6-a1b950f6d169",
   "metadata": {},
   "outputs": [
    {
     "data": {
      "text/plain": [
       "(80, 67)"
      ]
     },
     "execution_count": 97,
     "metadata": {},
     "output_type": "execute_result"
    }
   ],
   "source": [
    "obj2.f,obj2.value"
   ]
  },
  {
   "cell_type": "code",
   "execution_count": 98,
   "id": "6bb07379-2870-4d2e-b040-691de7786799",
   "metadata": {},
   "outputs": [],
   "source": [
    "class A:\n",
    "    def __init__(self, value):\n",
    "        self.__value=value"
   ]
  },
  {
   "cell_type": "code",
   "execution_count": 99,
   "id": "54ede888-0bb9-490e-b877-8bbaecb591d2",
   "metadata": {},
   "outputs": [],
   "source": [
    "obj=A(36)"
   ]
  },
  {
   "cell_type": "code",
   "execution_count": 100,
   "id": "9393c42e-c91d-4d93-86c7-3d2281cbbfbd",
   "metadata": {},
   "outputs": [
    {
     "ename": "AttributeError",
     "evalue": "'A' object has no attribute 'value'",
     "output_type": "error",
     "traceback": [
      "\u001b[1;31m---------------------------------------------------------------------------\u001b[0m",
      "\u001b[1;31mAttributeError\u001b[0m                            Traceback (most recent call last)",
      "\u001b[1;32m<ipython-input-100-0641cfd55175>\u001b[0m in \u001b[0;36m<module>\u001b[1;34m\u001b[0m\n\u001b[1;32m----> 1\u001b[1;33m \u001b[0mobj\u001b[0m\u001b[1;33m.\u001b[0m\u001b[0mvalue\u001b[0m\u001b[1;33m\u001b[0m\u001b[1;33m\u001b[0m\u001b[0m\n\u001b[0m",
      "\u001b[1;31mAttributeError\u001b[0m: 'A' object has no attribute 'value'"
     ]
    }
   ],
   "source": [
    "obj.value #private method but is it really?"
   ]
  },
  {
   "cell_type": "code",
   "execution_count": 101,
   "id": "83015e5c-67a4-4353-8a29-58665a128c5b",
   "metadata": {},
   "outputs": [
    {
     "data": {
      "text/plain": [
       "36"
      ]
     },
     "execution_count": 101,
     "metadata": {},
     "output_type": "execute_result"
    }
   ],
   "source": [
    "obj._A__value #all it does is change the name "
   ]
  },
  {
   "cell_type": "code",
   "execution_count": null,
   "id": "1ae68c57-a984-465e-9df0-fa69aae45c88",
   "metadata": {},
   "outputs": [],
   "source": [
    "#scoping - LEGB Local Enclosed Global Built-in"
   ]
  },
  {
   "cell_type": "code",
   "execution_count": 114,
   "id": "929fa4fb-8a22-4346-8e0e-3748189f6191",
   "metadata": {},
   "outputs": [],
   "source": [
    "x=50\n",
    "def a():\n",
    "    x=10\n",
    "    def b():\n",
    "        x=34\n",
    "        print(\"value for x is\", x)\n",
    "        \n",
    "    print(\"value for x is\", x)\n",
    "    return b()"
   ]
  },
  {
   "cell_type": "code",
   "execution_count": 116,
   "id": "6f094fde-975a-41cb-8de2-c20b1f677502",
   "metadata": {},
   "outputs": [
    {
     "name": "stdout",
     "output_type": "stream",
     "text": [
      "value for x is 10\n",
      "value for x is 34\n"
     ]
    }
   ],
   "source": [
    "a()\n"
   ]
  },
  {
   "cell_type": "code",
   "execution_count": 117,
   "id": "63378eea-0f0c-4834-a5bf-6541bf6e0f9e",
   "metadata": {},
   "outputs": [],
   "source": [
    "x=50\n",
    "def a():\n",
    "    x=10\n",
    "    def b():\n",
    "        #x=34\n",
    "        print(\"value for x is\", x)\n",
    "    print(\"value for x is\", x)\n",
    "    return b()"
   ]
  },
  {
   "cell_type": "code",
   "execution_count": 118,
   "id": "7ba683f5-155c-473e-8e08-8befc0ddeca6",
   "metadata": {},
   "outputs": [
    {
     "name": "stdout",
     "output_type": "stream",
     "text": [
      "value for x is 10\n",
      "value for x is 10\n"
     ]
    }
   ],
   "source": [
    "a()"
   ]
  },
  {
   "cell_type": "code",
   "execution_count": 119,
   "id": "9e9fcf11-cad0-46bf-b099-d74b23ac3b64",
   "metadata": {},
   "outputs": [],
   "source": [
    "x=50\n",
    "def a():\n",
    "    #x=10\n",
    "    def b():\n",
    "        #x=34\n",
    "        print(\"value for x is\", x)\n",
    "    print(\"value for x is\", x)\n",
    "    return b()"
   ]
  },
  {
   "cell_type": "code",
   "execution_count": 120,
   "id": "df74d0ae-7c5e-41e2-9b78-fea4defe6652",
   "metadata": {},
   "outputs": [
    {
     "name": "stdout",
     "output_type": "stream",
     "text": [
      "value for x is 50\n",
      "value for x is 50\n"
     ]
    }
   ],
   "source": [
    "a()"
   ]
  },
  {
   "cell_type": "code",
   "execution_count": 132,
   "id": "47169cfb-e1b3-465b-b4cc-a8c44d916aec",
   "metadata": {},
   "outputs": [],
   "source": [
    "x=50\n",
    "def a():\n",
    "    x=10\n",
    "    def b():\n",
    "        global x\n",
    "        x+=20\n",
    "        print(\"value for x is\", x)\n",
    "    print(\"value for x is\", x)\n",
    "    return b()"
   ]
  },
  {
   "cell_type": "code",
   "execution_count": 133,
   "id": "3e6a6dfd-0f56-45be-822e-7fa436b4b3bd",
   "metadata": {},
   "outputs": [
    {
     "name": "stdout",
     "output_type": "stream",
     "text": [
      "value for x is 10\n",
      "value for x is 70\n"
     ]
    }
   ],
   "source": [
    "a()"
   ]
  },
  {
   "cell_type": "code",
   "execution_count": 134,
   "id": "adc99828-7946-4013-a352-6daa89b65116",
   "metadata": {},
   "outputs": [],
   "source": [
    "x=50\n",
    "def a():\n",
    "    x=10\n",
    "    def b():\n",
    "        nonlocal x\n",
    "        x+=20\n",
    "        print(\"value for x is\", x)\n",
    "    print(\"value for x is\", x)\n",
    "    return b()"
   ]
  },
  {
   "cell_type": "code",
   "execution_count": 135,
   "id": "30b6785c-43a5-4834-880b-9f8b7f10ed74",
   "metadata": {},
   "outputs": [
    {
     "name": "stdout",
     "output_type": "stream",
     "text": [
      "value for x is 10\n",
      "value for x is 30\n"
     ]
    }
   ],
   "source": [
    "a()"
   ]
  },
  {
   "cell_type": "code",
   "execution_count": null,
   "id": "5940f907-1f78-4c21-9231-7b08156f829e",
   "metadata": {},
   "outputs": [],
   "source": [
    "#closure"
   ]
  },
  {
   "cell_type": "code",
   "execution_count": 136,
   "id": "7dcaf06f-510c-453d-a0e6-0116e8ee8974",
   "metadata": {},
   "outputs": [],
   "source": [
    "def outer_func():\n",
    "    message=\"hi\" #message ka scope khatam hogya\n",
    "    \n",
    "    def inner_func():\n",
    "        print(locals())\n",
    "        print(message) #free variable but idhar copy ban rakhi hai\n",
    "        \n",
    "    return inner_func"
   ]
  },
  {
   "cell_type": "code",
   "execution_count": 137,
   "id": "3baca327-4e57-4ab6-a19c-164188f2faee",
   "metadata": {},
   "outputs": [
    {
     "name": "stdout",
     "output_type": "stream",
     "text": [
      "{'message': 'hi'}\n",
      "hi\n"
     ]
    }
   ],
   "source": [
    "me=outer_func()\n",
    "me()"
   ]
  }
 ],
 "metadata": {
  "kernelspec": {
   "display_name": "Python 3",
   "language": "python",
   "name": "python3"
  },
  "language_info": {
   "codemirror_mode": {
    "name": "ipython",
    "version": 3
   },
   "file_extension": ".py",
   "mimetype": "text/x-python",
   "name": "python",
   "nbconvert_exporter": "python",
   "pygments_lexer": "ipython3",
   "version": "3.8.8"
  }
 },
 "nbformat": 4,
 "nbformat_minor": 5
}
