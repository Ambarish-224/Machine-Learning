{
 "cells": [
  {
   "cell_type": "code",
   "execution_count": 1,
   "id": "cfabf347-70d8-45c9-828c-b48f96dbb62d",
   "metadata": {},
   "outputs": [],
   "source": [
    "x=[1,2,3]"
   ]
  },
  {
   "cell_type": "code",
   "execution_count": 2,
   "id": "45b7bca1-1a87-4657-90dc-ec46a6217887",
   "metadata": {},
   "outputs": [],
   "source": [
    "x_iter=iter(x)"
   ]
  },
  {
   "cell_type": "code",
   "execution_count": 3,
   "id": "152f4cac-8e3b-4ea0-9f39-564b2856564e",
   "metadata": {},
   "outputs": [
    {
     "data": {
      "text/plain": [
       "<list_iterator at 0x29698e0d220>"
      ]
     },
     "execution_count": 3,
     "metadata": {},
     "output_type": "execute_result"
    }
   ],
   "source": [
    "x_iter"
   ]
  },
  {
   "cell_type": "code",
   "execution_count": 4,
   "id": "aa4808af-2b91-41a1-bc59-007fed9d233f",
   "metadata": {},
   "outputs": [
    {
     "data": {
      "text/plain": [
       "1"
      ]
     },
     "execution_count": 4,
     "metadata": {},
     "output_type": "execute_result"
    }
   ],
   "source": [
    "next(x_iter)"
   ]
  },
  {
   "cell_type": "code",
   "execution_count": 5,
   "id": "fbc3222c-091a-4772-b762-4381b31d8877",
   "metadata": {},
   "outputs": [],
   "source": [
    "#its both iterator and iterable\n",
    "class yrange:\n",
    "    #n is the no upto which i want the range\n",
    "    def __init__(self,n):\n",
    "        self.i=0\n",
    "        self.n=n\n",
    "        \n",
    "    #this method makes our class iterable\n",
    "    def __iter__(self):\n",
    "        return self\n",
    "    \n",
    "    #this method should be implemented by the Iterator\n",
    "    def __next__(self):\n",
    "        if self.i <self.n:\n",
    "            i=self.i\n",
    "            self.i+=1\n",
    "            return i\n",
    "        else:\n",
    "            raise StopIteration()\n",
    "         \n",
    "    "
   ]
  },
  {
   "cell_type": "code",
   "execution_count": 6,
   "id": "220d11cc-8d77-4f55-9130-81db38736a6c",
   "metadata": {},
   "outputs": [
    {
     "name": "stdout",
     "output_type": "stream",
     "text": [
      "0\n",
      "1\n",
      "2\n",
      "3\n",
      "4\n"
     ]
    }
   ],
   "source": [
    "for x in yrange(5):\n",
    "    print(x)"
   ]
  },
  {
   "cell_type": "code",
   "execution_count": 13,
   "id": "0bd58a7c-0990-42c8-a2ff-f8066f24e28e",
   "metadata": {},
   "outputs": [],
   "source": [
    "y=yrange(5)"
   ]
  },
  {
   "cell_type": "code",
   "execution_count": 14,
   "id": "1f337087-bbbc-46fd-baf5-f0a7bcf109f2",
   "metadata": {},
   "outputs": [
    {
     "data": {
      "text/plain": [
       "[0, 1, 2, 3, 4]"
      ]
     },
     "execution_count": 14,
     "metadata": {},
     "output_type": "execute_result"
    }
   ],
   "source": [
    "list(y)"
   ]
  },
  {
   "cell_type": "code",
   "execution_count": 15,
   "id": "b2978a30-ba44-4e7d-9332-274f0b5f13be",
   "metadata": {},
   "outputs": [
    {
     "data": {
      "text/plain": [
       "[]"
      ]
     },
     "execution_count": 15,
     "metadata": {},
     "output_type": "execute_result"
    }
   ],
   "source": [
    "list(y) #can't be repeated"
   ]
  },
  {
   "cell_type": "code",
   "execution_count": 7,
   "id": "ee9e1ba2-987a-4705-bdbd-409f46cdb34a",
   "metadata": {},
   "outputs": [],
   "source": [
    "#iterable and iterator are different\n",
    "class zrange:\n",
    "    #n is the no upto which i want the range\n",
    "    def __init__(self,n):\n",
    "        self.n=n\n",
    "        \n",
    "    #this method makes our class iterable\n",
    "    def __iter__(self):\n",
    "        return zrange_iter(self.n)\n",
    "    \n",
    "class zrange_iter:\n",
    "    def __init__(self,n):\n",
    "        self.i=0\n",
    "        self.n=n\n",
    "    \n",
    "    def __iter__(self):\n",
    "        return self\n",
    "    \n",
    "    def __next__(self):\n",
    "        if self.i<self.n:\n",
    "            i=self.i\n",
    "            self.i+=1\n",
    "            return i\n",
    "        else:\n",
    "            raise StopIteration()"
   ]
  },
  {
   "cell_type": "code",
   "execution_count": 8,
   "id": "db00a72f-3d35-4e89-8068-a9cb6ea30152",
   "metadata": {},
   "outputs": [
    {
     "name": "stdout",
     "output_type": "stream",
     "text": [
      "0\n",
      "1\n",
      "4\n",
      "9\n",
      "16\n"
     ]
    }
   ],
   "source": [
    "for x in zrange(5):\n",
    "    print(x**2)"
   ]
  },
  {
   "cell_type": "code",
   "execution_count": 9,
   "id": "5a11b417-f69e-4137-a958-324089b4207a",
   "metadata": {},
   "outputs": [],
   "source": [
    "z=zrange(10)"
   ]
  },
  {
   "cell_type": "code",
   "execution_count": 11,
   "id": "72e6a04a-6b27-46d1-8e66-bb497122de93",
   "metadata": {},
   "outputs": [
    {
     "data": {
      "text/plain": [
       "[0, 1, 2, 3, 4, 5, 6, 7, 8, 9]"
      ]
     },
     "execution_count": 11,
     "metadata": {},
     "output_type": "execute_result"
    }
   ],
   "source": [
    "list(z)"
   ]
  },
  {
   "cell_type": "code",
   "execution_count": 12,
   "id": "7afa7d86-4047-4702-99fb-f6c770e4b585",
   "metadata": {},
   "outputs": [
    {
     "data": {
      "text/plain": [
       "[0, 1, 2, 3, 4, 5, 6, 7, 8, 9]"
      ]
     },
     "execution_count": 12,
     "metadata": {},
     "output_type": "execute_result"
    }
   ],
   "source": [
    "list(z)"
   ]
  },
  {
   "cell_type": "markdown",
   "id": "c7d2253c-4559-4363-9152-725679221812",
   "metadata": {},
   "source": [
    "## Iterators"
   ]
  },
  {
   "cell_type": "code",
   "execution_count": 16,
   "id": "25b268c6-1d1d-4114-82c2-afd2d732b882",
   "metadata": {},
   "outputs": [
    {
     "name": "stdout",
     "output_type": "stream",
     "text": [
      "1\n",
      "4\n",
      "9\n",
      "16\n"
     ]
    }
   ],
   "source": [
    "a=[1,2,3,4]\n",
    "for x in a:\n",
    "    print(x**2)"
   ]
  },
  {
   "cell_type": "code",
   "execution_count": 17,
   "id": "6062352a-b2e1-493b-b7a1-e30ae56e690c",
   "metadata": {},
   "outputs": [
    {
     "name": "stdout",
     "output_type": "stream",
     "text": [
      "V\n",
      "a\n",
      "n\n",
      "s\n",
      "h\n",
      "i\n",
      "k\n",
      "a\n"
     ]
    }
   ],
   "source": [
    "name=\"Vanshika\"\n",
    "for char in name:\n",
    "    print(char)"
   ]
  },
  {
   "cell_type": "code",
   "execution_count": 19,
   "id": "b434d145-e964-46d0-b980-3b33c3e3716d",
   "metadata": {},
   "outputs": [
    {
     "name": "stdout",
     "output_type": "stream",
     "text": [
      "name\n",
      "age\n",
      "marks\n"
     ]
    }
   ],
   "source": [
    "d={\n",
    "    \"name\":\"Vanshika\",\n",
    "    \"age\":19,\n",
    "    \"marks\":90\n",
    "}\n",
    "for x in d:\n",
    "    print(x)"
   ]
  },
  {
   "cell_type": "code",
   "execution_count": 20,
   "id": "57d8db56-f74c-4811-82e0-ebd5e7951f82",
   "metadata": {},
   "outputs": [
    {
     "name": "stdout",
     "output_type": "stream",
     "text": [
      "hello once\n",
      "\n",
      "hello twice\n",
      "\n",
      "hello thrice\n"
     ]
    }
   ],
   "source": [
    "for line in open(\"hello.txt\",\"r\"):\n",
    "    print(line)"
   ]
  },
  {
   "cell_type": "code",
   "execution_count": 21,
   "id": "711929a3-a236-4dd8-9d4c-fc446099acd1",
   "metadata": {},
   "outputs": [
    {
     "data": {
      "text/plain": [
       "'a==b==c'"
      ]
     },
     "execution_count": 21,
     "metadata": {},
     "output_type": "execute_result"
    }
   ],
   "source": [
    "\"==\".join([\"a\",\"b\",\"c\"])"
   ]
  },
  {
   "cell_type": "code",
   "execution_count": 22,
   "id": "a9794356-caff-4747-b3c5-81ba4a1eb789",
   "metadata": {},
   "outputs": [
    {
     "data": {
      "text/plain": [
       "'name==age==marks'"
      ]
     },
     "execution_count": 22,
     "metadata": {},
     "output_type": "execute_result"
    }
   ],
   "source": [
    "\"==\".join(d)"
   ]
  },
  {
   "cell_type": "code",
   "execution_count": 23,
   "id": "f8053d42-c62a-4e6c-97e4-ae92c74764a0",
   "metadata": {},
   "outputs": [],
   "source": [
    "a=list(\"Vanshika\")"
   ]
  },
  {
   "cell_type": "code",
   "execution_count": 24,
   "id": "ada4eedd-b2ad-4a85-a264-9ccbf769da07",
   "metadata": {},
   "outputs": [
    {
     "name": "stdout",
     "output_type": "stream",
     "text": [
      "['V', 'a', 'n', 's', 'h', 'i', 'k', 'a']\n"
     ]
    }
   ],
   "source": [
    "print(a)"
   ]
  },
  {
   "cell_type": "code",
   "execution_count": 25,
   "id": "30cb87f3-0e79-4c23-a66e-091eecff1cbe",
   "metadata": {},
   "outputs": [],
   "source": [
    "b={1:\"vanshika\", 2:\"aryan\", 3:\"vinay\"}"
   ]
  },
  {
   "cell_type": "code",
   "execution_count": 26,
   "id": "d898e106-1708-4f30-97b2-fb7227792c4b",
   "metadata": {},
   "outputs": [
    {
     "data": {
      "text/plain": [
       "6"
      ]
     },
     "execution_count": 26,
     "metadata": {},
     "output_type": "execute_result"
    }
   ],
   "source": [
    "sum(b)"
   ]
  },
  {
   "cell_type": "markdown",
   "id": "6d3413e8-2538-467d-abeb-171778233677",
   "metadata": {},
   "source": [
    "### Generators:-\n",
    "fnx used to create iterator"
   ]
  },
  {
   "cell_type": "code",
   "execution_count": 27,
   "id": "c13f7eb1-af80-4e28-87ec-f90120af0efd",
   "metadata": {},
   "outputs": [],
   "source": [
    "#normal progra\n",
    "class fib:\n",
    "    def __init__(self):\n",
    "        self.prev=0\n",
    "        self.curr=1\n",
    "    \n",
    "    def __iter__(self):\n",
    "        return self\n",
    "    \n",
    "    def __next__(self):\n",
    "        value=self.curr\n",
    "        self.curr+=self.prev\n",
    "        self.prev=value\n",
    "        return value"
   ]
  },
  {
   "cell_type": "code",
   "execution_count": 28,
   "id": "9bb40d6a-f169-4c88-b8e5-608740f1f65a",
   "metadata": {},
   "outputs": [],
   "source": [
    "f=iter(fib())"
   ]
  },
  {
   "cell_type": "code",
   "execution_count": 31,
   "id": "2903137a-cc78-4c90-87ba-ef5d8cf43e37",
   "metadata": {},
   "outputs": [
    {
     "data": {
      "text/plain": [
       "2"
      ]
     },
     "execution_count": 31,
     "metadata": {},
     "output_type": "execute_result"
    }
   ],
   "source": [
    "next(f)"
   ]
  },
  {
   "cell_type": "code",
   "execution_count": 36,
   "id": "3fc00914-88db-4b6f-99a5-1b81e8383309",
   "metadata": {},
   "outputs": [],
   "source": [
    "#using generator\n",
    "def fib():\n",
    "    prev,curr=0,1\n",
    "    while True:\n",
    "        yield curr\n",
    "        prev,curr=curr,prev+curr"
   ]
  },
  {
   "cell_type": "code",
   "execution_count": 37,
   "id": "fb447732-01d1-4338-aca8-184f085a0710",
   "metadata": {},
   "outputs": [],
   "source": [
    "gen=fib()"
   ]
  },
  {
   "cell_type": "code",
   "execution_count": 40,
   "id": "bb018616-b822-42be-837f-b0eb963dbc25",
   "metadata": {},
   "outputs": [
    {
     "data": {
      "text/plain": [
       "2"
      ]
     },
     "execution_count": 40,
     "metadata": {},
     "output_type": "execute_result"
    }
   ],
   "source": [
    "next(gen)"
   ]
  }
 ],
 "metadata": {
  "kernelspec": {
   "display_name": "Python 3",
   "language": "python",
   "name": "python3"
  },
  "language_info": {
   "codemirror_mode": {
    "name": "ipython",
    "version": 3
   },
   "file_extension": ".py",
   "mimetype": "text/x-python",
   "name": "python",
   "nbconvert_exporter": "python",
   "pygments_lexer": "ipython3",
   "version": "3.8.8"
  }
 },
 "nbformat": 4,
 "nbformat_minor": 5
}
