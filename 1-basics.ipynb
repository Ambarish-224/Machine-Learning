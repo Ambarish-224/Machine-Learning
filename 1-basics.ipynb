{
 "cells": [
  {
   "cell_type": "markdown",
   "id": "a9907b92-df54-4f6f-a1df-537d2ea9f3e9",
   "metadata": {},
   "source": [
    "Theory:-\n",
    "    - Three types:- markup(HTML,XML,YAML), Scripting(JS,Perl),Programming language(python,java,c++ etc)\n",
    "    \n",
    "    - In Dynamic languages typecheck happens at run time whereas in Static languages is occurs at compile time\n",
    "    \n",
    "    - a(reference variable in stack)=10(object in heap)\n",
    "    \n",
    "    - if a new object is created with the same ref variable, the reference variable starts pointing to the new object and the previous one is cleared by the garbage collection\n",
    "    \n",
    "    - In strictly typed languages like python typecheck is strictly enforced whereas in loosely typed its not.\n",
    "    \n",
    "    -Data types are of two types- mutable(list,set,dictionaries) and immutable(tuple)\n",
    "    \n",
    "    - In python 0 means false, any other number means true. Empty lists,tuples etc are also considered false.\n",
    "    \n",
    "    - In python blocks are identified using indentations"
   ]
  },
  {
   "cell_type": "markdown",
   "id": "04168881-a86e-4cfb-a735-17b75718fa04",
   "metadata": {},
   "source": [
    "a=10\n",
    "a"
   ]
  },
  {
   "cell_type": "code",
   "execution_count": 79,
   "id": "4b6e9774-8268-4a34-96a0-1310e9bd131a",
   "metadata": {},
   "outputs": [
    {
     "data": {
      "text/plain": [
       "True"
      ]
     },
     "execution_count": 79,
     "metadata": {},
     "output_type": "execute_result"
    }
   ],
   "source": [
    "isinstance(a,object)  #everything is an object in python"
   ]
  },
  {
   "cell_type": "code",
   "execution_count": 80,
   "id": "81b82c84-871d-44b8-86a4-855ebabc5cc0",
   "metadata": {},
   "outputs": [
    {
     "data": {
      "text/plain": [
       "'vanshika'"
      ]
     },
     "execution_count": 80,
     "metadata": {},
     "output_type": "execute_result"
    }
   ],
   "source": [
    "a=\"vanshika\"  #shows dynamic allocation\n",
    "a"
   ]
  },
  {
   "cell_type": "code",
   "execution_count": 5,
   "id": "4a767704-6b98-482e-9739-ae8f2c42f044",
   "metadata": {},
   "outputs": [
    {
     "data": {
      "text/plain": [
       "False"
      ]
     },
     "execution_count": 5,
     "metadata": {},
     "output_type": "execute_result"
    }
   ],
   "source": [
    "a=100000    #points to diff objects\n",
    "b=100000\n",
    "a is b"
   ]
  },
  {
   "cell_type": "code",
   "execution_count": 6,
   "id": "de26f34c-aaca-4ea9-a729-3b62719d509e",
   "metadata": {},
   "outputs": [
    {
     "data": {
      "text/plain": [
       "True"
      ]
     },
     "execution_count": 6,
     "metadata": {},
     "output_type": "execute_result"
    }
   ],
   "source": [
    "a=10        #points to same object  -6 to 256 is reserved in python for better memory management\n",
    "b=10\n",
    "a is b"
   ]
  },
  {
   "cell_type": "code",
   "execution_count": 7,
   "id": "4e64019b-6313-46cd-8e93-8362fbaf0dfa",
   "metadata": {},
   "outputs": [
    {
     "data": {
      "text/plain": [
       "int"
      ]
     },
     "execution_count": 7,
     "metadata": {},
     "output_type": "execute_result"
    }
   ],
   "source": [
    "a=2**33    #size of int is same as size of RAM of computer hence python is slow\n",
    "type(a)"
   ]
  },
  {
   "cell_type": "code",
   "execution_count": 1,
   "id": "ed4c6d07-7884-4286-9973-a3ffd16c5175",
   "metadata": {},
   "outputs": [],
   "source": [
    "my_str='Vanshika123'"
   ]
  },
  {
   "cell_type": "code",
   "execution_count": 5,
   "id": "360c23c5-304c-4304-b948-23fd96ca1a65",
   "metadata": {},
   "outputs": [
    {
     "name": "stdout",
     "output_type": "stream",
     "text": [
      "11\n"
     ]
    },
    {
     "data": {
      "text/plain": [
       "True"
      ]
     },
     "execution_count": 5,
     "metadata": {},
     "output_type": "execute_result"
    }
   ],
   "source": [
    "print(len(my_str))\n",
    "my_str.istitle()"
   ]
  },
  {
   "cell_type": "code",
   "execution_count": 3,
   "id": "bce5ff3d-a906-453e-b7c9-e5ff71d0a486",
   "metadata": {},
   "outputs": [
    {
     "name": "stdout",
     "output_type": "stream",
     "text": [
      "True\n",
      "False\n",
      "False\n",
      "True\n",
      "False\n",
      "False\n",
      "False\n",
      "True\n",
      "False\n"
     ]
    }
   ],
   "source": [
    "print(my_str.isalnum()) #check if all char are numbers and alphabets\n",
    "print(my_str.isalpha()) #check if all char in the string are alphabetic\n",
    "print(my_str.isdigit()) #test if string has only digits\n",
    "print(my_str.istitle()) #test if string contains title words\n",
    "print(my_str.isupper()) #test if string contains upper case\n",
    "print(my_str.islower()) #test if string contains lower case\n",
    "print(my_str.isspace()) #test if string contains spaces\n",
    "print(my_str.endswith('3')) #test if string endswith a 3\n",
    "print(my_str.startswith('A')) #test if string startswith A"
   ]
  },
  {
   "cell_type": "code",
   "execution_count": 82,
   "id": "8808050e-ba2d-4816-a0e5-ff0280e2b933",
   "metadata": {},
   "outputs": [
    {
     "data": {
      "text/plain": [
       "True"
      ]
     },
     "execution_count": 82,
     "metadata": {},
     "output_type": "execute_result"
    }
   ],
   "source": [
    "a=[2,34,56.2,\"vanshika\"]\n",
    "isinstance(a,object)   # shows list is an object too"
   ]
  },
  {
   "cell_type": "code",
   "execution_count": 83,
   "id": "bc72e44d-ad34-44a8-a18d-0a94157da741",
   "metadata": {},
   "outputs": [
    {
     "data": {
      "text/plain": [
       "34"
      ]
     },
     "execution_count": 83,
     "metadata": {},
     "output_type": "execute_result"
    }
   ],
   "source": [
    "a[1]"
   ]
  },
  {
   "cell_type": "code",
   "execution_count": 9,
   "id": "f0b6bcbd-b7d8-490b-98e8-52a2573143ee",
   "metadata": {},
   "outputs": [
    {
     "data": {
      "text/plain": [
       "56.2"
      ]
     },
     "execution_count": 9,
     "metadata": {},
     "output_type": "execute_result"
    }
   ],
   "source": [
    "a[-2]  # gives me 2nd elemenet from behind"
   ]
  },
  {
   "cell_type": "code",
   "execution_count": 39,
   "id": "4a1c11cd-7290-4e8f-814f-f09c086a3548",
   "metadata": {},
   "outputs": [],
   "source": [
    "lst=['Mathematics', 'chemistry', 100, 200, 300, 204]"
   ]
  },
  {
   "cell_type": "code",
   "execution_count": 40,
   "id": "01702876-481c-44ca-85b8-025c5fd91c6d",
   "metadata": {},
   "outputs": [],
   "source": [
    "lst.append(\"Vanshika\") #adds at end"
   ]
  },
  {
   "cell_type": "code",
   "execution_count": 41,
   "id": "0489ab32-72d4-437b-905e-1e6774577f59",
   "metadata": {},
   "outputs": [
    {
     "data": {
      "text/plain": [
       "['Mathematics', 'chemistry', 100, 200, 300, 204, 'Vanshika', ['John', 'Bala']]"
      ]
     },
     "execution_count": 41,
     "metadata": {},
     "output_type": "execute_result"
    }
   ],
   "source": [
    "lst.append([\"John\",\"Bala\"]) #adds as a list at the end\n",
    "lst"
   ]
  },
  {
   "cell_type": "code",
   "execution_count": 42,
   "id": "84706a0f-27e5-41e1-8c42-7eae8ca31420",
   "metadata": {},
   "outputs": [
    {
     "data": {
      "text/plain": [
       "['chemistry', 100, 200, 300, 204]"
      ]
     },
     "execution_count": 42,
     "metadata": {},
     "output_type": "execute_result"
    }
   ],
   "source": [
    "lst[1:6]"
   ]
  },
  {
   "cell_type": "code",
   "execution_count": 43,
   "id": "17c01c7d-06dc-47c1-988b-b17d52ce2763",
   "metadata": {},
   "outputs": [
    {
     "data": {
      "text/plain": [
       "['Mathematics',\n",
       " 'chemistry',\n",
       " 'Tom',\n",
       " 100,\n",
       " 200,\n",
       " 300,\n",
       " 204,\n",
       " 'Vanshika',\n",
       " ['John', 'Bala']]"
      ]
     },
     "execution_count": 43,
     "metadata": {},
     "output_type": "execute_result"
    }
   ],
   "source": [
    "lst.insert(2,\"Tom\")\n",
    "lst"
   ]
  },
  {
   "cell_type": "code",
   "execution_count": 44,
   "id": "07c24a5a-e8d0-4520-bd76-0ec46d038deb",
   "metadata": {},
   "outputs": [
    {
     "data": {
      "text/plain": [
       "['Mathematics',\n",
       " 'chemistry',\n",
       " 'Tom',\n",
       " 100,\n",
       " 200,\n",
       " 300,\n",
       " 204,\n",
       " 'Vanshika',\n",
       " ['John', 'Bala'],\n",
       " 8,\n",
       " 9]"
      ]
     },
     "execution_count": 44,
     "metadata": {},
     "output_type": "execute_result"
    }
   ],
   "source": [
    "lst.extend([8,9]) #adds content to list \n",
    "lst"
   ]
  },
  {
   "cell_type": "code",
   "execution_count": 45,
   "id": "b9ebaa6c-e2a1-400c-a1f1-76bf59f3edfa",
   "metadata": {},
   "outputs": [
    {
     "data": {
      "text/plain": [
       "['Mathematics',\n",
       " 'chemistry',\n",
       " 100,\n",
       " 200,\n",
       " 300,\n",
       " 204,\n",
       " 'Vanshika',\n",
       " ['John', 'Bala'],\n",
       " 8,\n",
       " 9]"
      ]
     },
     "execution_count": 45,
     "metadata": {},
     "output_type": "execute_result"
    }
   ],
   "source": [
    "lst.remove(\"Tom\")\n",
    "lst"
   ]
  },
  {
   "cell_type": "code",
   "execution_count": 22,
   "id": "cf8ed6eb-ccdb-44b5-9c28-f75105d2b302",
   "metadata": {},
   "outputs": [],
   "source": [
    "A=[23,34,56]\n",
    "B=A\n",
    "B[1]=100"
   ]
  },
  {
   "cell_type": "code",
   "execution_count": 23,
   "id": "9455005a-121f-4b4a-8508-c47d6785b462",
   "metadata": {},
   "outputs": [
    {
     "data": {
      "text/plain": [
       "[23, 100, 56]"
      ]
     },
     "execution_count": 23,
     "metadata": {},
     "output_type": "execute_result"
    }
   ],
   "source": [
    "A  # as they point to the same object, changes made will show in both"
   ]
  },
  {
   "cell_type": "code",
   "execution_count": 24,
   "id": "208fa6d1-f8a2-4c98-8dae-e431c6f33394",
   "metadata": {},
   "outputs": [
    {
     "data": {
      "text/plain": [
       "[23.53, 100, 78]"
      ]
     },
     "execution_count": 24,
     "metadata": {},
     "output_type": "execute_result"
    }
   ],
   "source": [
    "C=[23.53,356,78]\n",
    "B=C\n",
    "B[1]=100\n",
    "C"
   ]
  },
  {
   "cell_type": "code",
   "execution_count": 46,
   "id": "920fdbab-ffd7-4378-91f5-1042fb47025c",
   "metadata": {},
   "outputs": [
    {
     "name": "stdout",
     "output_type": "stream",
     "text": [
      "3\n",
      "1\n",
      "6\n"
     ]
    }
   ],
   "source": [
    "lst=[1,2,3,4,4,4,4,5,6,6,6]\n",
    "print(lst.index(4,1,6)) #no.to find: start: end \n",
    "print(min(lst))\n",
    "print(max(lst))"
   ]
  },
  {
   "cell_type": "code",
   "execution_count": 20,
   "id": "deef317e-31ef-4bc4-a1a3-3b6dd4f4c2ef",
   "metadata": {},
   "outputs": [
    {
     "data": {
      "text/plain": [
       "[1, 2, 3, 4, 4, 4, 4, 5, 6, 6, 6, 1, 2, 3, 4, 4, 4, 4, 5, 6, 6, 6]"
      ]
     },
     "execution_count": 20,
     "metadata": {},
     "output_type": "execute_result"
    }
   ],
   "source": [
    "lst*2"
   ]
  },
  {
   "cell_type": "code",
   "execution_count": 24,
   "id": "d98d9ba4-dcc7-4ac6-8f3b-86a905cabf68",
   "metadata": {},
   "outputs": [
    {
     "data": {
      "text/plain": [
       "{1, 2, 3, 4}"
      ]
     },
     "execution_count": 24,
     "metadata": {},
     "output_type": "execute_result"
    }
   ],
   "source": [
    "a={2,1,2,3,4,2}\n",
    "a  #no repeats shown,unordered pairs, based on hash table,doesnt support indexing"
   ]
  },
  {
   "cell_type": "code",
   "execution_count": 26,
   "id": "4ab799d4-50b7-42dc-8cdb-1f72a54bdca7",
   "metadata": {},
   "outputs": [
    {
     "data": {
      "text/plain": [
       "{1, 2, 3, 4, 9}"
      ]
     },
     "execution_count": 26,
     "metadata": {},
     "output_type": "execute_result"
    }
   ],
   "source": [
    "a.add(9)\n",
    "a"
   ]
  },
  {
   "cell_type": "code",
   "execution_count": 31,
   "id": "0f4d2110-b15b-436b-8468-f373342c289c",
   "metadata": {},
   "outputs": [
    {
     "data": {
      "text/plain": [
       "[9, 8, 7, 6, 5, 4, 3, 2, 1]"
      ]
     },
     "execution_count": 31,
     "metadata": {},
     "output_type": "execute_result"
    }
   ],
   "source": [
    "a=[1,2,3,4,5,6,7,8,9]\n",
    "a[-1::-1] #start:stop:step"
   ]
  },
  {
   "cell_type": "code",
   "execution_count": 33,
   "id": "91668154-3c3f-411b-b52c-138c273659b7",
   "metadata": {},
   "outputs": [
    {
     "name": "stdout",
     "output_type": "stream",
     "text": [
      "woah\n"
     ]
    }
   ],
   "source": [
    "if (2,3):\n",
    "    print(\"woah\")"
   ]
  },
  {
   "cell_type": "code",
   "execution_count": 34,
   "id": "51e19616-43d6-45c8-8468-2c5f58ffa241",
   "metadata": {
    "tags": []
   },
   "outputs": [
    {
     "name": "stdout",
     "output_type": "stream",
     "text": [
      "2\n",
      "4\n",
      "2\n",
      "5\n",
      "7\n",
      "2\n",
      "8\n",
      "4\n"
     ]
    }
   ],
   "source": [
    "b=[2,4,2,5,7,2,8,4]\n",
    "for x in b:\n",
    "    print(x)   #iterationg through list items"
   ]
  },
  {
   "cell_type": "code",
   "execution_count": 37,
   "id": "c75879de-53b1-42cb-8f58-99b698004ef0",
   "metadata": {},
   "outputs": [
    {
     "name": "stdout",
     "output_type": "stream",
     "text": [
      "0 2\n",
      "1 4\n",
      "2 2\n",
      "3 5\n",
      "4 7\n",
      "5 2\n",
      "6 8\n",
      "7 4\n"
     ]
    }
   ],
   "source": [
    "for index,ch in enumerate(b):  #iterating through list using indexes\n",
    "    print(index,ch) # can be replaced as ch=b[index]"
   ]
  },
  {
   "cell_type": "code",
   "execution_count": 38,
   "id": "e336c601-4f23-4fe5-a104-299744503030",
   "metadata": {},
   "outputs": [
    {
     "name": "stdout",
     "output_type": "stream",
     "text": [
      "10 20\n",
      "20 10\n"
     ]
    }
   ],
   "source": [
    "a=10\n",
    "b=20\n",
    "print(a,b)\n",
    "a,b=b,a\n",
    "print(a,b)\n"
   ]
  },
  {
   "cell_type": "code",
   "execution_count": 40,
   "id": "a2996eac-c690-4e60-a98e-5cd72a77f43c",
   "metadata": {},
   "outputs": [
    {
     "name": "stdout",
     "output_type": "stream",
     "text": [
      "5\n",
      "4\n",
      "3\n",
      "2\n",
      "1\n"
     ]
    }
   ],
   "source": [
    "a=5\n",
    "while a>0:\n",
    "    print(a)\n",
    "    a=a-1"
   ]
  },
  {
   "cell_type": "code",
   "execution_count": 41,
   "id": "cdaebcdd-7409-4cbc-af14-226a0a30d895",
   "metadata": {},
   "outputs": [
    {
     "name": "stdout",
     "output_type": "stream",
     "text": [
      "1\n",
      "3\n",
      "5\n",
      "7\n",
      "9\n"
     ]
    }
   ],
   "source": [
    "for num in range(1,10,2):\n",
    "    print(num)\n"
   ]
  },
  {
   "cell_type": "code",
   "execution_count": 42,
   "id": "e2e32aa3-6067-4828-ab49-4f4d841585e9",
   "metadata": {},
   "outputs": [
    {
     "data": {
      "text/plain": [
       "[1, 2, 3, 4, 5]"
      ]
     },
     "execution_count": 42,
     "metadata": {},
     "output_type": "execute_result"
    }
   ],
   "source": [
    "a=[i for i in range(1,6)]    #list of first 5 natural no.s\n",
    "a"
   ]
  },
  {
   "cell_type": "code",
   "execution_count": 43,
   "id": "4d708c48-d1f8-44c9-9d12-36a6fe62304b",
   "metadata": {},
   "outputs": [
    {
     "data": {
      "text/plain": [
       "[2, 4, 6, 8, 10, 12, 14, 16, 18, 20]"
      ]
     },
     "execution_count": 43,
     "metadata": {},
     "output_type": "execute_result"
    }
   ],
   "source": [
    "t=[2*i for i in range(1,11)]   #table of 2\n",
    "t"
   ]
  },
  {
   "cell_type": "code",
   "execution_count": 47,
   "id": "59d9758a-6137-4f16-b6b1-4358c555817f",
   "metadata": {},
   "outputs": [
    {
     "data": {
      "text/plain": [
       "[[1, 2, 3, 4, 5, 6, 7, 8, 9, 10],\n",
       " [2, 4, 6, 8, 10, 12, 14, 16, 18, 20],\n",
       " [3, 6, 9, 12, 15, 18, 21, 24, 27, 30],\n",
       " [4, 8, 12, 16, 20, 24, 28, 32, 36, 40],\n",
       " [5, 10, 15, 20, 25, 30, 35, 40, 45, 50],\n",
       " [6, 12, 18, 24, 30, 36, 42, 48, 54, 60],\n",
       " [7, 14, 21, 28, 35, 42, 49, 56, 63, 70],\n",
       " [8, 16, 24, 32, 40, 48, 56, 64, 72, 80],\n",
       " [9, 18, 27, 36, 45, 54, 63, 72, 81, 90],\n",
       " [10, 20, 30, 40, 50, 60, 70, 80, 90, 100]]"
      ]
     },
     "execution_count": 47,
     "metadata": {},
     "output_type": "execute_result"
    }
   ],
   "source": [
    "b=[[i*n for i in range(1,11)] for n in range(1,11)]\n",
    "b"
   ]
  },
  {
   "cell_type": "code",
   "execution_count": 49,
   "id": "afb43647-7dff-471c-82bb-28c3cd47e630",
   "metadata": {},
   "outputs": [
    {
     "name": "stdout",
     "output_type": "stream",
     "text": [
      "hellooo\n"
     ]
    }
   ],
   "source": [
    "def fun():\n",
    "    print(\"hellooo\")\n",
    "fun()    "
   ]
  },
  {
   "cell_type": "code",
   "execution_count": 50,
   "id": "ce67b9c8-af7e-4de4-be69-f8ca13b95f96",
   "metadata": {},
   "outputs": [
    {
     "name": "stdout",
     "output_type": "stream",
     "text": [
      "hellooo\n",
      "None\n"
     ]
    }
   ],
   "source": [
    "a=fun()\n",
    "print(a)"
   ]
  },
  {
   "cell_type": "code",
   "execution_count": 51,
   "id": "24656375-dfc1-4bc5-a4dd-66af57222a34",
   "metadata": {},
   "outputs": [
    {
     "data": {
      "text/plain": [
       "9"
      ]
     },
     "execution_count": 51,
     "metadata": {},
     "output_type": "execute_result"
    }
   ],
   "source": [
    "def add(a,b):\n",
    "    return a+b\n",
    "add(5,4)"
   ]
  },
  {
   "cell_type": "code",
   "execution_count": 56,
   "id": "d9382d74-9fed-49c9-b571-46db86003313",
   "metadata": {},
   "outputs": [
    {
     "name": "stdout",
     "output_type": "stream",
     "text": [
      "hey\n"
     ]
    }
   ],
   "source": [
    "fun= lambda a:print(a) \n",
    "fun(\"hey\")"
   ]
  },
  {
   "cell_type": "code",
   "execution_count": 58,
   "id": "da058abb-ad76-46f1-899f-53ade76b4cfa",
   "metadata": {},
   "outputs": [
    {
     "name": "stdout",
     "output_type": "stream",
     "text": [
      "9\n"
     ]
    }
   ],
   "source": [
    "fun= lambda a,b: print (a+b)\n",
    "fun(5,4)"
   ]
  },
  {
   "cell_type": "code",
   "execution_count": null,
   "id": "22eaa3c7-cad2-4972-8a0b-6ef927b0a378",
   "metadata": {},
   "outputs": [],
   "source": [
    "#map function:- applies a given function to each element of iterable "
   ]
  },
  {
   "cell_type": "code",
   "execution_count": 59,
   "id": "959cca10-a483-4f6e-97d1-cfe7af76cbf9",
   "metadata": {},
   "outputs": [
    {
     "data": {
      "text/plain": [
       "[3, 4, 3, 4]"
      ]
     },
     "execution_count": 59,
     "metadata": {},
     "output_type": "execute_result"
    }
   ],
   "source": [
    "a=[3,4]\n",
    "a*2 #wonnt multiply elements by 2"
   ]
  },
  {
   "cell_type": "code",
   "execution_count": 62,
   "id": "8bb599aa-8440-4dae-b1bf-cc69c3552e4d",
   "metadata": {},
   "outputs": [
    {
     "data": {
      "text/plain": [
       "[2, 4, 6, 8, 10]"
      ]
     },
     "execution_count": 62,
     "metadata": {},
     "output_type": "execute_result"
    }
   ],
   "source": [
    "a=[1,2,3,4,5]\n",
    "def multiply(x):\n",
    "    return 2*x\n",
    "list(map(multiply,a))"
   ]
  },
  {
   "cell_type": "code",
   "execution_count": 69,
   "id": "625c18f1-8112-4c49-a7ff-ebda0426cd1e",
   "metadata": {},
   "outputs": [
    {
     "data": {
      "text/plain": [
       "[2, 4, 6, 8, 10, 12]"
      ]
     },
     "execution_count": 69,
     "metadata": {},
     "output_type": "execute_result"
    }
   ],
   "source": [
    "a=[1,2,3,4,5,6]\n",
    "list(map(lambda x:2*x,a))"
   ]
  },
  {
   "cell_type": "code",
   "execution_count": 76,
   "id": "a22e71e0-e1b9-43f2-a27a-1010cf085a7c",
   "metadata": {},
   "outputs": [
    {
     "data": {
      "text/plain": [
       "[2, 4, 6, 8, 10, 12]"
      ]
     },
     "execution_count": 76,
     "metadata": {},
     "output_type": "execute_result"
    }
   ],
   "source": [
    "# filter function return only true or false\n",
    "b=[1,2,3,4,5,6,7,8,9,10,11,12]\n",
    "def isEven(x):\n",
    "    if x%2==0:\n",
    "        return True\n",
    "    else:\n",
    "        return False   \n",
    "    \n",
    "list(filter(isEven,b))"
   ]
  },
  {
   "cell_type": "code",
   "execution_count": 77,
   "id": "fc86fb47-e2be-4314-8042-01cb9a9d2e94",
   "metadata": {},
   "outputs": [
    {
     "data": {
      "text/plain": [
       "[2, 4, 6, 8, 10, 12]"
      ]
     },
     "execution_count": 77,
     "metadata": {},
     "output_type": "execute_result"
    }
   ],
   "source": [
    "list(filter(lambda x:x%2==0,b))"
   ]
  },
  {
   "cell_type": "code",
   "execution_count": 78,
   "id": "0c28e4f0-b561-4402-a846-c2efda792551",
   "metadata": {},
   "outputs": [
    {
     "data": {
      "text/plain": [
       "True"
      ]
     },
     "execution_count": 78,
     "metadata": {},
     "output_type": "execute_result"
    }
   ],
   "source": [
    "def multiply(x):\n",
    "    return x*2\n",
    "isinstance(multiply,object)  #function is an object"
   ]
  },
  {
   "cell_type": "code",
   "execution_count": 3,
   "id": "afb8b797-2b0b-4c9f-9fad-74e6f2645e74",
   "metadata": {},
   "outputs": [
    {
     "data": {
      "text/plain": [
       "7"
      ]
     },
     "execution_count": 3,
     "metadata": {},
     "output_type": "execute_result"
    }
   ],
   "source": [
    "#lists\n",
    "a=[1,4,6,7,1,2,1,2,1,1,1,1,3,6,8,3,7,2]\n",
    "a.count(1) #occurence count"
   ]
  },
  {
   "cell_type": "code",
   "execution_count": 4,
   "id": "1df8cc7e-a0b8-462a-a1fe-291d11efa48f",
   "metadata": {},
   "outputs": [],
   "source": [
    "a.remove(3)#removes first occurence"
   ]
  },
  {
   "cell_type": "code",
   "execution_count": 5,
   "id": "c0db0a7f-8be4-4ec4-bbb5-3e5a31f476b4",
   "metadata": {},
   "outputs": [
    {
     "data": {
      "text/plain": [
       "[1, 4, 6, 7, 1, 2, 1, 2, 1, 1, 1, 1, 6, 8, 3, 7, 2]"
      ]
     },
     "execution_count": 5,
     "metadata": {},
     "output_type": "execute_result"
    }
   ],
   "source": [
    "a "
   ]
  },
  {
   "cell_type": "code",
   "execution_count": 11,
   "id": "67478974-d7a6-4eed-b32f-c1728a434336",
   "metadata": {},
   "outputs": [
    {
     "data": {
      "text/plain": [
       "2"
      ]
     },
     "execution_count": 11,
     "metadata": {},
     "output_type": "execute_result"
    }
   ],
   "source": [
    "a=[1,4,6,7,1,2,1,2,1,1,1,1,3,6,8,3,7,2]\n",
    "a.pop()"
   ]
  },
  {
   "cell_type": "code",
   "execution_count": 12,
   "id": "b13f7188-1278-4c82-bb7b-3587239260ee",
   "metadata": {},
   "outputs": [
    {
     "data": {
      "text/plain": [
       "[1, 4, 6, 7, 1, 2, 1, 2, 1, 1, 1, 1, 3, 6, 8, 3, 7]"
      ]
     },
     "execution_count": 12,
     "metadata": {},
     "output_type": "execute_result"
    }
   ],
   "source": [
    "a"
   ]
  },
  {
   "cell_type": "code",
   "execution_count": 25,
   "id": "913125e2-8ccf-4d25-9134-7544e8a693af",
   "metadata": {},
   "outputs": [
    {
     "data": {
      "text/plain": [
       "False"
      ]
     },
     "execution_count": 25,
     "metadata": {},
     "output_type": "execute_result"
    }
   ],
   "source": [
    "a=\"vanshika mishra\"\n",
    "a.endswith(\"h\")"
   ]
  },
  {
   "cell_type": "code",
   "execution_count": 49,
   "id": "e49f2369-409a-4536-abbc-117b3ffe212c",
   "metadata": {},
   "outputs": [
    {
     "name": "stdin",
     "output_type": "stream",
     "text": [
      " 23\n",
      " 42\n"
     ]
    }
   ],
   "source": [
    "a=input()\n",
    "b=input()"
   ]
  },
  {
   "cell_type": "code",
   "execution_count": 50,
   "id": "ffa15ca7-b46b-4290-a4c5-82216ebcbb72",
   "metadata": {},
   "outputs": [
    {
     "name": "stdout",
     "output_type": "stream",
     "text": [
      "2342\n"
     ]
    }
   ],
   "source": [
    "print(a+b)  #input by default is string type"
   ]
  },
  {
   "cell_type": "code",
   "execution_count": 51,
   "id": "6145c21d-8592-4616-8196-49836dcfaf92",
   "metadata": {},
   "outputs": [
    {
     "data": {
      "text/plain": [
       "(str, str)"
      ]
     },
     "execution_count": 51,
     "metadata": {},
     "output_type": "execute_result"
    }
   ],
   "source": [
    "type(a),type(b)"
   ]
  },
  {
   "cell_type": "code",
   "execution_count": 33,
   "id": "c1c9439d-220a-404f-a1c4-a73dd9e0964c",
   "metadata": {},
   "outputs": [
    {
     "name": "stdout",
     "output_type": "stream",
     "text": [
      "65\n"
     ]
    }
   ],
   "source": [
    "ans=int(a)+int(b)\n",
    "print(ans)"
   ]
  },
  {
   "cell_type": "code",
   "execution_count": 34,
   "id": "a3ba2aee-09be-42dd-908d-68c2ecfd036a",
   "metadata": {},
   "outputs": [
    {
     "name": "stdout",
     "output_type": "stream",
     "text": [
      "2342\n"
     ]
    }
   ],
   "source": [
    "ans2=int(a+b) #wrong\n",
    "print(ans2)"
   ]
  },
  {
   "cell_type": "code",
   "execution_count": 35,
   "id": "0debc4e4-05dd-48e9-8076-2a0e1c200436",
   "metadata": {},
   "outputs": [
    {
     "data": {
      "text/plain": [
       "int"
      ]
     },
     "execution_count": 35,
     "metadata": {},
     "output_type": "execute_result"
    }
   ],
   "source": [
    "type(ans2)"
   ]
  },
  {
   "cell_type": "code",
   "execution_count": 36,
   "id": "9f9572ee-6658-4a9d-8eb3-7568f791662e",
   "metadata": {},
   "outputs": [
    {
     "data": {
      "text/plain": [
       "[1, 2, 4]"
      ]
     },
     "execution_count": 36,
     "metadata": {},
     "output_type": "execute_result"
    }
   ],
   "source": [
    "list({1,2,4}) #typecasting"
   ]
  },
  {
   "cell_type": "code",
   "execution_count": 37,
   "id": "4b144063-dc8c-4aff-bbbf-8e87311d818a",
   "metadata": {},
   "outputs": [
    {
     "name": "stdin",
     "output_type": "stream",
     "text": [
      "give input 1 34\n",
      "give input 2 23\n"
     ]
    }
   ],
   "source": [
    "a=int(input(\"give input 1\"))\n",
    "b=int(input(\"give input 2\"))"
   ]
  },
  {
   "cell_type": "code",
   "execution_count": 38,
   "id": "769a857d-d314-4d04-91c9-b3accb477f9b",
   "metadata": {},
   "outputs": [
    {
     "data": {
      "text/plain": [
       "57"
      ]
     },
     "execution_count": 38,
     "metadata": {},
     "output_type": "execute_result"
    }
   ],
   "source": [
    "a+b"
   ]
  },
  {
   "cell_type": "code",
   "execution_count": 41,
   "id": "0cf8442c-5138-4ee8-9e60-65d32df13fa3",
   "metadata": {},
   "outputs": [
    {
     "data": {
      "text/plain": [
       "'      1 2     35        4    2    6          '"
      ]
     },
     "execution_count": 41,
     "metadata": {},
     "output_type": "execute_result"
    }
   ],
   "source": [
    "a=\"      1 2     35        4    2    6          \"\n",
    "a"
   ]
  },
  {
   "cell_type": "code",
   "execution_count": 42,
   "id": "0fea9e83-f171-4cc6-9c42-e287097ca0d3",
   "metadata": {},
   "outputs": [
    {
     "data": {
      "text/plain": [
       "'1 2     35        4    2    6'"
      ]
     },
     "execution_count": 42,
     "metadata": {},
     "output_type": "execute_result"
    }
   ],
   "source": [
    "a.strip() #strips away starting and ending spaces only"
   ]
  },
  {
   "cell_type": "code",
   "execution_count": 43,
   "id": "5c73e5d0-4dc3-4184-9346-cfc95919c770",
   "metadata": {},
   "outputs": [
    {
     "data": {
      "text/plain": [
       "['1', '2', '3', '4', '5', '6', '7', '8', '9']"
      ]
     },
     "execution_count": 43,
     "metadata": {},
     "output_type": "execute_result"
    }
   ],
   "source": [
    "b=\"1 2 3 4 5 6 7 8 9\"\n",
    "b.split(' ')"
   ]
  },
  {
   "cell_type": "code",
   "execution_count": 45,
   "id": "5cb00798-7647-41b0-9a36-f18ffc3db3df",
   "metadata": {},
   "outputs": [
    {
     "data": {
      "text/plain": [
       "'1- -2- -3- -4- -5- -6- -7- -8- -9'"
      ]
     },
     "execution_count": 45,
     "metadata": {},
     "output_type": "execute_result"
    }
   ],
   "source": [
    "'-'.join(b)"
   ]
  },
  {
   "cell_type": "code",
   "execution_count": 65,
   "id": "d890a551-1a89-44a7-a94a-8aa2023df7dd",
   "metadata": {},
   "outputs": [
    {
     "data": {
      "text/plain": [
       "['1', '2', '3', '4', '5', '6', '7', '8', '9']"
      ]
     },
     "execution_count": 65,
     "metadata": {},
     "output_type": "execute_result"
    }
   ],
   "source": [
    "b=\"1 2 3 4 5 6 7 8 9\"\n",
    "b.split(' ')"
   ]
  },
  {
   "cell_type": "code",
   "execution_count": 71,
   "id": "757af8de-a976-44ba-838f-4300877c5815",
   "metadata": {},
   "outputs": [
    {
     "data": {
      "text/plain": [
       "'2 3 4 5 6'"
      ]
     },
     "execution_count": 71,
     "metadata": {},
     "output_type": "execute_result"
    }
   ],
   "source": [
    "new=\"  2 3 4 5 6  \"\n",
    "new=new.strip()\n",
    "new"
   ]
  },
  {
   "cell_type": "code",
   "execution_count": 72,
   "id": "342fa0ff-e240-4a81-8c9b-5333245ab35b",
   "metadata": {},
   "outputs": [],
   "source": [
    "li=new.split(\" \")"
   ]
  },
  {
   "cell_type": "code",
   "execution_count": 73,
   "id": "604a4bd6-6770-4f46-89b7-781a34ec1580",
   "metadata": {},
   "outputs": [
    {
     "data": {
      "text/plain": [
       "['2', '3', '4', '5', '6']"
      ]
     },
     "execution_count": 73,
     "metadata": {},
     "output_type": "execute_result"
    }
   ],
   "source": [
    "li"
   ]
  },
  {
   "cell_type": "code",
   "execution_count": 74,
   "id": "fa394fe1-66c6-4535-9330-e0c57e0cc683",
   "metadata": {},
   "outputs": [],
   "source": [
    "li=list(map(int,li))"
   ]
  },
  {
   "cell_type": "code",
   "execution_count": 75,
   "id": "8c7d1677-baaf-48c1-ad64-df98bead787d",
   "metadata": {},
   "outputs": [
    {
     "data": {
      "text/plain": [
       "[2, 3, 4, 5, 6]"
      ]
     },
     "execution_count": 75,
     "metadata": {},
     "output_type": "execute_result"
    }
   ],
   "source": [
    "li"
   ]
  },
  {
   "cell_type": "code",
   "execution_count": 76,
   "id": "be29e179-0b0f-46cb-93c9-7e88d2146747",
   "metadata": {},
   "outputs": [
    {
     "data": {
      "text/plain": [
       "20"
      ]
     },
     "execution_count": 76,
     "metadata": {},
     "output_type": "execute_result"
    }
   ],
   "source": [
    "sum(li)"
   ]
  },
  {
   "cell_type": "code",
   "execution_count": 52,
   "id": "5e46fbc8-52af-4ad8-a8cd-2fd85119c1ee",
   "metadata": {},
   "outputs": [],
   "source": [
    "a=[2,4]\n",
    "n1,n2=a"
   ]
  },
  {
   "cell_type": "code",
   "execution_count": 53,
   "id": "8eeab6c8-36fb-4268-8260-ddb64a171cce",
   "metadata": {},
   "outputs": [
    {
     "data": {
      "text/plain": [
       "(2, 4)"
      ]
     },
     "execution_count": 53,
     "metadata": {},
     "output_type": "execute_result"
    }
   ],
   "source": [
    "n1,n2"
   ]
  },
  {
   "cell_type": "code",
   "execution_count": 80,
   "id": "d7ae1f82-2fee-413c-83b7-1aa4be5c6f5e",
   "metadata": {},
   "outputs": [
    {
     "name": "stdout",
     "output_type": "stream",
     "text": [
      "34-56\n"
     ]
    }
   ],
   "source": [
    "print(34,56, sep=\"-\")"
   ]
  },
  {
   "cell_type": "code",
   "execution_count": 85,
   "id": "96d16d9a-11c8-44ee-95a4-bb80d40622ef",
   "metadata": {},
   "outputs": [],
   "source": [
    "a=30\n",
    "b=45\n",
    "c=34\n",
    "d=23\n",
    "e=23\n",
    "f=34\n",
    "g=23\n",
    "h=23"
   ]
  },
  {
   "cell_type": "code",
   "execution_count": 86,
   "id": "9769921a-00cf-4435-8f0b-f995600b39b2",
   "metadata": {},
   "outputs": [
    {
     "name": "stdout",
     "output_type": "stream",
     "text": [
      "The eight numbers are  30  and  45 and 34  and  23\n"
     ]
    }
   ],
   "source": [
    "print(\"The eight numbers are \",a,\" and \",b,\"and\",c,\" and \",d) #boring"
   ]
  },
  {
   "cell_type": "code",
   "execution_count": 88,
   "id": "f57bacff-7aeb-44df-98a8-665ee0541fb1",
   "metadata": {},
   "outputs": [
    {
     "name": "stdout",
     "output_type": "stream",
     "text": [
      "The numbers are 30 and 45 and 34\n",
      "and 23   and 23\n",
      "                       and34\n"
     ]
    }
   ],
   "source": [
    "print('''The numbers are {} and {} and {}\n",
    "and {}   and {}\n",
    "                       and{}'''.format(a,b,c,d,e,f)) #bad"
   ]
  },
  {
   "cell_type": "code",
   "execution_count": 89,
   "id": "db05409a-0e1d-44f7-819f-d264947db59f",
   "metadata": {},
   "outputs": [
    {
     "name": "stdout",
     "output_type": "stream",
     "text": [
      "The numbers are 30 and 45\n",
      "and 34 and 23\n",
      "and 23 and 34 and 23\n"
     ]
    }
   ],
   "source": [
    "print(f'''The numbers are {a} and {b}\n",
    "and {c} and {d}\n",
    "and {e} and {f} and {g}''' ) #better"
   ]
  },
  {
   "cell_type": "code",
   "execution_count": 27,
   "id": "7157c3f3-a0dc-4908-94fc-8097bdb30237",
   "metadata": {},
   "outputs": [],
   "source": [
    "my_dict={\"Car1\": \"Audi\", \"Car2\":\"BMW\",\"Car3\":\"Mercidies Benz\"}"
   ]
  },
  {
   "cell_type": "code",
   "execution_count": 28,
   "id": "d49fab21-3601-4cf5-91cf-92cfec9000ce",
   "metadata": {},
   "outputs": [
    {
     "data": {
      "text/plain": [
       "'Audi'"
      ]
     },
     "execution_count": 28,
     "metadata": {},
     "output_type": "execute_result"
    }
   ],
   "source": [
    "##Access the item values based on keys\n",
    "\n",
    "my_dict['Car1']"
   ]
  },
  {
   "cell_type": "code",
   "execution_count": 29,
   "id": "fe570bd4-d658-452e-902d-f2e622feaa90",
   "metadata": {},
   "outputs": [
    {
     "name": "stdout",
     "output_type": "stream",
     "text": [
      "Car1\n",
      "Car2\n",
      "Car3\n"
     ]
    }
   ],
   "source": [
    "# We can even loop throught the dictionaries keys\n",
    "for x in my_dict:\n",
    "    print(x)"
   ]
  },
  {
   "cell_type": "code",
   "execution_count": 30,
   "id": "fcdaea6d-6d7a-4f2d-a7b0-2295d41db80a",
   "metadata": {},
   "outputs": [
    {
     "name": "stdout",
     "output_type": "stream",
     "text": [
      "Audi\n",
      "BMW\n",
      "Mercidies Benz\n"
     ]
    }
   ],
   "source": [
    "# We can even loop throught the dictionaries values\n",
    "\n",
    "for x in my_dict.values():\n",
    "    print(x)"
   ]
  },
  {
   "cell_type": "code",
   "execution_count": 31,
   "id": "83b3074c-402b-41fa-9674-dfa41cc8d7c5",
   "metadata": {},
   "outputs": [
    {
     "name": "stdout",
     "output_type": "stream",
     "text": [
      "('Car1', 'Audi')\n",
      "('Car2', 'BMW')\n",
      "('Car3', 'Mercidies Benz')\n"
     ]
    }
   ],
   "source": [
    "# We can also check both keys and values\n",
    "for x in my_dict.items():\n",
    "    print(x)"
   ]
  },
  {
   "cell_type": "code",
   "execution_count": 32,
   "id": "41494033-59eb-458d-a003-498553f71223",
   "metadata": {},
   "outputs": [
    {
     "data": {
      "text/plain": [
       "{'Car1': 'Audi', 'Car2': 'BMW', 'Car3': 'Mercidies Benz', 'car4': 'Audi 2.0'}"
      ]
     },
     "execution_count": 32,
     "metadata": {},
     "output_type": "execute_result"
    }
   ],
   "source": [
    "my_dict['car4']='Audi 2.0'\n",
    "my_dict"
   ]
  },
  {
   "cell_type": "code",
   "execution_count": 33,
   "id": "8ef010d5-b6a5-49e9-8f25-f50c93492de2",
   "metadata": {},
   "outputs": [
    {
     "data": {
      "text/plain": [
       "{'Car1': 'Maruti', 'Car2': 'BMW', 'Car3': 'Mercidies Benz', 'car4': 'Audi 2.0'}"
      ]
     },
     "execution_count": 33,
     "metadata": {},
     "output_type": "execute_result"
    }
   ],
   "source": [
    "my_dict['Car1']='Maruti'\n",
    "my_dict"
   ]
  },
  {
   "cell_type": "code",
   "execution_count": 34,
   "id": "03a9b9af-05f8-47b9-a494-443c30e183e0",
   "metadata": {},
   "outputs": [],
   "source": [
    "car1_model={'Mercedes':1960}\n",
    "car2_model={'Audi':1970}\n",
    "car3_model={'Ambassador':1980}\n",
    "\n",
    "car_type={'car1':car1_model,'car2':car2_model,'car3':car3_model}"
   ]
  },
  {
   "cell_type": "code",
   "execution_count": 35,
   "id": "62358cde-e6ca-445c-9821-5733bdc8138f",
   "metadata": {},
   "outputs": [
    {
     "name": "stdout",
     "output_type": "stream",
     "text": [
      "{'car1': {'Mercedes': 1960}, 'car2': {'Audi': 1970}, 'car3': {'Ambassador': 1980}}\n"
     ]
    }
   ],
   "source": [
    "print(car_type)"
   ]
  },
  {
   "cell_type": "code",
   "execution_count": 36,
   "id": "c43d1f4c-1fa5-4403-8d64-cdd4d039fe9d",
   "metadata": {},
   "outputs": [
    {
     "name": "stdout",
     "output_type": "stream",
     "text": [
      "{'Mercedes': 1960}\n",
      "1960\n"
     ]
    }
   ],
   "source": [
    "print(car_type['car1'])\n",
    "print(car_type['car1']['Mercedes'])"
   ]
  }
 ],
 "metadata": {
  "kernelspec": {
   "display_name": "Python 3",
   "language": "python",
   "name": "python3"
  },
  "language_info": {
   "codemirror_mode": {
    "name": "ipython",
    "version": 3
   },
   "file_extension": ".py",
   "mimetype": "text/x-python",
   "name": "python",
   "nbconvert_exporter": "python",
   "pygments_lexer": "ipython3",
   "version": "3.8.8"
  }
 },
 "nbformat": 4,
 "nbformat_minor": 5
}
