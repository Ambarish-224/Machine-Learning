{
 "cells": [
  {
   "cell_type": "code",
   "execution_count": 1,
   "id": "5a801227-8da3-4f33-966d-165f29d7df44",
   "metadata": {},
   "outputs": [],
   "source": [
    "import pandas as pd\n",
    "from sklearn import linear_model"
   ]
  },
  {
   "cell_type": "code",
   "execution_count": 3,
   "id": "83577ae0-e6ed-44bf-a2c8-52aef59101ed",
   "metadata": {},
   "outputs": [
    {
     "data": {
      "text/plain": [
       "Index(['year', 'per capita income (US$)'], dtype='object')"
      ]
     },
     "execution_count": 3,
     "metadata": {},
     "output_type": "execute_result"
    }
   ],
   "source": [
    "df=pd.read_csv('canada_per_capita_income.csv')\n",
    "df.columns"
   ]
  },
  {
   "cell_type": "code",
   "execution_count": 6,
   "id": "c5a592e9-3f9b-4e3d-a788-95656f8448f6",
   "metadata": {},
   "outputs": [],
   "source": [
    "df2=df.drop('per capita income (US$)',axis=1)"
   ]
  },
  {
   "cell_type": "code",
   "execution_count": 9,
   "id": "78a2f969-b955-48b1-baf7-16e8df63dae6",
   "metadata": {},
   "outputs": [],
   "source": [
    "income=df['per capita income (US$)']"
   ]
  },
  {
   "cell_type": "code",
   "execution_count": 13,
   "id": "f4187d0d-fc2f-4969-9b33-096c2fae8db2",
   "metadata": {},
   "outputs": [],
   "source": [
    "reg=linear_model.LinearRegression()"
   ]
  },
  {
   "cell_type": "code",
   "execution_count": 14,
   "id": "c3b6b852-5bb5-42da-935c-8c2d2d0b6404",
   "metadata": {},
   "outputs": [
    {
     "data": {
      "text/plain": [
       "LinearRegression()"
      ]
     },
     "execution_count": 14,
     "metadata": {},
     "output_type": "execute_result"
    }
   ],
   "source": [
    "reg.fit(df2,income)"
   ]
  },
  {
   "cell_type": "code",
   "execution_count": 15,
   "id": "89c9ecd5-afc7-4255-a8dc-c5ec0aee8a66",
   "metadata": {},
   "outputs": [
    {
     "data": {
      "text/plain": [
       "array([41288.69409442])"
      ]
     },
     "execution_count": 15,
     "metadata": {},
     "output_type": "execute_result"
    }
   ],
   "source": [
    "reg.predict([[2020]])"
   ]
  },
  {
   "cell_type": "code",
   "execution_count": 17,
   "id": "cd8685b5-c28f-4cbf-b948-11abae58a3ec",
   "metadata": {},
   "outputs": [
    {
     "data": {
      "text/plain": [
       "array([828.46507522])"
      ]
     },
     "execution_count": 17,
     "metadata": {},
     "output_type": "execute_result"
    }
   ],
   "source": [
    "reg.coef_#m"
   ]
  },
  {
   "cell_type": "code",
   "execution_count": 18,
   "id": "88e7abc7-9cdc-404f-8ac0-86982df383eb",
   "metadata": {},
   "outputs": [
    {
     "data": {
      "text/plain": [
       "-1632210.7578554575"
      ]
     },
     "execution_count": 18,
     "metadata": {},
     "output_type": "execute_result"
    }
   ],
   "source": [
    "reg.intercept_#c"
   ]
  },
  {
   "cell_type": "code",
   "execution_count": 19,
   "id": "c76c8734-5b3b-45b2-b55b-3415f74d4c8b",
   "metadata": {},
   "outputs": [
    {
     "data": {
      "text/plain": [
       "41288.694088942604"
      ]
     },
     "execution_count": 19,
     "metadata": {},
     "output_type": "execute_result"
    }
   ],
   "source": [
    "#y=mx+c\n",
    "828.46507522*2020-1632210.7578554575"
   ]
  }
 ],
 "metadata": {
  "kernelspec": {
   "display_name": "Python 3",
   "language": "python",
   "name": "python3"
  },
  "language_info": {
   "codemirror_mode": {
    "name": "ipython",
    "version": 3
   },
   "file_extension": ".py",
   "mimetype": "text/x-python",
   "name": "python",
   "nbconvert_exporter": "python",
   "pygments_lexer": "ipython3",
   "version": "3.8.8"
  }
 },
 "nbformat": 4,
 "nbformat_minor": 5
}
