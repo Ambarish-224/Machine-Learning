{
 "cells": [
  {
   "cell_type": "markdown",
   "id": "5b12ae5e-943f-42be-8372-7a568698e365",
   "metadata": {},
   "source": [
    "## Data Acquisition - Web API's\n",
    "- Application Programming Interface - Set of routines running over web server\n",
    "- Connect application & database\n",
    "- Specify data with URL\n",
    "- Retrieve data & parse it\n",
    "- API may return data in JSON,XML\n",
    "### JSON\n",
    "- JavaScript Object Notation\n",
    "- Dictionary like data structure: key value pairs\n",
    "- keys are strings, values can be anything\n",
    "- easy to read and write\n",
    "### XML\n",
    "- eXtensible Markup Language\n",
    "- Structure similar to html\n",
    "- Custom Tags\n",
    "- No Style\n",
    "### Type of Requests\n",
    "- GET\n",
    "- POST\n",
    "- DELETE\n",
    "- PUT\n",
    "- PATCH\n",
    "\n",
    "- Urlib\n",
    "- Requests"
   ]
  },
  {
   "cell_type": "markdown",
   "id": "ac8221fd-ae30-4201-a553-4ff4cfbddfe9",
   "metadata": {},
   "source": [
    "## Using Weather API"
   ]
  },
  {
   "cell_type": "code",
   "execution_count": 1,
   "id": "cc55e9dc-80ea-4fcd-bebf-a510158d304e",
   "metadata": {},
   "outputs": [],
   "source": [
    "from urllib.request import urlopen"
   ]
  },
  {
   "cell_type": "code",
   "execution_count": 6,
   "id": "d372c47d-65b2-4472-ba39-c27e519a23d2",
   "metadata": {},
   "outputs": [],
   "source": [
    "api_url=\"https://api.openweathermap.org/data/2.5/weather?q=London&appid=f0b787cc1d28964b57bcb622bc53a7b1\""
   ]
  },
  {
   "cell_type": "code",
   "execution_count": 8,
   "id": "8dfc118f-a8bd-4903-848e-cd251b7293e3",
   "metadata": {},
   "outputs": [
    {
     "name": "stdout",
     "output_type": "stream",
     "text": [
      "<http.client.HTTPResponse object at 0x0000021C739D6610>\n"
     ]
    }
   ],
   "source": [
    "url_result=urlopen(api_url)\n",
    "print(url_result)"
   ]
  },
  {
   "cell_type": "code",
   "execution_count": 9,
   "id": "4b130a8a-82d1-4fd3-9b51-c15ed128a621",
   "metadata": {},
   "outputs": [],
   "source": [
    "data=url_result.read()"
   ]
  },
  {
   "cell_type": "code",
   "execution_count": 10,
   "id": "7776cc1c-4a55-476e-a620-2e1622fd3061",
   "metadata": {},
   "outputs": [
    {
     "name": "stdout",
     "output_type": "stream",
     "text": [
      "b'{\"coord\":{\"lon\":-0.1257,\"lat\":51.5085},\"weather\":[{\"id\":800,\"main\":\"Clear\",\"description\":\"clear sky\",\"icon\":\"01d\"}],\"base\":\"stations\",\"main\":{\"temp\":302.02,\"feels_like\":302.31,\"temp_min\":300.01,\"temp_max\":303.86,\"pressure\":1020,\"humidity\":47},\"visibility\":10000,\"wind\":{\"speed\":6.17,\"deg\":90},\"clouds\":{\"all\":2},\"dt\":1631026073,\"sys\":{\"type\":2,\"id\":2006068,\"country\":\"GB\",\"sunrise\":1630992176,\"sunset\":1631039668},\"timezone\":3600,\"id\":2643743,\"name\":\"London\",\"cod\":200}'\n",
      "<class 'bytes'>\n"
     ]
    }
   ],
   "source": [
    "print(data)\n",
    "print(type(data))"
   ]
  },
  {
   "cell_type": "code",
   "execution_count": 11,
   "id": "75f6ca61-3319-4157-bb62-355e32ddedca",
   "metadata": {},
   "outputs": [],
   "source": [
    "import json"
   ]
  },
  {
   "cell_type": "code",
   "execution_count": 12,
   "id": "59f94c81-7c0a-4f87-9f8d-8e4e18e4aaa4",
   "metadata": {},
   "outputs": [],
   "source": [
    "json_data=json.loads(data)"
   ]
  },
  {
   "cell_type": "code",
   "execution_count": 13,
   "id": "87675808-76db-4503-bce6-6c0784f58ff0",
   "metadata": {},
   "outputs": [
    {
     "name": "stdout",
     "output_type": "stream",
     "text": [
      "{'coord': {'lon': -0.1257, 'lat': 51.5085}, 'weather': [{'id': 800, 'main': 'Clear', 'description': 'clear sky', 'icon': '01d'}], 'base': 'stations', 'main': {'temp': 302.02, 'feels_like': 302.31, 'temp_min': 300.01, 'temp_max': 303.86, 'pressure': 1020, 'humidity': 47}, 'visibility': 10000, 'wind': {'speed': 6.17, 'deg': 90}, 'clouds': {'all': 2}, 'dt': 1631026073, 'sys': {'type': 2, 'id': 2006068, 'country': 'GB', 'sunrise': 1630992176, 'sunset': 1631039668}, 'timezone': 3600, 'id': 2643743, 'name': 'London', 'cod': 200}\n"
     ]
    }
   ],
   "source": [
    "print(json_data)"
   ]
  },
  {
   "cell_type": "code",
   "execution_count": 16,
   "id": "ab1c09d2-b9fd-42d9-90a6-79a604947177",
   "metadata": {},
   "outputs": [
    {
     "data": {
      "text/plain": [
       "{'lon': -0.1257, 'lat': 51.5085}"
      ]
     },
     "execution_count": 16,
     "metadata": {},
     "output_type": "execute_result"
    }
   ],
   "source": [
    "json_data['coord']"
   ]
  },
  {
   "cell_type": "code",
   "execution_count": 17,
   "id": "b83821d3-5724-4f68-aa4e-aec321cdfa6b",
   "metadata": {},
   "outputs": [
    {
     "name": "stdout",
     "output_type": "stream",
     "text": [
      "{\"coord\": {\"lon\": -0.1257, \"lat\": 51.5085}, \"weather\": [{\"id\": 800, \"main\": \"Clear\", \"description\": \"clear sky\", \"icon\": \"01d\"}], \"base\": \"stations\", \"main\": {\"temp\": 302.02, \"feels_like\": 302.31, \"temp_min\": 300.01, \"temp_max\": 303.86, \"pressure\": 1020, \"humidity\": 47}, \"visibility\": 10000, \"wind\": {\"speed\": 6.17, \"deg\": 90}, \"clouds\": {\"all\": 2}, \"dt\": 1631026073, \"sys\": {\"type\": 2, \"id\": 2006068, \"country\": \"GB\", \"sunrise\": 1630992176, \"sunset\": 1631039668}, \"timezone\": 3600, \"id\": 2643743, \"name\": \"London\", \"cod\": 200}\n",
      "<class 'str'>\n"
     ]
    }
   ],
   "source": [
    "json_string=json.dumps(json_data)\n",
    "print(json_string)\n",
    "print(type(json_string))"
   ]
  },
  {
   "cell_type": "markdown",
   "id": "e22a4de3-7fcc-4aad-b421-61dff700b3c5",
   "metadata": {},
   "source": [
    "## Using Google API"
   ]
  },
  {
   "cell_type": "code",
   "execution_count": 20,
   "id": "f4024db7-4b43-4a2a-8070-d139bde218fa",
   "metadata": {},
   "outputs": [],
   "source": [
    "import requests"
   ]
  },
  {
   "cell_type": "code",
   "execution_count": 21,
   "id": "1dfb5ea6-d455-40ff-a063-c684bce949a6",
   "metadata": {},
   "outputs": [],
   "source": [
    "url=\"https://maps.googleapis.com/maps/api/geocode//json?\""
   ]
  },
  {
   "cell_type": "code",
   "execution_count": 22,
   "id": "11c31b61-c77b-4621-bdeb-24369ec59bb4",
   "metadata": {},
   "outputs": [],
   "source": [
    "parameters={\n",
    "    \"address\":\"coding blocks pitampura\"\n",
    "    \"key\":\"pass key if you can get google api key\"\n",
    "}"
   ]
  },
  {
   "cell_type": "code",
   "execution_count": 24,
   "id": "aa71dec6-3be9-4807-997d-5b2e943d46ee",
   "metadata": {},
   "outputs": [],
   "source": [
    "r=requests.get(url,params=parameters)"
   ]
  },
  {
   "cell_type": "code",
   "execution_count": 25,
   "id": "29da5df0-7c27-4f0c-b00b-d5edbb3cc595",
   "metadata": {},
   "outputs": [
    {
     "data": {
      "text/plain": [
       "'https://maps.googleapis.com/maps/api/geocode//json?address=coding+blocks+pitampura'"
      ]
     },
     "execution_count": 25,
     "metadata": {},
     "output_type": "execute_result"
    }
   ],
   "source": [
    "r.url"
   ]
  },
  {
   "cell_type": "code",
   "execution_count": 26,
   "id": "52c3f70a-58d5-4f8c-9946-c0d5dcaedd2c",
   "metadata": {},
   "outputs": [
    {
     "data": {
      "text/plain": [
       "b'<!DOCTYPE html>\\n<html lang=en>\\n  <meta charset=utf-8>\\n  <meta name=viewport content=\"initial-scale=1, minimum-scale=1, width=device-width\">\\n  <title>Error 404 (Not Found)!!1</title>\\n  <style>\\n    *{margin:0;padding:0}html,code{font:15px/22px arial,sans-serif}html{background:#fff;color:#222;padding:15px}body{margin:7% auto 0;max-width:390px;min-height:180px;padding:30px 0 15px}* > body{background:url(//www.google.com/images/errors/robot.png) 100% 5px no-repeat;padding-right:205px}p{margin:11px 0 22px;overflow:hidden}ins{color:#777;text-decoration:none}a img{border:0}@media screen and (max-width:772px){body{background:none;margin-top:0;max-width:none;padding-right:0}}#logo{background:url(//www.google.com/images/branding/googlelogo/1x/googlelogo_color_150x54dp.png) no-repeat;margin-left:-5px}@media only screen and (min-resolution:192dpi){#logo{background:url(//www.google.com/images/branding/googlelogo/2x/googlelogo_color_150x54dp.png) no-repeat 0% 0%/100% 100%;-moz-border-image:url(//www.google.com/images/branding/googlelogo/2x/googlelogo_color_150x54dp.png) 0}}@media only screen and (-webkit-min-device-pixel-ratio:2){#logo{background:url(//www.google.com/images/branding/googlelogo/2x/googlelogo_color_150x54dp.png) no-repeat;-webkit-background-size:100% 100%}}#logo{display:inline-block;height:54px;width:150px}\\n  </style>\\n  <a href=//www.google.com/><span id=logo aria-label=Google></span></a>\\n  <p><b>404.</b> <ins>That\\xe2\\x80\\x99s an error.</ins>\\n  <p>The requested URL <code>/maps/api/geocode//json?address=coding+blocks+pitampura</code> was not found on this server.  <ins>That\\xe2\\x80\\x99s all we know.</ins>\\n'"
      ]
     },
     "execution_count": 26,
     "metadata": {},
     "output_type": "execute_result"
    }
   ],
   "source": [
    "r.content #shows error as i dont have money to buy API keys😢"
   ]
  },
  {
   "cell_type": "code",
   "execution_count": 27,
   "id": "946ae347-8e29-4593-8635-36e9f2f28ec1",
   "metadata": {},
   "outputs": [
    {
     "name": "stdout",
     "output_type": "stream",
     "text": [
      "<!DOCTYPE html>\n",
      "<html lang=en>\n",
      "  <meta charset=utf-8>\n",
      "  <meta name=viewport content=\"initial-scale=1, minimum-scale=1, width=device-width\">\n",
      "  <title>Error 404 (Not Found)!!1</title>\n",
      "  <style>\n",
      "    *{margin:0;padding:0}html,code{font:15px/22px arial,sans-serif}html{background:#fff;color:#222;padding:15px}body{margin:7% auto 0;max-width:390px;min-height:180px;padding:30px 0 15px}* > body{background:url(//www.google.com/images/errors/robot.png) 100% 5px no-repeat;padding-right:205px}p{margin:11px 0 22px;overflow:hidden}ins{color:#777;text-decoration:none}a img{border:0}@media screen and (max-width:772px){body{background:none;margin-top:0;max-width:none;padding-right:0}}#logo{background:url(//www.google.com/images/branding/googlelogo/1x/googlelogo_color_150x54dp.png) no-repeat;margin-left:-5px}@media only screen and (min-resolution:192dpi){#logo{background:url(//www.google.com/images/branding/googlelogo/2x/googlelogo_color_150x54dp.png) no-repeat 0% 0%/100% 100%;-moz-border-image:url(//www.google.com/images/branding/googlelogo/2x/googlelogo_color_150x54dp.png) 0}}@media only screen and (-webkit-min-device-pixel-ratio:2){#logo{background:url(//www.google.com/images/branding/googlelogo/2x/googlelogo_color_150x54dp.png) no-repeat;-webkit-background-size:100% 100%}}#logo{display:inline-block;height:54px;width:150px}\n",
      "  </style>\n",
      "  <a href=//www.google.com/><span id=logo aria-label=Google></span></a>\n",
      "  <p><b>404.</b> <ins>That’s an error.</ins>\n",
      "  <p>The requested URL <code>/maps/api/geocode//json?address=coding+blocks+pitampura</code> was not found on this server.  <ins>That’s all we know.</ins>\n",
      "\n"
     ]
    }
   ],
   "source": [
    "print(r.content.decode('UTF-8'))"
   ]
  }
 ],
 "metadata": {
  "kernelspec": {
   "display_name": "Python 3",
   "language": "python",
   "name": "python3"
  },
  "language_info": {
   "codemirror_mode": {
    "name": "ipython",
    "version": 3
   },
   "file_extension": ".py",
   "mimetype": "text/x-python",
   "name": "python",
   "nbconvert_exporter": "python",
   "pygments_lexer": "ipython3",
   "version": "3.8.8"
  }
 },
 "nbformat": 4,
 "nbformat_minor": 5
}
