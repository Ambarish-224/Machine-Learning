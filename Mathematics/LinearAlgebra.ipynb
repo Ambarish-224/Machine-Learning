{
 "cells": [
  {
   "cell_type": "markdown",
   "id": "53cf248b-2fd3-4e90-9c12-93c018eb17ec",
   "metadata": {},
   "source": [
    "## 1. Scalars & Vectors\n",
    "\n",
    "   Scalar is a single number, denoted as $x$\n",
    "\n",
    "   Vector is an array of scalars, denoted by $\\boldsymbol{x}$\n",
    "\n",
    "   Thus, a vector has $n$ scalars $x_1, x_2 \\cdots x_n$\n",
    "   \n",
    "   A matrix is a 2-D array\n",
    "   \n",
    "   A tensor is a n-dimensional array with n>2\n",
    "\n",
    "\n",
    "Note that indexing here begins with 1, unlike python (where it begins with 0)\n",
    "$$\n",
    "\\boldsymbol{x} =\\begin{bmatrix}\n",
    "    x_1 \\\\\n",
    "    x_2 \\\\\n",
    "    \\cdots \\\\\n",
    "    x_n\n",
    "\\end{bmatrix}\n",
    "$$\n",
    "\n",
    "Let us now look how we can create an array using numpy"
   ]
  },
  {
   "cell_type": "code",
   "execution_count": 2,
   "id": "0ecf2790-828e-411b-bff5-e3dfa51dbb8f",
   "metadata": {},
   "outputs": [
    {
     "name": "stdout",
     "output_type": "stream",
     "text": [
      "[4 5 6]\n",
      "(3,)\n"
     ]
    }
   ],
   "source": [
    "import numpy as np\n",
    "x = np.array([4,5,6])\n",
    "print(x)\n",
    "print(x.shape)"
   ]
  },
  {
   "cell_type": "code",
   "execution_count": 3,
   "id": "0089dc1c-ea8b-444b-910c-fc7a996e7d49",
   "metadata": {},
   "outputs": [
    {
     "name": "stdout",
     "output_type": "stream",
     "text": [
      "[[4]\n",
      " [5]\n",
      " [6]]\n",
      "(3, 1)\n"
     ]
    }
   ],
   "source": [
    "# to make it a column vector\n",
    "x = np.array([[4],[5],[6]])\n",
    "print(x)\n",
    "print(x.shape)"
   ]
  },
  {
   "cell_type": "markdown",
   "id": "76f25290-38be-4fed-b38a-dd666757d3c7",
   "metadata": {},
   "source": [
    "## 2. Matrices & Tensors\n",
    "\n",
    "Matrix is a 2D array of scalars, denoted by $\\boldsymbol{X}$$$\n",
    "\\boldsymbol{X}=\n",
    "\\begin{bmatrix}\n",
    "  X_{1,1} &amp; X_{1,2} &amp; \\cdots &amp; X_{1,n} \\\\\\\\\n",
    "  X_{2,1} &amp; X_{2,2} &amp; \\cdots &amp; X_{2,n} \\\\\\\\\n",
    "  \\cdots &amp; \\cdots &amp; \\cdots &amp; \\cdots \\\\\\\\\n",
    "  X_{m,1} &amp; X_{m,2} &amp; \\cdots &amp; X_{m,n}\n",
    "\\end{bmatrix}\n",
    "$$\n",
    "\n",
    "This matrix has $m$ rows and $n$ columns\n",
    "\n",
    "Each indvidual element such as $X_{1,1}$ is a scalar\n",
    "\n",
    "If $m = n$, the matrix is known as Square Matrix\n",
    "\n",
    "Tensor is an array with more than 2 axes, denoted as X, like an image.\n",
    "\n",
    "Think of Tensor as a generalization of an array with more than 2 axes"
   ]
  },
  {
   "cell_type": "code",
   "execution_count": 5,
   "id": "374672b2-01b8-42d1-9fe0-7bfb63311dae",
   "metadata": {},
   "outputs": [
    {
     "name": "stdout",
     "output_type": "stream",
     "text": [
      "[[ 4  5  7 10]\n",
      " [10 11 13 11]\n",
      " [56 80 90 12]]\n",
      "(3, 4)\n"
     ]
    }
   ],
   "source": [
    "X = np.array([[4,5,7,10], \n",
    "              [10, 11, 13,11], \n",
    "              [56, 80, 90,12]])\n",
    "print(X)\n",
    "print(X.shape)"
   ]
  },
  {
   "cell_type": "code",
   "execution_count": 6,
   "id": "e48de71e-cd97-4c14-8322-3ac3e4522f85",
   "metadata": {},
   "outputs": [
    {
     "data": {
      "text/plain": [
       "array([[ 4],\n",
       "       [ 5],\n",
       "       [ 7],\n",
       "       [10],\n",
       "       [10],\n",
       "       [11],\n",
       "       [13],\n",
       "       [11],\n",
       "       [56],\n",
       "       [80],\n",
       "       [90],\n",
       "       [12]])"
      ]
     },
     "execution_count": 6,
     "metadata": {},
     "output_type": "execute_result"
    }
   ],
   "source": [
    "X=X.reshape((-1,1))\n",
    "X"
   ]
  },
  {
   "cell_type": "code",
   "execution_count": 11,
   "id": "220f7963-34aa-49cf-ae72-61ac86b54d50",
   "metadata": {},
   "outputs": [
    {
     "data": {
      "image/png": "[encoded data removed]",
      "text/plain": [
       "<Figure size 432x288 with 1 Axes>"
      ]
     },
     "metadata": {
      "needs_background": "light"
     },
     "output_type": "display_data"
    }
   ],
   "source": [
    "T = np.zeros((50,25,3),dtype='uint8') #i want to create an image that's why I am using unint8\n",
    "T[ : , : ,2] = 255#select all rows,all columns,select only 2nd channel\n",
    "\n",
    "import matplotlib.pyplot as plt\n",
    "\n",
    "plt.imshow(T)#only see 2-d \n",
    "plt.show()"
   ]
  },
  {
   "cell_type": "markdown",
   "id": "3bba4cc8-d374-4916-8952-9b8688be86ec",
   "metadata": {},
   "source": [
    "## 3. Transpose\n",
    "\n",
    " For a 2D matrix transpose can be obtained as follows $(A^T)_{i,j} = A_{j, i}$\n",
    "\n",
    " For a vector, transpose makes the column vector into a row. Thus a column\n",
    "\n",
    " vector can also be represented as $\\boldsymbol{x} = [x_1, x_2, x_3]^T$"
   ]
  },
  {
   "cell_type": "code",
   "execution_count": 18,
   "id": "980e3289-acd2-4630-8dfd-c6a288976c04",
   "metadata": {},
   "outputs": [
    {
     "data": {
      "text/plain": [
       "array([[ 4,  5,  7, 10],\n",
       "       [10, 11, 13, 11],\n",
       "       [56, 80, 90, 12]])"
      ]
     },
     "execution_count": 18,
     "metadata": {},
     "output_type": "execute_result"
    }
   ],
   "source": [
    "X"
   ]
  },
  {
   "cell_type": "code",
   "execution_count": 15,
   "id": "0a059544-ee9e-492f-907e-ed1f695f8394",
   "metadata": {},
   "outputs": [
    {
     "data": {
      "text/plain": [
       "array([[ 4,  5,  7, 10],\n",
       "       [10, 11, 13, 11],\n",
       "       [56, 80, 90, 12]])"
      ]
     },
     "execution_count": 15,
     "metadata": {},
     "output_type": "execute_result"
    }
   ],
   "source": [
    "y = X.reshape((3,4)) #converting it back to matrix\n",
    "y"
   ]
  },
  {
   "cell_type": "code",
   "execution_count": 16,
   "id": "2472dacf-2fc9-4dba-b1a1-0d84dbcd34f5",
   "metadata": {},
   "outputs": [
    {
     "name": "stdout",
     "output_type": "stream",
     "text": [
      "[[ 4 10 56]\n",
      " [ 5 11 80]\n",
      " [ 7 13 90]\n",
      " [10 11 12]]\n"
     ]
    }
   ],
   "source": [
    "print(y.T) #taking transpose"
   ]
  },
  {
   "cell_type": "code",
   "execution_count": 19,
   "id": "b386f403-830e-455d-8088-b52148eaa256",
   "metadata": {},
   "outputs": [],
   "source": [
    "X=X.reshape((-1,1))"
   ]
  },
  {
   "cell_type": "code",
   "execution_count": 20,
   "id": "8a9168fd-b834-4634-8cb6-a6aa99ef3e37",
   "metadata": {},
   "outputs": [
    {
     "data": {
      "text/plain": [
       "array([[ 4],\n",
       "       [ 5],\n",
       "       [ 7],\n",
       "       [10],\n",
       "       [10],\n",
       "       [11],\n",
       "       [13],\n",
       "       [11],\n",
       "       [56],\n",
       "       [80],\n",
       "       [90],\n",
       "       [12]])"
      ]
     },
     "execution_count": 20,
     "metadata": {},
     "output_type": "execute_result"
    }
   ],
   "source": [
    "X"
   ]
  },
  {
   "cell_type": "code",
   "execution_count": 24,
   "id": "c9939aa0-08ea-40bf-a37d-18ba45119e67",
   "metadata": {},
   "outputs": [
    {
     "data": {
      "text/plain": [
       "array([[ 4,  5,  7, 10, 10, 11, 13, 11, 56, 80, 90, 12]])"
      ]
     },
     "execution_count": 24,
     "metadata": {},
     "output_type": "execute_result"
    }
   ],
   "source": [
    "y=X.T #becomes a row vector\n",
    "y"
   ]
  },
  {
   "cell_type": "code",
   "execution_count": 26,
   "id": "a3007adc-69ce-4f0e-8de7-427dd7edff68",
   "metadata": {},
   "outputs": [
    {
     "data": {
      "text/plain": [
       "4"
      ]
     },
     "execution_count": 26,
     "metadata": {},
     "output_type": "execute_result"
    }
   ],
   "source": [
    "y[0][0]"
   ]
  },
  {
   "cell_type": "code",
   "execution_count": 27,
   "id": "09d9cb4f-55eb-4ad2-ab76-7ef196f96a05",
   "metadata": {},
   "outputs": [
    {
     "data": {
      "text/plain": [
       "11"
      ]
     },
     "execution_count": 27,
     "metadata": {},
     "output_type": "execute_result"
    }
   ],
   "source": [
    "y[0][5]"
   ]
  },
  {
   "cell_type": "code",
   "execution_count": 28,
   "id": "a24c0b64-1614-4998-a908-d32198e66803",
   "metadata": {},
   "outputs": [
    {
     "name": "stdout",
     "output_type": "stream",
     "text": [
      "(50, 25, 3)\n",
      "(3, 50, 25)\n",
      "(3,)\n",
      "(25,)\n"
     ]
    }
   ],
   "source": [
    "# Transpose of Tensor\n",
    "T.shape\n",
    "\n",
    "#print(T[0][0])\n",
    "print(T.shape)\n",
    "T1 = np.transpose(T,axes=(2,0,1))\n",
    "print(T1.shape)\n",
    "\n",
    "print(T[0][0].shape)\n",
    "print(T1[0][0].shape)"
   ]
  },
  {
   "cell_type": "markdown",
   "id": "bf42e726-31e4-4f5d-9407-29cdf8774cb6",
   "metadata": {},
   "source": [
    "## 4. Broadcasting\n",
    "\n",
    "You can add a scalar to a vector, and numpy will add it to each element in the vector\n",
    "\n",
    "$\\boldsymbol{x} + a = \\boldsymbol{x}_i + a$\n",
    "\n",
    "Similarly you can add a vector to a matrix, and numpy will add the vector to each column of the matrix"
   ]
  },
  {
   "cell_type": "code",
   "execution_count": 29,
   "id": "cc36b690-ccc6-4bcd-9527-3a8ffb5a11e0",
   "metadata": {},
   "outputs": [
    {
     "name": "stdout",
     "output_type": "stream",
     "text": [
      "[1 2 3 4]\n",
      "[5 6 7 8]\n"
     ]
    }
   ],
   "source": [
    "x = np.array([1,2,3,4]) #only a feature of numpy\n",
    "print(x)\n",
    "print(x+4) #adding scalar "
   ]
  },
  {
   "cell_type": "code",
   "execution_count": 30,
   "id": "5f6dcdc3-15c7-4205-8c0c-38044cca0136",
   "metadata": {},
   "outputs": [
    {
     "name": "stdout",
     "output_type": "stream",
     "text": [
      "[[10 20 30 40]\n",
      " [40 50 60 70]]\n",
      "[[11 22 33 44]\n",
      " [41 52 63 74]]\n"
     ]
    }
   ],
   "source": [
    "X = np.array([[10,20,30,40], #adding vector to matrix\n",
    "             [40,50,60,70]]) \n",
    "\n",
    "print(X)\n",
    "print(X + x)"
   ]
  },
  {
   "cell_type": "markdown",
   "id": "26778274-9dac-4260-bcb5-914678a08413",
   "metadata": {},
   "source": [
    "## 5. Matrix Multiplication\n",
    "\n",
    "This is perhaps one operation that you would use quite frequently in any ML/DL model. You should remember a few things about multiplication\n",
    "\n",
    "$\\boldsymbol{C} = \\boldsymbol{A} \\boldsymbol{B}$ is only defined when the second dimension of $\\boldsymbol{A}$ matches the first dimension of $\\boldsymbol{B}$\n",
    "Further, if $\\boldsymbol{A}$ is of shape (m, n) and $\\boldsymbol{B}$ of shape (n, p), then $\\boldsymbol{C}$ is of shape (m, p)\n",
    "\n",
    "This operation is concretely defined as $C_{i,j} = \\sum_k A_{i, k} B_{k, j}$\n",
    "\n",
    "$\\boldsymbol{C}_{i, j}$ is computed by taking the dot product of $i$-th row of $\\boldsymbol{A}$ with $j$-th column of $\\boldsymbol{B}$\n",
    "\n",
    "A more useful method to think of matrix multiplcation is as linear combination of columns of $\\boldsymbol{A}$ weighted by column entries of $\\boldsymbol{B}$\n",
    "Matrix Multiplication\n",
    "\n",
    "time complexity - O(N^3)"
   ]
  },
  {
   "cell_type": "code",
   "execution_count": 31,
   "id": "bbd6fb87-846f-472d-9ef7-aa6d447bf793",
   "metadata": {},
   "outputs": [
    {
     "name": "stdout",
     "output_type": "stream",
     "text": [
      "[[ 6  6]\n",
      " [12 14]]\n"
     ]
    }
   ],
   "source": [
    "A = np.array([[1,2],\n",
    "              [3,4]])\n",
    "\n",
    "B = np.array([[0,2],\n",
    "              [3,2]])\n",
    "\n",
    "C = np.dot(A,B)\n",
    "print(C)"
   ]
  },
  {
   "cell_type": "markdown",
   "id": "3d4fb279-3ce9-4c6a-a3be-b8b22d5a9c6c",
   "metadata": {},
   "source": [
    "## 6. Element Wise multiplication: Hadamard product\n",
    "\n",
    "Element wise multiplication $\\boldsymbol{A} \\odot \\boldsymbol{B}$\n",
    "\n",
    "Notice how numpy uses the * for this. Important to be careful, and not to confuse this with matrix multiplication. Matrix of same shape is required."
   ]
  },
  {
   "cell_type": "code",
   "execution_count": 32,
   "id": "98ed50ea-1357-4efa-a157-339aacacab58",
   "metadata": {},
   "outputs": [
    {
     "data": {
      "text/plain": [
       "array([[0, 4],\n",
       "       [9, 8]])"
      ]
     },
     "execution_count": 32,
     "metadata": {},
     "output_type": "execute_result"
    }
   ],
   "source": [
    "A = np.array([[1,2],\n",
    "              [3,4]])\n",
    "\n",
    "B = np.array([[0,2],\n",
    "              [3,2]])\n",
    "\n",
    "A*B"
   ]
  },
  {
   "cell_type": "markdown",
   "id": "26ac230c-821a-4af0-afc8-6f54ed91a211",
   "metadata": {},
   "source": [
    "## 7. Norms\n",
    "Norm can be thought of as a proxy for size of a vector. Magnitude of vector.\n",
    "\n",
    "We define $L^p$ norm $\\Vert \\boldsymbol{x}\\Vert _p = (\\sum |\\boldsymbol{x}_i|^{p})^{\\frac{1}{p}}$\n",
    "\n",
    "$p \\ge 1, p \\in \\Re$\n",
    "\n",
    "Norm is a function that maps vectors to non-negative values. A norm satisfies the following properties:\n",
    "\n",
    "f(x)=0 ==> x=0\n",
    "\n",
    "$f(\\boldsymbol{x} + \\boldsymbol{y}) \\le f(\\boldsymbol{x}) + f(\\boldsymbol{y})$ (Triangle inequality)\n",
    "\n",
    "$\\forall \\ \\alpha \\in \\Re, \\ f(\\alpha \\ \\boldsymbol{x}) = |\\alpha|\\ f(\\boldsymbol{x})$\n",
    "\n",
    "$L^2$ norm is called the Euclidean norm, often $\\Vert \\boldsymbol{x} \\Vert$\n",
    "\n",
    "We work mostly with squared $L^2$ norm which can be computed as $\\boldsymbol{x}^T \\boldsymbol{x}$\n",
    "\n",
    "Squared $L^2$ norm is easier to work with as its derivative is $2 * \\boldsymbol{x}$\n",
    "\n",
    "In some ML applications it is important to distinguish between elements that are zero and small but zero. Squared $L^2$ norm may not be the right choice as it grows very slowly near the origin\n",
    "\n",
    "$L^1$ norm is the absolute sum of all members of a vector\n",
    "\n",
    "Useful when difference between 0 and non-zero elements is essential.\n",
    "Max-Norm: $L^\\infty$: This simplifies to absoute value of the element with highest magnitude"
   ]
  },
  {
   "cell_type": "code",
   "execution_count": 33,
   "id": "b52d4930-02ce-4e9b-85d0-d53f15ab753b",
   "metadata": {},
   "outputs": [
    {
     "name": "stdout",
     "output_type": "stream",
     "text": [
      "5.0\n",
      "7.0\n",
      "4.0\n"
     ]
    }
   ],
   "source": [
    "x = np.array([-3,4])\n",
    "\n",
    "lp2 = np.linalg.norm(x) #by default it gives lp2\n",
    "print(lp2)\n",
    "\n",
    "lp1 = np.linalg.norm(x,ord=1) #gives absolute sum\n",
    "print(lp1)\n",
    "\n",
    "lpinf = np.linalg.norm(x,ord=np.inf) #infinity norm\n",
    "print(lpinf)"
   ]
  },
  {
   "cell_type": "markdown",
   "id": "cb4545b1-1e87-434b-a3c1-a82b42d1011e",
   "metadata": {},
   "source": [
    "## 8. Determinants"
   ]
  },
  {
   "cell_type": "code",
   "execution_count": 34,
   "id": "ac30699c-3aeb-41ac-9d48-50eb099651c5",
   "metadata": {},
   "outputs": [
    {
     "data": {
      "text/plain": [
       "-2.0000000000000004"
      ]
     },
     "execution_count": 34,
     "metadata": {},
     "output_type": "execute_result"
    }
   ],
   "source": [
    "A = np.array([[1,2],\n",
    "              [3,4]])\n",
    "\n",
    "\n",
    "np.linalg.det(A)"
   ]
  },
  {
   "cell_type": "markdown",
   "id": "79d3ce35-d371-46ad-84ff-bca9d52359a6",
   "metadata": {},
   "source": [
    "## 9. Inverse"
   ]
  },
  {
   "cell_type": "code",
   "execution_count": 35,
   "id": "698c7ce3-8d73-4913-9945-86680b9ae597",
   "metadata": {},
   "outputs": [
    {
     "name": "stdout",
     "output_type": "stream",
     "text": [
      "[[-2.   1. ]\n",
      " [ 1.5 -0.5]]\n"
     ]
    }
   ],
   "source": [
    "A = np.array([[1,2],\n",
    "              [3,4]])\n",
    "Ainv = np.linalg.inv(A)\n",
    "\n",
    "print(Ainv)"
   ]
  },
  {
   "cell_type": "code",
   "execution_count": 39,
   "id": "c6652634-83cf-4299-b32f-d3fda4a0fa5e",
   "metadata": {},
   "outputs": [
    {
     "data": {
      "text/plain": [
       "array([[1.00000000e+00, 1.11022302e-16],\n",
       "       [0.00000000e+00, 1.00000000e+00]])"
      ]
     },
     "execution_count": 39,
     "metadata": {},
     "output_type": "execute_result"
    }
   ],
   "source": [
    "np.dot(A,Ainv) #gives identity matrix"
   ]
  },
  {
   "cell_type": "code",
   "execution_count": 40,
   "id": "98707fa3-3fd2-422b-ab33-8425da8aaa16",
   "metadata": {},
   "outputs": [
    {
     "name": "stdout",
     "output_type": "stream",
     "text": [
      "[[-2.   1. ]\n",
      " [ 1.5 -0.5]]\n"
     ]
    }
   ],
   "source": [
    "pinv = np.linalg.pinv(A)\n",
    "print(pinv)  #computes pseudo-inverse in case determinant is 0"
   ]
  },
  {
   "cell_type": "markdown",
   "id": "08916818-1f1a-4547-9309-f43eefe0cca5",
   "metadata": {},
   "source": [
    "## 10. Solve a System of Equations"
   ]
  },
  {
   "cell_type": "code",
   "execution_count": 41,
   "id": "048df318-bdd9-4a43-9ff8-e58fd76d4a74",
   "metadata": {},
   "outputs": [],
   "source": [
    "a = np.array([[2,3], [3,1]])\n",
    "b = np.array([8,5])"
   ]
  },
  {
   "cell_type": "code",
   "execution_count": 42,
   "id": "010423fa-7885-4fb6-92f1-d3160cdac222",
   "metadata": {},
   "outputs": [
    {
     "data": {
      "text/plain": [
       "array([1., 2.])"
      ]
     },
     "execution_count": 42,
     "metadata": {},
     "output_type": "execute_result"
    }
   ],
   "source": [
    "np.linalg.solve(a,b)"
   ]
  }
 ],
 "metadata": {
  "kernelspec": {
   "display_name": "Python 3",
   "language": "python",
   "name": "python3"
  },
  "language_info": {
   "codemirror_mode": {
    "name": "ipython",
    "version": 3
   },
   "file_extension": ".py",
   "mimetype": "text/x-python",
   "name": "python",
   "nbconvert_exporter": "python",
   "pygments_lexer": "ipython3",
   "version": "3.8.8"
  }
 },
 "nbformat": 4,
 "nbformat_minor": 5
}
